{
 "cells": [
  {
   "cell_type": "markdown",
   "id": "97d623c5",
   "metadata": {},
   "source": [
    "Aquesta base de dades recull les experiències laborals que han tingut les persones usuàries del servei.\n",
    "\n",
    "En aquest cas hem creat les següents columnes:\n",
    "\n",
    "a.\t**Data incorporació mercat laboral** on hem introduït la  primera data d’inici de contracte de les diferents experiències laborals\n",
    "\n",
    "b.\t**Temps total experiència** on hem recollit el temps total de de les diferents experiències laborals\n",
    "\n",
    "c.\t**Nombre d’experiències** on hem recollit el nombre d’experiències laborals que ha tingut la persona"
   ]
  },
  {
   "cell_type": "code",
   "execution_count": 1,
   "id": "f4163fac",
   "metadata": {},
   "outputs": [],
   "source": [
    "import pandas as pd"
   ]
  },
  {
   "cell_type": "code",
   "execution_count": 2,
   "id": "8cf2bc7f",
   "metadata": {},
   "outputs": [],
   "source": [
    "df=pd.read_csv('Experiència Laboral.csv',encoding='utf-8',sep=';')\n",
    "df_dic=pd.read_csv('Dict.csv',encoding='utf-8',sep=',')\n",
    "\n",
    "df_i=df"
   ]
  },
  {
   "cell_type": "code",
   "execution_count": 3,
   "id": "5bb4c57a",
   "metadata": {},
   "outputs": [],
   "source": [
    "#seleccionem columnes\n",
    "df=df[['stic_experiencia_laboral_contactscontacts_ida','Càrrec/Lloc de Feina','Empresa','Data inici','Data final','Motiu finalització del contracte']]"
   ]
  },
  {
   "cell_type": "code",
   "execution_count": 4,
   "id": "c39b5314",
   "metadata": {},
   "outputs": [
    {
     "name": "stderr",
     "output_type": "stream",
     "text": [
      "/tmp/ipykernel_13500/3394776135.py:2: SettingWithCopyWarning: \n",
      "A value is trying to be set on a copy of a slice from a DataFrame\n",
      "\n",
      "See the caveats in the documentation: https://pandas.pydata.org/pandas-docs/stable/user_guide/indexing.html#returning-a-view-versus-a-copy\n",
      "  df.rename(columns={'stic_experiencia_laboral_contactscontacts_ida':'ID'},inplace=True)\n"
     ]
    }
   ],
   "source": [
    "#cambiem el nom de la columna stic_experiencia_laboral_contactscontacts_ida per ID\n",
    "df.rename(columns={'stic_experiencia_laboral_contactscontacts_ida':'ID'},inplace=True)"
   ]
  },
  {
   "cell_type": "code",
   "execution_count": 5,
   "id": "2d703688",
   "metadata": {},
   "outputs": [
    {
     "name": "stderr",
     "output_type": "stream",
     "text": [
      "/tmp/ipykernel_13500/4012389730.py:2: SettingWithCopyWarning: \n",
      "A value is trying to be set on a copy of a slice from a DataFrame.\n",
      "Try using .loc[row_indexer,col_indexer] = value instead\n",
      "\n",
      "See the caveats in the documentation: https://pandas.pydata.org/pandas-docs/stable/user_guide/indexing.html#returning-a-view-versus-a-copy\n",
      "  df['ID'] = df['ID'].map(df_dic.set_index('ID')['IDN'])\n"
     ]
    },
    {
     "data": {
      "text/html": [
       "<div>\n",
       "<style scoped>\n",
       "    .dataframe tbody tr th:only-of-type {\n",
       "        vertical-align: middle;\n",
       "    }\n",
       "\n",
       "    .dataframe tbody tr th {\n",
       "        vertical-align: top;\n",
       "    }\n",
       "\n",
       "    .dataframe thead th {\n",
       "        text-align: right;\n",
       "    }\n",
       "</style>\n",
       "<table border=\"1\" class=\"dataframe\">\n",
       "  <thead>\n",
       "    <tr style=\"text-align: right;\">\n",
       "      <th></th>\n",
       "      <th>ID</th>\n",
       "      <th>Càrrec/Lloc de Feina</th>\n",
       "      <th>Empresa</th>\n",
       "      <th>Data inici</th>\n",
       "      <th>Data final</th>\n",
       "      <th>Motiu finalització del contracte</th>\n",
       "    </tr>\n",
       "  </thead>\n",
       "  <tbody>\n",
       "    <tr>\n",
       "      <th>0</th>\n",
       "      <td>f0b9fa20-6d46-3e2b-8d75-5df772cb28d5</td>\n",
       "      <td>PRÀCTIQUES SOLDADURA</td>\n",
       "      <td>ESCOLA DEL TREBALL</td>\n",
       "      <td>07/01/2019</td>\n",
       "      <td>NaN</td>\n",
       "      <td>NaN</td>\n",
       "    </tr>\n",
       "    <tr>\n",
       "      <th>1</th>\n",
       "      <td>707b42d9-47ae-6a7b-e5f9-5bf42ebfa31e</td>\n",
       "      <td>Auxiliar Administrativa Institut Català de la ...</td>\n",
       "      <td>Institut català de la salut</td>\n",
       "      <td>NaN</td>\n",
       "      <td>NaN</td>\n",
       "      <td>NaN</td>\n",
       "    </tr>\n",
       "    <tr>\n",
       "      <th>2</th>\n",
       "      <td>192c9601-2996-00a7-2904-5cee874ded1e</td>\n",
       "      <td>AUXILIAR ADMINISTRATIVO</td>\n",
       "      <td>NaN</td>\n",
       "      <td>NaN</td>\n",
       "      <td>NaN</td>\n",
       "      <td>NaN</td>\n",
       "    </tr>\n",
       "    <tr>\n",
       "      <th>3</th>\n",
       "      <td>b71063b1-c757-200e-69ee-5d9c7a934efd</td>\n",
       "      <td>REPARTIDOR</td>\n",
       "      <td>AMAZON</td>\n",
       "      <td>01/01/2018</td>\n",
       "      <td>NaN</td>\n",
       "      <td>NaN</td>\n",
       "    </tr>\n",
       "    <tr>\n",
       "      <th>4</th>\n",
       "      <td>755a0d82-65a9-f11d-9d91-5e01e6fee9e1</td>\n",
       "      <td>gerent</td>\n",
       "      <td>VINE I QUEDA'T</td>\n",
       "      <td>01/01/2008</td>\n",
       "      <td>01/01/2012</td>\n",
       "      <td>canvi de negoci</td>\n",
       "    </tr>\n",
       "  </tbody>\n",
       "</table>\n",
       "</div>"
      ],
      "text/plain": [
       "                                     ID  \\\n",
       "0  f0b9fa20-6d46-3e2b-8d75-5df772cb28d5   \n",
       "1  707b42d9-47ae-6a7b-e5f9-5bf42ebfa31e   \n",
       "2  192c9601-2996-00a7-2904-5cee874ded1e   \n",
       "3  b71063b1-c757-200e-69ee-5d9c7a934efd   \n",
       "4  755a0d82-65a9-f11d-9d91-5e01e6fee9e1   \n",
       "\n",
       "                                Càrrec/Lloc de Feina  \\\n",
       "0                               PRÀCTIQUES SOLDADURA   \n",
       "1  Auxiliar Administrativa Institut Català de la ...   \n",
       "2                            AUXILIAR ADMINISTRATIVO   \n",
       "3                                         REPARTIDOR   \n",
       "4                                             gerent   \n",
       "\n",
       "                       Empresa  Data inici  Data final  \\\n",
       "0           ESCOLA DEL TREBALL  07/01/2019         NaN   \n",
       "1  Institut català de la salut         NaN         NaN   \n",
       "2                          NaN         NaN         NaN   \n",
       "3                       AMAZON  01/01/2018         NaN   \n",
       "4               VINE I QUEDA'T  01/01/2008  01/01/2012   \n",
       "\n",
       "  Motiu finalització del contracte  \n",
       "0                              NaN  \n",
       "1                              NaN  \n",
       "2                              NaN  \n",
       "3                              NaN  \n",
       "4                  canvi de negoci  "
      ]
     },
     "execution_count": 5,
     "metadata": {},
     "output_type": "execute_result"
    }
   ],
   "source": [
    "#a partir del diccionari creat anteriorment, cambiem la ID per tal d'evitar duplicats\n",
    "df['ID'] = df['ID'].map(df_dic.set_index('ID')['IDN'])\n",
    "df.head()"
   ]
  },
  {
   "cell_type": "code",
   "execution_count": 6,
   "id": "dfd69b28",
   "metadata": {},
   "outputs": [],
   "source": [
    "#Eliminem entrades sense 'ID'\n",
    "df = df.dropna(subset=[\"ID\"])"
   ]
  },
  {
   "cell_type": "code",
   "execution_count": 7,
   "id": "afc0878b",
   "metadata": {},
   "outputs": [
    {
     "data": {
      "text/plain": [
       "<AxesSubplot: title={'center': 'Dades incompletes a Experiència laboral'}>"
      ]
     },
     "execution_count": 7,
     "metadata": {},
     "output_type": "execute_result"
    },
    {
     "data": {
      "image/png": "[encoded data removed]",
      "text/plain": [
       "<Figure size 1800x720 with 3 Axes>"
      ]
     },
     "metadata": {
      "needs_background": "light"
     },
     "output_type": "display_data"
    }
   ],
   "source": [
    "#detectem el nombre de dades inclompletes\n",
    "import missingno as msno\n",
    "import matplotlib.pyplot as plt\n",
    "# Visualize the number of missing values as a bar chart\n",
    "plt.title('Dades incompletes a Experiència laboral',fontsize=40, pad=30)\n",
    "msno.bar(df, color='b',fontsize=20)"
   ]
  },
  {
   "cell_type": "markdown",
   "id": "8eae8a96",
   "metadata": {},
   "source": [
    "Segons la la quanitat de nans i la importància de la informació seleccionem les següents variables\n"
   ]
  },
  {
   "cell_type": "code",
   "execution_count": 8,
   "id": "02b00c93",
   "metadata": {},
   "outputs": [],
   "source": [
    "df=df[['ID','Càrrec/Lloc de Feina','Empresa','Data inici','Data final']]"
   ]
  },
  {
   "cell_type": "code",
   "execution_count": 9,
   "id": "b8eb0bc3",
   "metadata": {},
   "outputs": [
    {
     "name": "stderr",
     "output_type": "stream",
     "text": [
      "/tmp/ipykernel_13500/3087676023.py:2: UserWarning: Parsing dates in DD/MM/YYYY format when dayfirst=False (the default) was specified. This may lead to inconsistently parsed dates! Specify a format to ensure consistent parsing.\n",
      "  df['Data inici']=pd.to_datetime(df['Data inici'])\n",
      "/tmp/ipykernel_13500/3087676023.py:3: UserWarning: Parsing dates in DD/MM/YYYY format when dayfirst=False (the default) was specified. This may lead to inconsistently parsed dates! Specify a format to ensure consistent parsing.\n",
      "  df['Data final']=pd.to_datetime(df['Data final'])\n"
     ]
    },
    {
     "data": {
      "text/html": [
       "<div>\n",
       "<style scoped>\n",
       "    .dataframe tbody tr th:only-of-type {\n",
       "        vertical-align: middle;\n",
       "    }\n",
       "\n",
       "    .dataframe tbody tr th {\n",
       "        vertical-align: top;\n",
       "    }\n",
       "\n",
       "    .dataframe thead th {\n",
       "        text-align: right;\n",
       "    }\n",
       "</style>\n",
       "<table border=\"1\" class=\"dataframe\">\n",
       "  <thead>\n",
       "    <tr style=\"text-align: right;\">\n",
       "      <th></th>\n",
       "      <th>ID</th>\n",
       "      <th>Càrrec/Lloc de Feina</th>\n",
       "      <th>Empresa</th>\n",
       "      <th>Data inici</th>\n",
       "      <th>Data final</th>\n",
       "    </tr>\n",
       "  </thead>\n",
       "  <tbody>\n",
       "    <tr>\n",
       "      <th>0</th>\n",
       "      <td>f0b9fa20-6d46-3e2b-8d75-5df772cb28d5</td>\n",
       "      <td>PRÀCTIQUES SOLDADURA</td>\n",
       "      <td>ESCOLA DEL TREBALL</td>\n",
       "      <td>2019-07-01</td>\n",
       "      <td>NaT</td>\n",
       "    </tr>\n",
       "    <tr>\n",
       "      <th>1</th>\n",
       "      <td>707b42d9-47ae-6a7b-e5f9-5bf42ebfa31e</td>\n",
       "      <td>Auxiliar Administrativa Institut Català de la ...</td>\n",
       "      <td>Institut català de la salut</td>\n",
       "      <td>NaT</td>\n",
       "      <td>NaT</td>\n",
       "    </tr>\n",
       "    <tr>\n",
       "      <th>2</th>\n",
       "      <td>192c9601-2996-00a7-2904-5cee874ded1e</td>\n",
       "      <td>AUXILIAR ADMINISTRATIVO</td>\n",
       "      <td>NaN</td>\n",
       "      <td>NaT</td>\n",
       "      <td>NaT</td>\n",
       "    </tr>\n",
       "    <tr>\n",
       "      <th>3</th>\n",
       "      <td>b71063b1-c757-200e-69ee-5d9c7a934efd</td>\n",
       "      <td>REPARTIDOR</td>\n",
       "      <td>AMAZON</td>\n",
       "      <td>2018-01-01</td>\n",
       "      <td>NaT</td>\n",
       "    </tr>\n",
       "    <tr>\n",
       "      <th>4</th>\n",
       "      <td>755a0d82-65a9-f11d-9d91-5e01e6fee9e1</td>\n",
       "      <td>gerent</td>\n",
       "      <td>VINE I QUEDA'T</td>\n",
       "      <td>2008-01-01</td>\n",
       "      <td>2012-01-01</td>\n",
       "    </tr>\n",
       "  </tbody>\n",
       "</table>\n",
       "</div>"
      ],
      "text/plain": [
       "                                     ID  \\\n",
       "0  f0b9fa20-6d46-3e2b-8d75-5df772cb28d5   \n",
       "1  707b42d9-47ae-6a7b-e5f9-5bf42ebfa31e   \n",
       "2  192c9601-2996-00a7-2904-5cee874ded1e   \n",
       "3  b71063b1-c757-200e-69ee-5d9c7a934efd   \n",
       "4  755a0d82-65a9-f11d-9d91-5e01e6fee9e1   \n",
       "\n",
       "                                Càrrec/Lloc de Feina  \\\n",
       "0                               PRÀCTIQUES SOLDADURA   \n",
       "1  Auxiliar Administrativa Institut Català de la ...   \n",
       "2                            AUXILIAR ADMINISTRATIVO   \n",
       "3                                         REPARTIDOR   \n",
       "4                                             gerent   \n",
       "\n",
       "                       Empresa Data inici Data final  \n",
       "0           ESCOLA DEL TREBALL 2019-07-01        NaT  \n",
       "1  Institut català de la salut        NaT        NaT  \n",
       "2                          NaN        NaT        NaT  \n",
       "3                       AMAZON 2018-01-01        NaT  \n",
       "4               VINE I QUEDA'T 2008-01-01 2012-01-01  "
      ]
     },
     "execution_count": 9,
     "metadata": {},
     "output_type": "execute_result"
    }
   ],
   "source": [
    "#pasar Data inici y Data final a forma datetime\n",
    "df['Data inici']=pd.to_datetime(df['Data inici'])\n",
    "df['Data final']=pd.to_datetime(df['Data final'])\n",
    "df.head()"
   ]
  },
  {
   "cell_type": "markdown",
   "id": "cde61c01",
   "metadata": {},
   "source": [
    "A partir de les dades que tenim creiem que calcular el temps de duració del contracte ens podrà ajudar a en la predicció del temps que triga una persona a trobar feina"
   ]
  },
  {
   "cell_type": "code",
   "execution_count": 10,
   "id": "4233c6a3",
   "metadata": {},
   "outputs": [
    {
     "data": {
      "text/html": [
       "<div>\n",
       "<style scoped>\n",
       "    .dataframe tbody tr th:only-of-type {\n",
       "        vertical-align: middle;\n",
       "    }\n",
       "\n",
       "    .dataframe tbody tr th {\n",
       "        vertical-align: top;\n",
       "    }\n",
       "\n",
       "    .dataframe thead th {\n",
       "        text-align: right;\n",
       "    }\n",
       "</style>\n",
       "<table border=\"1\" class=\"dataframe\">\n",
       "  <thead>\n",
       "    <tr style=\"text-align: right;\">\n",
       "      <th></th>\n",
       "      <th>ID</th>\n",
       "      <th>Càrrec/Lloc de Feina</th>\n",
       "      <th>Empresa</th>\n",
       "      <th>Data inici</th>\n",
       "      <th>Data final</th>\n",
       "      <th>Temps</th>\n",
       "    </tr>\n",
       "  </thead>\n",
       "  <tbody>\n",
       "    <tr>\n",
       "      <th>0</th>\n",
       "      <td>f0b9fa20-6d46-3e2b-8d75-5df772cb28d5</td>\n",
       "      <td>PRÀCTIQUES SOLDADURA</td>\n",
       "      <td>ESCOLA DEL TREBALL</td>\n",
       "      <td>2019-07-01</td>\n",
       "      <td>NaT</td>\n",
       "      <td>NaN</td>\n",
       "    </tr>\n",
       "    <tr>\n",
       "      <th>1</th>\n",
       "      <td>707b42d9-47ae-6a7b-e5f9-5bf42ebfa31e</td>\n",
       "      <td>Auxiliar Administrativa Institut Català de la ...</td>\n",
       "      <td>Institut català de la salut</td>\n",
       "      <td>NaT</td>\n",
       "      <td>NaT</td>\n",
       "      <td>NaN</td>\n",
       "    </tr>\n",
       "    <tr>\n",
       "      <th>2</th>\n",
       "      <td>192c9601-2996-00a7-2904-5cee874ded1e</td>\n",
       "      <td>AUXILIAR ADMINISTRATIVO</td>\n",
       "      <td>NaN</td>\n",
       "      <td>NaT</td>\n",
       "      <td>NaT</td>\n",
       "      <td>NaN</td>\n",
       "    </tr>\n",
       "    <tr>\n",
       "      <th>3</th>\n",
       "      <td>b71063b1-c757-200e-69ee-5d9c7a934efd</td>\n",
       "      <td>REPARTIDOR</td>\n",
       "      <td>AMAZON</td>\n",
       "      <td>2018-01-01</td>\n",
       "      <td>NaT</td>\n",
       "      <td>NaN</td>\n",
       "    </tr>\n",
       "    <tr>\n",
       "      <th>4</th>\n",
       "      <td>755a0d82-65a9-f11d-9d91-5e01e6fee9e1</td>\n",
       "      <td>gerent</td>\n",
       "      <td>VINE I QUEDA'T</td>\n",
       "      <td>2008-01-01</td>\n",
       "      <td>2012-01-01</td>\n",
       "      <td>1461.0</td>\n",
       "    </tr>\n",
       "  </tbody>\n",
       "</table>\n",
       "</div>"
      ],
      "text/plain": [
       "                                     ID  \\\n",
       "0  f0b9fa20-6d46-3e2b-8d75-5df772cb28d5   \n",
       "1  707b42d9-47ae-6a7b-e5f9-5bf42ebfa31e   \n",
       "2  192c9601-2996-00a7-2904-5cee874ded1e   \n",
       "3  b71063b1-c757-200e-69ee-5d9c7a934efd   \n",
       "4  755a0d82-65a9-f11d-9d91-5e01e6fee9e1   \n",
       "\n",
       "                                Càrrec/Lloc de Feina  \\\n",
       "0                               PRÀCTIQUES SOLDADURA   \n",
       "1  Auxiliar Administrativa Institut Català de la ...   \n",
       "2                            AUXILIAR ADMINISTRATIVO   \n",
       "3                                         REPARTIDOR   \n",
       "4                                             gerent   \n",
       "\n",
       "                       Empresa Data inici Data final   Temps  \n",
       "0           ESCOLA DEL TREBALL 2019-07-01        NaT     NaN  \n",
       "1  Institut català de la salut        NaT        NaT     NaN  \n",
       "2                          NaN        NaT        NaT     NaN  \n",
       "3                       AMAZON 2018-01-01        NaT     NaN  \n",
       "4               VINE I QUEDA'T 2008-01-01 2012-01-01  1461.0  "
      ]
     },
     "execution_count": 10,
     "metadata": {},
     "output_type": "execute_result"
    }
   ],
   "source": [
    "#crear columna amb nombre Temps para calcular el temps de duració del contracte\n",
    "df['Temps']=df['Data final']-df['Data inici']\n",
    "df['Temps']=df['Temps'].dt.days\n",
    "df.head()"
   ]
  },
  {
   "cell_type": "code",
   "execution_count": 11,
   "id": "44f06ff7",
   "metadata": {},
   "outputs": [
    {
     "data": {
      "text/html": [
       "<div>\n",
       "<style scoped>\n",
       "    .dataframe tbody tr th:only-of-type {\n",
       "        vertical-align: middle;\n",
       "    }\n",
       "\n",
       "    .dataframe tbody tr th {\n",
       "        vertical-align: top;\n",
       "    }\n",
       "\n",
       "    .dataframe thead th {\n",
       "        text-align: right;\n",
       "    }\n",
       "</style>\n",
       "<table border=\"1\" class=\"dataframe\">\n",
       "  <thead>\n",
       "    <tr style=\"text-align: right;\">\n",
       "      <th></th>\n",
       "      <th>ID</th>\n",
       "      <th>Càrrec/Lloc de Feina</th>\n",
       "      <th>Empresa</th>\n",
       "      <th>Data inici</th>\n",
       "      <th>Data final</th>\n",
       "      <th>Temps</th>\n",
       "      <th>Temps total experiència</th>\n",
       "    </tr>\n",
       "  </thead>\n",
       "  <tbody>\n",
       "    <tr>\n",
       "      <th>0</th>\n",
       "      <td>f0b9fa20-6d46-3e2b-8d75-5df772cb28d5</td>\n",
       "      <td>PRÀCTIQUES SOLDADURA</td>\n",
       "      <td>ESCOLA DEL TREBALL</td>\n",
       "      <td>2019-07-01</td>\n",
       "      <td>NaT</td>\n",
       "      <td>NaN</td>\n",
       "      <td>738.0</td>\n",
       "    </tr>\n",
       "    <tr>\n",
       "      <th>1</th>\n",
       "      <td>707b42d9-47ae-6a7b-e5f9-5bf42ebfa31e</td>\n",
       "      <td>Auxiliar Administrativa Institut Català de la ...</td>\n",
       "      <td>Institut català de la salut</td>\n",
       "      <td>NaT</td>\n",
       "      <td>NaT</td>\n",
       "      <td>NaN</td>\n",
       "      <td>0.0</td>\n",
       "    </tr>\n",
       "    <tr>\n",
       "      <th>2</th>\n",
       "      <td>192c9601-2996-00a7-2904-5cee874ded1e</td>\n",
       "      <td>AUXILIAR ADMINISTRATIVO</td>\n",
       "      <td>NaN</td>\n",
       "      <td>NaT</td>\n",
       "      <td>NaT</td>\n",
       "      <td>NaN</td>\n",
       "      <td>0.0</td>\n",
       "    </tr>\n",
       "    <tr>\n",
       "      <th>3</th>\n",
       "      <td>b71063b1-c757-200e-69ee-5d9c7a934efd</td>\n",
       "      <td>REPARTIDOR</td>\n",
       "      <td>AMAZON</td>\n",
       "      <td>2018-01-01</td>\n",
       "      <td>NaT</td>\n",
       "      <td>NaN</td>\n",
       "      <td>1461.0</td>\n",
       "    </tr>\n",
       "    <tr>\n",
       "      <th>4</th>\n",
       "      <td>755a0d82-65a9-f11d-9d91-5e01e6fee9e1</td>\n",
       "      <td>gerent</td>\n",
       "      <td>VINE I QUEDA'T</td>\n",
       "      <td>2008-01-01</td>\n",
       "      <td>2012-01-01</td>\n",
       "      <td>1461.0</td>\n",
       "      <td>7811.0</td>\n",
       "    </tr>\n",
       "  </tbody>\n",
       "</table>\n",
       "</div>"
      ],
      "text/plain": [
       "                                     ID  \\\n",
       "0  f0b9fa20-6d46-3e2b-8d75-5df772cb28d5   \n",
       "1  707b42d9-47ae-6a7b-e5f9-5bf42ebfa31e   \n",
       "2  192c9601-2996-00a7-2904-5cee874ded1e   \n",
       "3  b71063b1-c757-200e-69ee-5d9c7a934efd   \n",
       "4  755a0d82-65a9-f11d-9d91-5e01e6fee9e1   \n",
       "\n",
       "                                Càrrec/Lloc de Feina  \\\n",
       "0                               PRÀCTIQUES SOLDADURA   \n",
       "1  Auxiliar Administrativa Institut Català de la ...   \n",
       "2                            AUXILIAR ADMINISTRATIVO   \n",
       "3                                         REPARTIDOR   \n",
       "4                                             gerent   \n",
       "\n",
       "                       Empresa Data inici Data final   Temps  \\\n",
       "0           ESCOLA DEL TREBALL 2019-07-01        NaT     NaN   \n",
       "1  Institut català de la salut        NaT        NaT     NaN   \n",
       "2                          NaN        NaT        NaT     NaN   \n",
       "3                       AMAZON 2018-01-01        NaT     NaN   \n",
       "4               VINE I QUEDA'T 2008-01-01 2012-01-01  1461.0   \n",
       "\n",
       "   Temps total experiència  \n",
       "0                    738.0  \n",
       "1                      0.0  \n",
       "2                      0.0  \n",
       "3                   1461.0  \n",
       "4                   7811.0  "
      ]
     },
     "execution_count": 11,
     "metadata": {},
     "output_type": "execute_result"
    }
   ],
   "source": [
    "#sumem els valors de Temps per tal de calcular el temps total d'experiència de la persona\n",
    "df['Temps total experiència'] = df.groupby('ID')['Temps'].transform('sum')\n",
    "df.head()"
   ]
  },
  {
   "cell_type": "markdown",
   "id": "8aff2dba",
   "metadata": {},
   "source": [
    "La data a la que una persona s'incorpora al mercat laboral també hem pensat que ens pot donar una informació rellevant per la qual cosa creem aquesta variable"
   ]
  },
  {
   "cell_type": "code",
   "execution_count": 12,
   "id": "dfa4dbdd",
   "metadata": {},
   "outputs": [
    {
     "data": {
      "text/html": [
       "<div>\n",
       "<style scoped>\n",
       "    .dataframe tbody tr th:only-of-type {\n",
       "        vertical-align: middle;\n",
       "    }\n",
       "\n",
       "    .dataframe tbody tr th {\n",
       "        vertical-align: top;\n",
       "    }\n",
       "\n",
       "    .dataframe thead th {\n",
       "        text-align: right;\n",
       "    }\n",
       "</style>\n",
       "<table border=\"1\" class=\"dataframe\">\n",
       "  <thead>\n",
       "    <tr style=\"text-align: right;\">\n",
       "      <th></th>\n",
       "      <th>ID</th>\n",
       "      <th>Càrrec/Lloc de Feina</th>\n",
       "      <th>Empresa</th>\n",
       "      <th>Data inici</th>\n",
       "      <th>Data final</th>\n",
       "      <th>Temps</th>\n",
       "      <th>Temps total experiència</th>\n",
       "      <th>Data incorporació mercat laboral</th>\n",
       "    </tr>\n",
       "  </thead>\n",
       "  <tbody>\n",
       "    <tr>\n",
       "      <th>0</th>\n",
       "      <td>f0b9fa20-6d46-3e2b-8d75-5df772cb28d5</td>\n",
       "      <td>PRÀCTIQUES SOLDADURA</td>\n",
       "      <td>ESCOLA DEL TREBALL</td>\n",
       "      <td>2019-07-01</td>\n",
       "      <td>NaT</td>\n",
       "      <td>NaN</td>\n",
       "      <td>738.0</td>\n",
       "      <td>2018-03-08</td>\n",
       "    </tr>\n",
       "    <tr>\n",
       "      <th>1</th>\n",
       "      <td>707b42d9-47ae-6a7b-e5f9-5bf42ebfa31e</td>\n",
       "      <td>Auxiliar Administrativa Institut Català de la ...</td>\n",
       "      <td>Institut català de la salut</td>\n",
       "      <td>NaT</td>\n",
       "      <td>NaT</td>\n",
       "      <td>NaN</td>\n",
       "      <td>0.0</td>\n",
       "      <td>NaT</td>\n",
       "    </tr>\n",
       "    <tr>\n",
       "      <th>2</th>\n",
       "      <td>192c9601-2996-00a7-2904-5cee874ded1e</td>\n",
       "      <td>AUXILIAR ADMINISTRATIVO</td>\n",
       "      <td>NaN</td>\n",
       "      <td>NaT</td>\n",
       "      <td>NaT</td>\n",
       "      <td>NaN</td>\n",
       "      <td>0.0</td>\n",
       "      <td>NaT</td>\n",
       "    </tr>\n",
       "    <tr>\n",
       "      <th>3</th>\n",
       "      <td>b71063b1-c757-200e-69ee-5d9c7a934efd</td>\n",
       "      <td>REPARTIDOR</td>\n",
       "      <td>AMAZON</td>\n",
       "      <td>2018-01-01</td>\n",
       "      <td>NaT</td>\n",
       "      <td>NaN</td>\n",
       "      <td>1461.0</td>\n",
       "      <td>2001-01-01</td>\n",
       "    </tr>\n",
       "    <tr>\n",
       "      <th>4</th>\n",
       "      <td>755a0d82-65a9-f11d-9d91-5e01e6fee9e1</td>\n",
       "      <td>gerent</td>\n",
       "      <td>VINE I QUEDA'T</td>\n",
       "      <td>2008-01-01</td>\n",
       "      <td>2012-01-01</td>\n",
       "      <td>1461.0</td>\n",
       "      <td>7811.0</td>\n",
       "      <td>1997-01-01</td>\n",
       "    </tr>\n",
       "  </tbody>\n",
       "</table>\n",
       "</div>"
      ],
      "text/plain": [
       "                                     ID  \\\n",
       "0  f0b9fa20-6d46-3e2b-8d75-5df772cb28d5   \n",
       "1  707b42d9-47ae-6a7b-e5f9-5bf42ebfa31e   \n",
       "2  192c9601-2996-00a7-2904-5cee874ded1e   \n",
       "3  b71063b1-c757-200e-69ee-5d9c7a934efd   \n",
       "4  755a0d82-65a9-f11d-9d91-5e01e6fee9e1   \n",
       "\n",
       "                                Càrrec/Lloc de Feina  \\\n",
       "0                               PRÀCTIQUES SOLDADURA   \n",
       "1  Auxiliar Administrativa Institut Català de la ...   \n",
       "2                            AUXILIAR ADMINISTRATIVO   \n",
       "3                                         REPARTIDOR   \n",
       "4                                             gerent   \n",
       "\n",
       "                       Empresa Data inici Data final   Temps  \\\n",
       "0           ESCOLA DEL TREBALL 2019-07-01        NaT     NaN   \n",
       "1  Institut català de la salut        NaT        NaT     NaN   \n",
       "2                          NaN        NaT        NaT     NaN   \n",
       "3                       AMAZON 2018-01-01        NaT     NaN   \n",
       "4               VINE I QUEDA'T 2008-01-01 2012-01-01  1461.0   \n",
       "\n",
       "   Temps total experiència Data incorporació mercat laboral  \n",
       "0                    738.0                       2018-03-08  \n",
       "1                      0.0                              NaT  \n",
       "2                      0.0                              NaT  \n",
       "3                   1461.0                       2001-01-01  \n",
       "4                   7811.0                       1997-01-01  "
      ]
     },
     "execution_count": 12,
     "metadata": {},
     "output_type": "execute_result"
    }
   ],
   "source": [
    "#creem la coluna Data incorporació mercat laboral seleccionant el valor mínim de la data d'inici\n",
    "df['Data incorporació mercat laboral'] = df.groupby('ID')['Data inici'].transform('min')\n",
    "df.head()\n"
   ]
  },
  {
   "cell_type": "markdown",
   "id": "345d4865",
   "metadata": {},
   "source": [
    "La quantitat d'experiències laborals també ens pot donar més informació i ajudar a la predicció, per la qual cosa creem dita variable"
   ]
  },
  {
   "cell_type": "code",
   "execution_count": 13,
   "id": "beb3e18d",
   "metadata": {},
   "outputs": [
    {
     "data": {
      "text/html": [
       "<div>\n",
       "<style scoped>\n",
       "    .dataframe tbody tr th:only-of-type {\n",
       "        vertical-align: middle;\n",
       "    }\n",
       "\n",
       "    .dataframe tbody tr th {\n",
       "        vertical-align: top;\n",
       "    }\n",
       "\n",
       "    .dataframe thead th {\n",
       "        text-align: right;\n",
       "    }\n",
       "</style>\n",
       "<table border=\"1\" class=\"dataframe\">\n",
       "  <thead>\n",
       "    <tr style=\"text-align: right;\">\n",
       "      <th></th>\n",
       "      <th>ID</th>\n",
       "      <th>Càrrec/Lloc de Feina</th>\n",
       "      <th>Empresa</th>\n",
       "      <th>Data inici</th>\n",
       "      <th>Data final</th>\n",
       "      <th>Temps</th>\n",
       "      <th>Temps total experiència</th>\n",
       "      <th>Data incorporació mercat laboral</th>\n",
       "      <th>Nombre d'experiències</th>\n",
       "    </tr>\n",
       "  </thead>\n",
       "  <tbody>\n",
       "    <tr>\n",
       "      <th>0</th>\n",
       "      <td>f0b9fa20-6d46-3e2b-8d75-5df772cb28d5</td>\n",
       "      <td>PRÀCTIQUES SOLDADURA</td>\n",
       "      <td>ESCOLA DEL TREBALL</td>\n",
       "      <td>2019-07-01</td>\n",
       "      <td>NaT</td>\n",
       "      <td>NaN</td>\n",
       "      <td>738.0</td>\n",
       "      <td>2018-03-08</td>\n",
       "      <td>3</td>\n",
       "    </tr>\n",
       "    <tr>\n",
       "      <th>1</th>\n",
       "      <td>707b42d9-47ae-6a7b-e5f9-5bf42ebfa31e</td>\n",
       "      <td>Auxiliar Administrativa Institut Català de la ...</td>\n",
       "      <td>Institut català de la salut</td>\n",
       "      <td>NaT</td>\n",
       "      <td>NaT</td>\n",
       "      <td>NaN</td>\n",
       "      <td>0.0</td>\n",
       "      <td>NaT</td>\n",
       "      <td>4</td>\n",
       "    </tr>\n",
       "    <tr>\n",
       "      <th>2</th>\n",
       "      <td>192c9601-2996-00a7-2904-5cee874ded1e</td>\n",
       "      <td>AUXILIAR ADMINISTRATIVO</td>\n",
       "      <td>NaN</td>\n",
       "      <td>NaT</td>\n",
       "      <td>NaT</td>\n",
       "      <td>NaN</td>\n",
       "      <td>0.0</td>\n",
       "      <td>NaT</td>\n",
       "      <td>4</td>\n",
       "    </tr>\n",
       "    <tr>\n",
       "      <th>3</th>\n",
       "      <td>b71063b1-c757-200e-69ee-5d9c7a934efd</td>\n",
       "      <td>REPARTIDOR</td>\n",
       "      <td>AMAZON</td>\n",
       "      <td>2018-01-01</td>\n",
       "      <td>NaT</td>\n",
       "      <td>NaN</td>\n",
       "      <td>1461.0</td>\n",
       "      <td>2001-01-01</td>\n",
       "      <td>3</td>\n",
       "    </tr>\n",
       "    <tr>\n",
       "      <th>4</th>\n",
       "      <td>755a0d82-65a9-f11d-9d91-5e01e6fee9e1</td>\n",
       "      <td>gerent</td>\n",
       "      <td>VINE I QUEDA'T</td>\n",
       "      <td>2008-01-01</td>\n",
       "      <td>2012-01-01</td>\n",
       "      <td>1461.0</td>\n",
       "      <td>7811.0</td>\n",
       "      <td>1997-01-01</td>\n",
       "      <td>3</td>\n",
       "    </tr>\n",
       "  </tbody>\n",
       "</table>\n",
       "</div>"
      ],
      "text/plain": [
       "                                     ID  \\\n",
       "0  f0b9fa20-6d46-3e2b-8d75-5df772cb28d5   \n",
       "1  707b42d9-47ae-6a7b-e5f9-5bf42ebfa31e   \n",
       "2  192c9601-2996-00a7-2904-5cee874ded1e   \n",
       "3  b71063b1-c757-200e-69ee-5d9c7a934efd   \n",
       "4  755a0d82-65a9-f11d-9d91-5e01e6fee9e1   \n",
       "\n",
       "                                Càrrec/Lloc de Feina  \\\n",
       "0                               PRÀCTIQUES SOLDADURA   \n",
       "1  Auxiliar Administrativa Institut Català de la ...   \n",
       "2                            AUXILIAR ADMINISTRATIVO   \n",
       "3                                         REPARTIDOR   \n",
       "4                                             gerent   \n",
       "\n",
       "                       Empresa Data inici Data final   Temps  \\\n",
       "0           ESCOLA DEL TREBALL 2019-07-01        NaT     NaN   \n",
       "1  Institut català de la salut        NaT        NaT     NaN   \n",
       "2                          NaN        NaT        NaT     NaN   \n",
       "3                       AMAZON 2018-01-01        NaT     NaN   \n",
       "4               VINE I QUEDA'T 2008-01-01 2012-01-01  1461.0   \n",
       "\n",
       "   Temps total experiència Data incorporació mercat laboral  \\\n",
       "0                    738.0                       2018-03-08   \n",
       "1                      0.0                              NaT   \n",
       "2                      0.0                              NaT   \n",
       "3                   1461.0                       2001-01-01   \n",
       "4                   7811.0                       1997-01-01   \n",
       "\n",
       "   Nombre d'experiències  \n",
       "0                      3  \n",
       "1                      4  \n",
       "2                      4  \n",
       "3                      3  \n",
       "4                      3  "
      ]
     },
     "execution_count": 13,
     "metadata": {},
     "output_type": "execute_result"
    }
   ],
   "source": [
    "#crear columna amb la quantitat d'experiències laborals\n",
    "counts = df['ID'].value_counts()\n",
    "df[\"Nombre d'experiències\"] = df['ID'].map(counts)\n",
    "df.head()"
   ]
  },
  {
   "cell_type": "code",
   "execution_count": 14,
   "id": "a726124a",
   "metadata": {},
   "outputs": [
    {
     "data": {
      "text/html": [
       "<div>\n",
       "<style scoped>\n",
       "    .dataframe tbody tr th:only-of-type {\n",
       "        vertical-align: middle;\n",
       "    }\n",
       "\n",
       "    .dataframe tbody tr th {\n",
       "        vertical-align: top;\n",
       "    }\n",
       "\n",
       "    .dataframe thead th {\n",
       "        text-align: right;\n",
       "    }\n",
       "</style>\n",
       "<table border=\"1\" class=\"dataframe\">\n",
       "  <thead>\n",
       "    <tr style=\"text-align: right;\">\n",
       "      <th></th>\n",
       "      <th>ID</th>\n",
       "      <th>Data incorporació mercat laboral</th>\n",
       "      <th>Temps total experiència</th>\n",
       "      <th>Nombre d'experiències</th>\n",
       "    </tr>\n",
       "  </thead>\n",
       "  <tbody>\n",
       "    <tr>\n",
       "      <th>0</th>\n",
       "      <td>f0b9fa20-6d46-3e2b-8d75-5df772cb28d5</td>\n",
       "      <td>2018-03-08</td>\n",
       "      <td>738.0</td>\n",
       "      <td>3</td>\n",
       "    </tr>\n",
       "    <tr>\n",
       "      <th>1</th>\n",
       "      <td>707b42d9-47ae-6a7b-e5f9-5bf42ebfa31e</td>\n",
       "      <td>NaT</td>\n",
       "      <td>0.0</td>\n",
       "      <td>4</td>\n",
       "    </tr>\n",
       "    <tr>\n",
       "      <th>2</th>\n",
       "      <td>192c9601-2996-00a7-2904-5cee874ded1e</td>\n",
       "      <td>NaT</td>\n",
       "      <td>0.0</td>\n",
       "      <td>4</td>\n",
       "    </tr>\n",
       "    <tr>\n",
       "      <th>3</th>\n",
       "      <td>b71063b1-c757-200e-69ee-5d9c7a934efd</td>\n",
       "      <td>2001-01-01</td>\n",
       "      <td>1461.0</td>\n",
       "      <td>3</td>\n",
       "    </tr>\n",
       "    <tr>\n",
       "      <th>4</th>\n",
       "      <td>755a0d82-65a9-f11d-9d91-5e01e6fee9e1</td>\n",
       "      <td>1997-01-01</td>\n",
       "      <td>7811.0</td>\n",
       "      <td>3</td>\n",
       "    </tr>\n",
       "  </tbody>\n",
       "</table>\n",
       "</div>"
      ],
      "text/plain": [
       "                                     ID Data incorporació mercat laboral  \\\n",
       "0  f0b9fa20-6d46-3e2b-8d75-5df772cb28d5                       2018-03-08   \n",
       "1  707b42d9-47ae-6a7b-e5f9-5bf42ebfa31e                              NaT   \n",
       "2  192c9601-2996-00a7-2904-5cee874ded1e                              NaT   \n",
       "3  b71063b1-c757-200e-69ee-5d9c7a934efd                       2001-01-01   \n",
       "4  755a0d82-65a9-f11d-9d91-5e01e6fee9e1                       1997-01-01   \n",
       "\n",
       "   Temps total experiència  Nombre d'experiències  \n",
       "0                    738.0                      3  \n",
       "1                      0.0                      4  \n",
       "2                      0.0                      4  \n",
       "3                   1461.0                      3  \n",
       "4                   7811.0                      3  "
      ]
     },
     "execution_count": 14,
     "metadata": {},
     "output_type": "execute_result"
    }
   ],
   "source": [
    "#seleccionem les columnes que ens serveixen per a treballar, ja que la columna Càrrec i Empresa tenen valors no classificats que no ens donen informació rellevant\n",
    "df=df[['ID','Data incorporació mercat laboral','Temps total experiència',\"Nombre d'experiències\"]]\n",
    "df.head()"
   ]
  },
  {
   "cell_type": "code",
   "execution_count": 15,
   "id": "fc71b4a4",
   "metadata": {},
   "outputs": [],
   "source": [
    "#pasar Data incorporació mercat laboral a datetime\n",
    "df['Data incorporació mercat laboral']=pd.to_datetime(df['Data incorporació mercat laboral'])"
   ]
  },
  {
   "cell_type": "code",
   "execution_count": 16,
   "id": "2ac7c109",
   "metadata": {},
   "outputs": [],
   "source": [
    "#mantenim les entrades amb la data incorporació al mercat laboral més antiga\n",
    "# Ordenar el DataFrame por la columna \"Data incorporació mercat laboral\"\n",
    "df = df.sort_values('Data incorporació mercat laboral')\n",
    "\n",
    "# Eliminar las filas duplicadas por la columna \"ID\" manteniendo la primera aparición de cada valor en dicha columna\n",
    "df = df.drop_duplicates('ID', keep='first')\n"
   ]
  },
  {
   "cell_type": "code",
   "execution_count": 17,
   "id": "b312f722",
   "metadata": {},
   "outputs": [
    {
     "data": {
      "text/plain": [
       "<AxesSubplot: title={'center': 'Dades incompletes a Experiència laboral'}>"
      ]
     },
     "execution_count": 17,
     "metadata": {},
     "output_type": "execute_result"
    },
    {
     "data": {
      "image/png": "[encoded data removed]",
      "text/plain": [
       "<Figure size 1800x720 with 3 Axes>"
      ]
     },
     "metadata": {
      "needs_background": "light"
     },
     "output_type": "display_data"
    }
   ],
   "source": [
    "#detectem el nombre de dades inclompletes\n",
    "import missingno as msno\n",
    "import matplotlib.pyplot as plt\n",
    "# Visualize the number of missing values as a bar chart\n",
    "plt.title('Dades incompletes a Experiència laboral',fontsize=40, pad=30)\n",
    "msno.bar(df, color='b',fontsize=20)"
   ]
  },
  {
   "cell_type": "markdown",
   "id": "ee79817e",
   "metadata": {},
   "source": [
    "Encara que no tenim dades faltants en el temps total d'experiència de la persona podem deduir que en faltar gairebé la meitat de les dade en la data d'incorporació al mercat laboral tindrem molts valors a zero en el temps total d'experiència"
   ]
  },
  {
   "cell_type": "code",
   "execution_count": 18,
   "id": "affb9a26",
   "metadata": {},
   "outputs": [
    {
     "data": {
      "text/plain": [
       "53.125"
      ]
     },
     "execution_count": 18,
     "metadata": {},
     "output_type": "execute_result"
    }
   ],
   "source": [
    "#observem el percentage de valors 0 a Temps total experiència per tal de detectar possibles valors faltants\n",
    "(df['Temps total experiència'] == 0).sum()/df.shape[0]*100"
   ]
  },
  {
   "cell_type": "markdown",
   "id": "06e7cd43",
   "metadata": {},
   "source": [
    "Tal com havíem previst un gran nombre de les entrades (un 53%) tenen un temps total d'experiència igual a 0 la qual cosa indica que falten les dades per poder fer aquest càlcul"
   ]
  },
  {
   "cell_type": "code",
   "execution_count": 19,
   "id": "aed5115a",
   "metadata": {},
   "outputs": [],
   "source": [
    "#pasar df_experiencia_laboral a csv\n",
    "df.to_csv('experiencia_laboral_final.csv', index=False, encoding='utf-8')"
   ]
  }
 ],
 "metadata": {
  "kernelspec": {
   "display_name": "Python 3 (ipykernel)",
   "language": "python",
   "name": "python3"
  },
  "language_info": {
   "codemirror_mode": {
    "name": "ipython",
    "version": 3
   },
   "file_extension": ".py",
   "mimetype": "text/x-python",
   "name": "python",
   "nbconvert_exporter": "python",
   "pygments_lexer": "ipython3",
   "version": "3.8.10"
  },
  "nbTranslate": {
   "displayLangs": [
    "*"
   ],
   "hotkey": "alt-t",
   "langInMainMenu": true,
   "sourceLang": "en",
   "targetLang": "fr",
   "useGoogleTranslate": true
  }
 },
 "nbformat": 4,
 "nbformat_minor": 5
}
