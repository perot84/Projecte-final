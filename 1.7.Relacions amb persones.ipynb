{
 "cells": [
  {
   "cell_type": "markdown",
   "id": "7b0ea0d0",
   "metadata": {},
   "source": [
    "Aquesta base de dades recull en quins projectes de l’entitat han estat relacionades les persones, incloent la data d’alta i baixa dels mencionats projectes.\n",
    "\n",
    "Escollim la columna data d’alta, ja que és la que ens permetrà analitzar el temps que ha trigat la persona a trobar feina.\n",
    "\n",
    "Hem escollit la data d'alta més recent per calcular posteriorment el temps que triga una persona a trobar feina\n"
   ]
  },
  {
   "cell_type": "code",
   "execution_count": 1,
   "id": "9d1d7918",
   "metadata": {},
   "outputs": [],
   "source": [
    "import pandas as pd"
   ]
  },
  {
   "cell_type": "code",
   "execution_count": 2,
   "id": "1a47f8a8",
   "metadata": {},
   "outputs": [],
   "source": [
    "df=pd.read_csv('Relacions amb Persones.csv',encoding='utf-8',sep=';')\n",
    "df_dic=pd.read_csv('Dict.csv',encoding='utf-8',sep=',')"
   ]
  },
  {
   "cell_type": "code",
   "execution_count": 3,
   "id": "0eaf91a3",
   "metadata": {},
   "outputs": [
    {
     "data": {
      "text/html": [
       "<div>\n",
       "<style scoped>\n",
       "    .dataframe tbody tr th:only-of-type {\n",
       "        vertical-align: middle;\n",
       "    }\n",
       "\n",
       "    .dataframe tbody tr th {\n",
       "        vertical-align: top;\n",
       "    }\n",
       "\n",
       "    .dataframe thead th {\n",
       "        text-align: right;\n",
       "    }\n",
       "</style>\n",
       "<table border=\"1\" class=\"dataframe\">\n",
       "  <thead>\n",
       "    <tr style=\"text-align: right;\">\n",
       "      <th></th>\n",
       "      <th>stic_contacts_relationships_contactscontacts_ida</th>\n",
       "      <th>Data alta</th>\n",
       "      <th>Tipus de relació</th>\n",
       "    </tr>\n",
       "  </thead>\n",
       "  <tbody>\n",
       "    <tr>\n",
       "      <th>0</th>\n",
       "      <td>7011976b-a6e9-2a99-518e-5bb49fd88dad</td>\n",
       "      <td>NaN</td>\n",
       "      <td>Persones Sòcies Individuals</td>\n",
       "    </tr>\n",
       "    <tr>\n",
       "      <th>1</th>\n",
       "      <td>7b5a0c72-e23a-2d2c-e977-5bb49f4871c6</td>\n",
       "      <td>NaN</td>\n",
       "      <td>Persones Sòcies Individuals</td>\n",
       "    </tr>\n",
       "    <tr>\n",
       "      <th>2</th>\n",
       "      <td>80142d92-50e0-ec6a-9700-5bb49fc13f0d</td>\n",
       "      <td>04/11/2015</td>\n",
       "      <td>Persones Sòcies Individuals</td>\n",
       "    </tr>\n",
       "    <tr>\n",
       "      <th>3</th>\n",
       "      <td>84be3325-c46b-4095-6934-5bb49fd40811</td>\n",
       "      <td>17/05/2012</td>\n",
       "      <td>Persones Sòcies Familiars (Entorn)</td>\n",
       "    </tr>\n",
       "    <tr>\n",
       "      <th>4</th>\n",
       "      <td>896e2b3d-6b79-9f39-98ee-5bb49f55ad4f</td>\n",
       "      <td>17/05/2012</td>\n",
       "      <td>Persones Sòcies Familiars (Entorn)</td>\n",
       "    </tr>\n",
       "  </tbody>\n",
       "</table>\n",
       "</div>"
      ],
      "text/plain": [
       "  stic_contacts_relationships_contactscontacts_ida   Data alta  \\\n",
       "0             7011976b-a6e9-2a99-518e-5bb49fd88dad         NaN   \n",
       "1             7b5a0c72-e23a-2d2c-e977-5bb49f4871c6         NaN   \n",
       "2             80142d92-50e0-ec6a-9700-5bb49fc13f0d  04/11/2015   \n",
       "3             84be3325-c46b-4095-6934-5bb49fd40811  17/05/2012   \n",
       "4             896e2b3d-6b79-9f39-98ee-5bb49f55ad4f  17/05/2012   \n",
       "\n",
       "                     Tipus de relació  \n",
       "0         Persones Sòcies Individuals  \n",
       "1         Persones Sòcies Individuals  \n",
       "2         Persones Sòcies Individuals  \n",
       "3  Persones Sòcies Familiars (Entorn)  \n",
       "4  Persones Sòcies Familiars (Entorn)  "
      ]
     },
     "execution_count": 3,
     "metadata": {},
     "output_type": "execute_result"
    }
   ],
   "source": [
    "#seleccionem columnes\n",
    "df=df[['stic_contacts_relationships_contactscontacts_ida','Data alta','Tipus de relació']]\n",
    "df.head()"
   ]
  },
  {
   "cell_type": "code",
   "execution_count": 4,
   "id": "2ef8d928",
   "metadata": {},
   "outputs": [],
   "source": [
    "#renombrar stic_contacts_relationships_contactscontacts_ida a ID\n",
    "df.rename(columns={'stic_contacts_relationships_contactscontacts_ida':'ID'},inplace=True)"
   ]
  },
  {
   "cell_type": "code",
   "execution_count": 5,
   "id": "2a00513f",
   "metadata": {},
   "outputs": [
    {
     "data": {
      "text/html": [
       "<div>\n",
       "<style scoped>\n",
       "    .dataframe tbody tr th:only-of-type {\n",
       "        vertical-align: middle;\n",
       "    }\n",
       "\n",
       "    .dataframe tbody tr th {\n",
       "        vertical-align: top;\n",
       "    }\n",
       "\n",
       "    .dataframe thead th {\n",
       "        text-align: right;\n",
       "    }\n",
       "</style>\n",
       "<table border=\"1\" class=\"dataframe\">\n",
       "  <thead>\n",
       "    <tr style=\"text-align: right;\">\n",
       "      <th></th>\n",
       "      <th>ID</th>\n",
       "      <th>Data alta</th>\n",
       "      <th>Tipus de relació</th>\n",
       "    </tr>\n",
       "  </thead>\n",
       "  <tbody>\n",
       "    <tr>\n",
       "      <th>0</th>\n",
       "      <td>7011976b-a6e9-2a99-518e-5bb49fd88dad</td>\n",
       "      <td>NaN</td>\n",
       "      <td>Persones Sòcies Individuals</td>\n",
       "    </tr>\n",
       "    <tr>\n",
       "      <th>1</th>\n",
       "      <td>7b5a0c72-e23a-2d2c-e977-5bb49f4871c6</td>\n",
       "      <td>NaN</td>\n",
       "      <td>Persones Sòcies Individuals</td>\n",
       "    </tr>\n",
       "    <tr>\n",
       "      <th>2</th>\n",
       "      <td>80142d92-50e0-ec6a-9700-5bb49fc13f0d</td>\n",
       "      <td>04/11/2015</td>\n",
       "      <td>Persones Sòcies Individuals</td>\n",
       "    </tr>\n",
       "    <tr>\n",
       "      <th>3</th>\n",
       "      <td>84be3325-c46b-4095-6934-5bb49fd40811</td>\n",
       "      <td>17/05/2012</td>\n",
       "      <td>Persones Sòcies Familiars (Entorn)</td>\n",
       "    </tr>\n",
       "    <tr>\n",
       "      <th>4</th>\n",
       "      <td>896e2b3d-6b79-9f39-98ee-5bb49f55ad4f</td>\n",
       "      <td>17/05/2012</td>\n",
       "      <td>Persones Sòcies Familiars (Entorn)</td>\n",
       "    </tr>\n",
       "  </tbody>\n",
       "</table>\n",
       "</div>"
      ],
      "text/plain": [
       "                                     ID   Data alta  \\\n",
       "0  7011976b-a6e9-2a99-518e-5bb49fd88dad         NaN   \n",
       "1  7b5a0c72-e23a-2d2c-e977-5bb49f4871c6         NaN   \n",
       "2  80142d92-50e0-ec6a-9700-5bb49fc13f0d  04/11/2015   \n",
       "3  84be3325-c46b-4095-6934-5bb49fd40811  17/05/2012   \n",
       "4  896e2b3d-6b79-9f39-98ee-5bb49f55ad4f  17/05/2012   \n",
       "\n",
       "                     Tipus de relació  \n",
       "0         Persones Sòcies Individuals  \n",
       "1         Persones Sòcies Individuals  \n",
       "2         Persones Sòcies Individuals  \n",
       "3  Persones Sòcies Familiars (Entorn)  \n",
       "4  Persones Sòcies Familiars (Entorn)  "
      ]
     },
     "execution_count": 5,
     "metadata": {},
     "output_type": "execute_result"
    }
   ],
   "source": [
    "#a partir del diccionari creat anteriorment, cambiem la ID per tal d'evitar duplicats\n",
    "df['ID'] = df['ID'].map(df_dic.set_index('ID')['IDN'])\n",
    "df.head()"
   ]
  },
  {
   "cell_type": "code",
   "execution_count": 6,
   "id": "eebdc4e7",
   "metadata": {},
   "outputs": [],
   "source": [
    "#eliminar nulls a Data alta\n",
    "df=df.dropna(subset=['Data alta'])"
   ]
  },
  {
   "cell_type": "code",
   "execution_count": 7,
   "id": "1b34e257",
   "metadata": {},
   "outputs": [
    {
     "data": {
      "text/html": [
       "<div>\n",
       "<style scoped>\n",
       "    .dataframe tbody tr th:only-of-type {\n",
       "        vertical-align: middle;\n",
       "    }\n",
       "\n",
       "    .dataframe tbody tr th {\n",
       "        vertical-align: top;\n",
       "    }\n",
       "\n",
       "    .dataframe thead th {\n",
       "        text-align: right;\n",
       "    }\n",
       "</style>\n",
       "<table border=\"1\" class=\"dataframe\">\n",
       "  <thead>\n",
       "    <tr style=\"text-align: right;\">\n",
       "      <th></th>\n",
       "      <th>ID</th>\n",
       "      <th>Data alta</th>\n",
       "      <th>Tipus de relació</th>\n",
       "    </tr>\n",
       "  </thead>\n",
       "  <tbody>\n",
       "    <tr>\n",
       "      <th>2</th>\n",
       "      <td>80142d92-50e0-ec6a-9700-5bb49fc13f0d</td>\n",
       "      <td>2015/11/04</td>\n",
       "      <td>Persones Sòcies Individuals</td>\n",
       "    </tr>\n",
       "    <tr>\n",
       "      <th>3</th>\n",
       "      <td>84be3325-c46b-4095-6934-5bb49fd40811</td>\n",
       "      <td>2012/05/17</td>\n",
       "      <td>Persones Sòcies Familiars (Entorn)</td>\n",
       "    </tr>\n",
       "    <tr>\n",
       "      <th>4</th>\n",
       "      <td>896e2b3d-6b79-9f39-98ee-5bb49f55ad4f</td>\n",
       "      <td>2012/05/17</td>\n",
       "      <td>Persones Sòcies Familiars (Entorn)</td>\n",
       "    </tr>\n",
       "    <tr>\n",
       "      <th>5</th>\n",
       "      <td>8e5be378-556c-cb29-d414-5bb49f67ccd4</td>\n",
       "      <td>2012/05/17</td>\n",
       "      <td>Persones Sòcies Familiars (Nucli)</td>\n",
       "    </tr>\n",
       "    <tr>\n",
       "      <th>6</th>\n",
       "      <td>934bb5e9-4e0d-3ad2-2518-5bb49fb95005</td>\n",
       "      <td>2012/05/17</td>\n",
       "      <td>Persona Socia Familiar(Titular)</td>\n",
       "    </tr>\n",
       "  </tbody>\n",
       "</table>\n",
       "</div>"
      ],
      "text/plain": [
       "                                     ID   Data alta  \\\n",
       "2  80142d92-50e0-ec6a-9700-5bb49fc13f0d  2015/11/04   \n",
       "3  84be3325-c46b-4095-6934-5bb49fd40811  2012/05/17   \n",
       "4  896e2b3d-6b79-9f39-98ee-5bb49f55ad4f  2012/05/17   \n",
       "5  8e5be378-556c-cb29-d414-5bb49f67ccd4  2012/05/17   \n",
       "6  934bb5e9-4e0d-3ad2-2518-5bb49fb95005  2012/05/17   \n",
       "\n",
       "                     Tipus de relació  \n",
       "2         Persones Sòcies Individuals  \n",
       "3  Persones Sòcies Familiars (Entorn)  \n",
       "4  Persones Sòcies Familiars (Entorn)  \n",
       "5   Persones Sòcies Familiars (Nucli)  \n",
       "6     Persona Socia Familiar(Titular)  "
      ]
     },
     "execution_count": 7,
     "metadata": {},
     "output_type": "execute_result"
    }
   ],
   "source": [
    "from datetime import datetime\n",
    "\n",
    "\n",
    "# Convertim la columna \"Data alta\" a format \"any/mes/dia\"\n",
    "df['Data alta'] = df['Data alta'].apply(lambda x: datetime.strptime(x, '%d/%m/%Y').strftime('%Y/%m/%d'))\n",
    "\n",
    "df.head()\n"
   ]
  },
  {
   "cell_type": "code",
   "execution_count": 8,
   "id": "7cf66f64",
   "metadata": {},
   "outputs": [],
   "source": [
    "#df a csv\n",
    "df.to_csv('Relacions_final.csv',index=False)"
   ]
  }
 ],
 "metadata": {
  "kernelspec": {
   "display_name": "Python 3 (ipykernel)",
   "language": "python",
   "name": "python3"
  },
  "language_info": {
   "codemirror_mode": {
    "name": "ipython",
    "version": 3
   },
   "file_extension": ".py",
   "mimetype": "text/x-python",
   "name": "python",
   "nbconvert_exporter": "python",
   "pygments_lexer": "ipython3",
   "version": "3.8.10"
  },
  "nbTranslate": {
   "displayLangs": [
    "*"
   ],
   "hotkey": "alt-t",
   "langInMainMenu": true,
   "sourceLang": "en",
   "targetLang": "fr",
   "useGoogleTranslate": true
  }
 },
 "nbformat": 4,
 "nbformat_minor": 5
}
