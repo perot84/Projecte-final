{
 "cells": [
  {
   "cell_type": "markdown",
   "id": "dd87b137",
   "metadata": {},
   "source": [
    "Aquesta base de dades recull les dades relacionades amb la discapacitat de la persona\n",
    "\n",
    "En aquesta base de dades ens hem trobat en què hi ha vàries entrades duplicades per ID però en les que hi ha diferents camps no omplerts en una i si en una altra, per la qual cosa hem deduït que el programa ha introduït una nova entrada quan s’han introduït nous camps i per tant hem unit les entrades per ID unint els valors faltants per als introduïts."
   ]
  },
  {
   "cell_type": "code",
   "execution_count": 1,
   "id": "dd664a4f",
   "metadata": {},
   "outputs": [],
   "source": [
    "import pandas as pd"
   ]
  },
  {
   "cell_type": "code",
   "execution_count": 2,
   "id": "e326c8b9",
   "metadata": {},
   "outputs": [
    {
     "name": "stderr",
     "output_type": "stream",
     "text": [
      "/tmp/ipykernel_13096/46014038.py:8: SettingWithCopyWarning: \n",
      "A value is trying to be set on a copy of a slice from a DataFrame\n",
      "\n",
      "See the caveats in the documentation: https://pandas.pydata.org/pandas-docs/stable/user_guide/indexing.html#returning-a-view-versus-a-copy\n",
      "  df.rename(columns={'acapp_dades_discapacitat_contactscontacts_ida':'ID'},inplace=True)\n"
     ]
    }
   ],
   "source": [
    "df=pd.read_csv('Dades Discapacitat.csv',encoding='utf-8',sep=';')\n",
    "df_dic=pd.read_csv('Dict.csv',encoding='utf-8',sep=',')\n",
    "\n",
    "df_i=df\n",
    "#seleccionem columnes\n",
    "df=df[['acapp_dades_discapacitat_contactscontacts_ida','Té certificat CAD','% Grau Discapacitat','Temps CAD','On sordesa','Rep ajut econòmic?','Presenta pluridiscapacitat?','Tipus pluridiscapacitat','Pren medicació','Tipus de sordesa','Moment apareix sordesa','Quan inici pèrdua','Causa pèrdua auditiva','Porta audiòfon?','Porta implant coclear?','On implant coclear','Sistema de comunicació','Hospital o consulta que fa seguiment']]\n",
    "#cambiar nombre acapp_dades_discapacitat_contactscontacts_ida por ID\n",
    "df.rename(columns={'acapp_dades_discapacitat_contactscontacts_ida':'ID'},inplace=True)\n",
    "\n"
   ]
  },
  {
   "cell_type": "code",
   "execution_count": 3,
   "id": "cd2b03c0",
   "metadata": {},
   "outputs": [
    {
     "name": "stderr",
     "output_type": "stream",
     "text": [
      "/tmp/ipykernel_13096/1252908069.py:1: SettingWithCopyWarning: \n",
      "A value is trying to be set on a copy of a slice from a DataFrame.\n",
      "Try using .loc[row_indexer,col_indexer] = value instead\n",
      "\n",
      "See the caveats in the documentation: https://pandas.pydata.org/pandas-docs/stable/user_guide/indexing.html#returning-a-view-versus-a-copy\n",
      "  df['ID'] = df['ID'].map(df_dic.set_index('ID')['IDN'])\n"
     ]
    },
    {
     "data": {
      "text/html": [
       "<div>\n",
       "<style scoped>\n",
       "    .dataframe tbody tr th:only-of-type {\n",
       "        vertical-align: middle;\n",
       "    }\n",
       "\n",
       "    .dataframe tbody tr th {\n",
       "        vertical-align: top;\n",
       "    }\n",
       "\n",
       "    .dataframe thead th {\n",
       "        text-align: right;\n",
       "    }\n",
       "</style>\n",
       "<table border=\"1\" class=\"dataframe\">\n",
       "  <thead>\n",
       "    <tr style=\"text-align: right;\">\n",
       "      <th></th>\n",
       "      <th>ID</th>\n",
       "      <th>Té certificat CAD</th>\n",
       "      <th>% Grau Discapacitat</th>\n",
       "      <th>Temps CAD</th>\n",
       "      <th>On sordesa</th>\n",
       "      <th>Rep ajut econòmic?</th>\n",
       "      <th>Presenta pluridiscapacitat?</th>\n",
       "      <th>Tipus pluridiscapacitat</th>\n",
       "      <th>Pren medicació</th>\n",
       "      <th>Tipus de sordesa</th>\n",
       "      <th>Moment apareix sordesa</th>\n",
       "      <th>Quan inici pèrdua</th>\n",
       "      <th>Causa pèrdua auditiva</th>\n",
       "      <th>Porta audiòfon?</th>\n",
       "      <th>Porta implant coclear?</th>\n",
       "      <th>On implant coclear</th>\n",
       "      <th>Sistema de comunicació</th>\n",
       "      <th>Hospital o consulta que fa seguiment</th>\n",
       "    </tr>\n",
       "  </thead>\n",
       "  <tbody>\n",
       "    <tr>\n",
       "      <th>0</th>\n",
       "      <td>NaN</td>\n",
       "      <td>NaN</td>\n",
       "      <td>45.0</td>\n",
       "      <td>NaN</td>\n",
       "      <td>Unilateral OD</td>\n",
       "      <td>NaN</td>\n",
       "      <td>Sí</td>\n",
       "      <td>NaN</td>\n",
       "      <td>NaN</td>\n",
       "      <td>NaN</td>\n",
       "      <td>Prelocutiva</td>\n",
       "      <td>NaN</td>\n",
       "      <td>Genètica</td>\n",
       "      <td>Sí</td>\n",
       "      <td>No</td>\n",
       "      <td>NaN</td>\n",
       "      <td>Oral</td>\n",
       "      <td>NaN</td>\n",
       "    </tr>\n",
       "    <tr>\n",
       "      <th>1</th>\n",
       "      <td>19c7d363-71c1-f441-5e47-5e0dc5e4a1fd</td>\n",
       "      <td>Sí</td>\n",
       "      <td>34.0</td>\n",
       "      <td>Permanent</td>\n",
       "      <td>NaN</td>\n",
       "      <td>Sí</td>\n",
       "      <td>Sí</td>\n",
       "      <td>NaN</td>\n",
       "      <td>Sí</td>\n",
       "      <td>Neurosensorial</td>\n",
       "      <td>Prelocutiva</td>\n",
       "      <td>NaN</td>\n",
       "      <td>NaN</td>\n",
       "      <td>No</td>\n",
       "      <td>Sí</td>\n",
       "      <td>NaN</td>\n",
       "      <td>NaN</td>\n",
       "      <td>Hospital Sant Joan de Déu</td>\n",
       "    </tr>\n",
       "    <tr>\n",
       "      <th>2</th>\n",
       "      <td>73e5a12f-3169-8bb5-8181-60b8a4df5100</td>\n",
       "      <td>Sí</td>\n",
       "      <td>34.0</td>\n",
       "      <td>NaN</td>\n",
       "      <td>Biilateral</td>\n",
       "      <td>NaN</td>\n",
       "      <td>NaN</td>\n",
       "      <td>NaN</td>\n",
       "      <td>NaN</td>\n",
       "      <td>Neurosensorial</td>\n",
       "      <td>Prelocutiva</td>\n",
       "      <td>neixement</td>\n",
       "      <td>Desconeguda</td>\n",
       "      <td>No</td>\n",
       "      <td>Sí</td>\n",
       "      <td>Ambdues oïdes</td>\n",
       "      <td>Oral</td>\n",
       "      <td>NaN</td>\n",
       "    </tr>\n",
       "    <tr>\n",
       "      <th>3</th>\n",
       "      <td>c8a7044c-a15e-6426-be3a-5bf7c9e43700</td>\n",
       "      <td>NaN</td>\n",
       "      <td>74.0</td>\n",
       "      <td>NaN</td>\n",
       "      <td>NaN</td>\n",
       "      <td>NaN</td>\n",
       "      <td>Sí</td>\n",
       "      <td>NaN</td>\n",
       "      <td>NaN</td>\n",
       "      <td>NaN</td>\n",
       "      <td>Prelocutiva</td>\n",
       "      <td>Naixement</td>\n",
       "      <td>Adquirida</td>\n",
       "      <td>No</td>\n",
       "      <td>No</td>\n",
       "      <td>NaN</td>\n",
       "      <td>NaN</td>\n",
       "      <td>NaN</td>\n",
       "    </tr>\n",
       "    <tr>\n",
       "      <th>4</th>\n",
       "      <td>9b49d2b7-97eb-a44a-fe3a-5f7b14f2400d</td>\n",
       "      <td>Sí</td>\n",
       "      <td>78.0</td>\n",
       "      <td>NaN</td>\n",
       "      <td>Biilateral</td>\n",
       "      <td>NaN</td>\n",
       "      <td>NaN</td>\n",
       "      <td>NaN</td>\n",
       "      <td>NaN</td>\n",
       "      <td>Neurosensorial</td>\n",
       "      <td>Prelocutiva</td>\n",
       "      <td>NaN</td>\n",
       "      <td>Desconeguda</td>\n",
       "      <td>No</td>\n",
       "      <td>NaN</td>\n",
       "      <td>NaN</td>\n",
       "      <td>Signes</td>\n",
       "      <td>NaN</td>\n",
       "    </tr>\n",
       "  </tbody>\n",
       "</table>\n",
       "</div>"
      ],
      "text/plain": [
       "                                     ID Té certificat CAD  \\\n",
       "0                                   NaN               NaN   \n",
       "1  19c7d363-71c1-f441-5e47-5e0dc5e4a1fd                Sí   \n",
       "2  73e5a12f-3169-8bb5-8181-60b8a4df5100                Sí   \n",
       "3  c8a7044c-a15e-6426-be3a-5bf7c9e43700               NaN   \n",
       "4  9b49d2b7-97eb-a44a-fe3a-5f7b14f2400d                Sí   \n",
       "\n",
       "   % Grau Discapacitat  Temps CAD     On sordesa Rep ajut econòmic?  \\\n",
       "0                 45.0        NaN  Unilateral OD                NaN   \n",
       "1                 34.0  Permanent            NaN                 Sí   \n",
       "2                 34.0        NaN     Biilateral                NaN   \n",
       "3                 74.0        NaN            NaN                NaN   \n",
       "4                 78.0        NaN     Biilateral                NaN   \n",
       "\n",
       "  Presenta pluridiscapacitat? Tipus pluridiscapacitat Pren medicació  \\\n",
       "0                          Sí                     NaN            NaN   \n",
       "1                          Sí                     NaN             Sí   \n",
       "2                         NaN                     NaN            NaN   \n",
       "3                          Sí                     NaN            NaN   \n",
       "4                         NaN                     NaN            NaN   \n",
       "\n",
       "  Tipus de sordesa Moment apareix sordesa Quan inici pèrdua  \\\n",
       "0              NaN            Prelocutiva               NaN   \n",
       "1   Neurosensorial            Prelocutiva               NaN   \n",
       "2   Neurosensorial            Prelocutiva         neixement   \n",
       "3              NaN            Prelocutiva         Naixement   \n",
       "4   Neurosensorial            Prelocutiva               NaN   \n",
       "\n",
       "  Causa pèrdua auditiva Porta audiòfon? Porta implant coclear?  \\\n",
       "0              Genètica              Sí                     No   \n",
       "1                   NaN              No                     Sí   \n",
       "2           Desconeguda              No                     Sí   \n",
       "3             Adquirida              No                     No   \n",
       "4           Desconeguda              No                    NaN   \n",
       "\n",
       "  On implant coclear Sistema de comunicació  \\\n",
       "0                NaN                   Oral   \n",
       "1                NaN                    NaN   \n",
       "2      Ambdues oïdes                   Oral   \n",
       "3                NaN                    NaN   \n",
       "4                NaN                 Signes   \n",
       "\n",
       "  Hospital o consulta que fa seguiment  \n",
       "0                                  NaN  \n",
       "1            Hospital Sant Joan de Déu  \n",
       "2                                  NaN  \n",
       "3                                  NaN  \n",
       "4                                  NaN  "
      ]
     },
     "execution_count": 3,
     "metadata": {},
     "output_type": "execute_result"
    }
   ],
   "source": [
    "df['ID'] = df['ID'].map(df_dic.set_index('ID')['IDN'])\n",
    "df.head()"
   ]
  },
  {
   "cell_type": "code",
   "execution_count": 4,
   "id": "a4963739",
   "metadata": {},
   "outputs": [
    {
     "data": {
      "text/plain": [
       "205"
      ]
     },
     "execution_count": 4,
     "metadata": {},
     "output_type": "execute_result"
    }
   ],
   "source": [
    "#nulls ID\n",
    "df['ID'].isnull().sum()"
   ]
  },
  {
   "cell_type": "code",
   "execution_count": 5,
   "id": "63889d7e",
   "metadata": {},
   "outputs": [],
   "source": [
    "#Eliminamos entrades sin id\n",
    "df = df.dropna(subset=[\"ID\"])"
   ]
  },
  {
   "cell_type": "code",
   "execution_count": 7,
   "id": "83a94146",
   "metadata": {},
   "outputs": [
    {
     "data": {
      "text/plain": [
       "194"
      ]
     },
     "execution_count": 7,
     "metadata": {},
     "output_type": "execute_result"
    }
   ],
   "source": [
    "#cantidad de duplicados por la columna ID\n",
    "df['ID'].duplicated().sum()"
   ]
  },
  {
   "cell_type": "code",
   "execution_count": 8,
   "id": "d0d03e67",
   "metadata": {},
   "outputs": [
    {
     "name": "stderr",
     "output_type": "stream",
     "text": [
      "/tmp/ipykernel_13096/2480752121.py:2: FutureWarning: Not prepending group keys to the result index of transform-like apply. In the future, the group keys will be included in the index, regardless of whether the applied function returns a like-indexed object.\n",
      "To preserve the previous behavior, use\n",
      "\n",
      "\t>>> .groupby(..., group_keys=False)\n",
      "\n",
      "To adopt the future behavior and silence this warning, use \n",
      "\n",
      "\t>>> .groupby(..., group_keys=True)\n",
      "  df = df.groupby('ID').apply(lambda x: x.fillna(method='ffill')).reset_index(drop=True)\n"
     ]
    }
   ],
   "source": [
    "# Unir filas con mismo ID y rellenar valores faltantes\n",
    "df = df.groupby('ID').apply(lambda x: x.fillna(method='ffill')).reset_index(drop=True)\n",
    "#eliminar duplicados\n"
   ]
  },
  {
   "cell_type": "code",
   "execution_count": 10,
   "id": "fd6ffa93",
   "metadata": {},
   "outputs": [
    {
     "data": {
      "text/plain": [
       "194"
      ]
     },
     "execution_count": 10,
     "metadata": {},
     "output_type": "execute_result"
    }
   ],
   "source": [
    "#cantidad de duplicados por la columna ID\n",
    "df['ID'].duplicated().sum()"
   ]
  },
  {
   "cell_type": "code",
   "execution_count": 11,
   "id": "0be4889a",
   "metadata": {},
   "outputs": [
    {
     "data": {
      "text/html": [
       "<div>\n",
       "<style scoped>\n",
       "    .dataframe tbody tr th:only-of-type {\n",
       "        vertical-align: middle;\n",
       "    }\n",
       "\n",
       "    .dataframe tbody tr th {\n",
       "        vertical-align: top;\n",
       "    }\n",
       "\n",
       "    .dataframe thead th {\n",
       "        text-align: right;\n",
       "    }\n",
       "</style>\n",
       "<table border=\"1\" class=\"dataframe\">\n",
       "  <thead>\n",
       "    <tr style=\"text-align: right;\">\n",
       "      <th></th>\n",
       "      <th>ID</th>\n",
       "      <th>Té certificat CAD</th>\n",
       "      <th>% Grau Discapacitat</th>\n",
       "      <th>Temps CAD</th>\n",
       "      <th>On sordesa</th>\n",
       "      <th>Rep ajut econòmic?</th>\n",
       "      <th>Presenta pluridiscapacitat?</th>\n",
       "      <th>Tipus pluridiscapacitat</th>\n",
       "      <th>Pren medicació</th>\n",
       "      <th>Tipus de sordesa</th>\n",
       "      <th>Moment apareix sordesa</th>\n",
       "      <th>Quan inici pèrdua</th>\n",
       "      <th>Causa pèrdua auditiva</th>\n",
       "      <th>Porta audiòfon?</th>\n",
       "      <th>Porta implant coclear?</th>\n",
       "      <th>On implant coclear</th>\n",
       "      <th>Sistema de comunicació</th>\n",
       "      <th>Hospital o consulta que fa seguiment</th>\n",
       "    </tr>\n",
       "  </thead>\n",
       "  <tbody>\n",
       "    <tr>\n",
       "      <th>0</th>\n",
       "      <td>19c7d363-71c1-f441-5e47-5e0dc5e4a1fd</td>\n",
       "      <td>Sí</td>\n",
       "      <td>34.0</td>\n",
       "      <td>Permanent</td>\n",
       "      <td>NaN</td>\n",
       "      <td>Sí</td>\n",
       "      <td>Sí</td>\n",
       "      <td>NaN</td>\n",
       "      <td>Sí</td>\n",
       "      <td>Neurosensorial</td>\n",
       "      <td>Prelocutiva</td>\n",
       "      <td>NaN</td>\n",
       "      <td>NaN</td>\n",
       "      <td>No</td>\n",
       "      <td>Sí</td>\n",
       "      <td>NaN</td>\n",
       "      <td>NaN</td>\n",
       "      <td>Hospital Sant Joan de Déu</td>\n",
       "    </tr>\n",
       "    <tr>\n",
       "      <th>1</th>\n",
       "      <td>73e5a12f-3169-8bb5-8181-60b8a4df5100</td>\n",
       "      <td>Sí</td>\n",
       "      <td>34.0</td>\n",
       "      <td>NaN</td>\n",
       "      <td>Biilateral</td>\n",
       "      <td>NaN</td>\n",
       "      <td>NaN</td>\n",
       "      <td>NaN</td>\n",
       "      <td>NaN</td>\n",
       "      <td>Neurosensorial</td>\n",
       "      <td>Prelocutiva</td>\n",
       "      <td>neixement</td>\n",
       "      <td>Desconeguda</td>\n",
       "      <td>No</td>\n",
       "      <td>Sí</td>\n",
       "      <td>Ambdues oïdes</td>\n",
       "      <td>Oral</td>\n",
       "      <td>NaN</td>\n",
       "    </tr>\n",
       "    <tr>\n",
       "      <th>2</th>\n",
       "      <td>c8a7044c-a15e-6426-be3a-5bf7c9e43700</td>\n",
       "      <td>NaN</td>\n",
       "      <td>74.0</td>\n",
       "      <td>NaN</td>\n",
       "      <td>NaN</td>\n",
       "      <td>NaN</td>\n",
       "      <td>Sí</td>\n",
       "      <td>NaN</td>\n",
       "      <td>NaN</td>\n",
       "      <td>NaN</td>\n",
       "      <td>Prelocutiva</td>\n",
       "      <td>Naixement</td>\n",
       "      <td>Adquirida</td>\n",
       "      <td>No</td>\n",
       "      <td>No</td>\n",
       "      <td>NaN</td>\n",
       "      <td>NaN</td>\n",
       "      <td>NaN</td>\n",
       "    </tr>\n",
       "    <tr>\n",
       "      <th>3</th>\n",
       "      <td>9b49d2b7-97eb-a44a-fe3a-5f7b14f2400d</td>\n",
       "      <td>Sí</td>\n",
       "      <td>78.0</td>\n",
       "      <td>NaN</td>\n",
       "      <td>Biilateral</td>\n",
       "      <td>NaN</td>\n",
       "      <td>NaN</td>\n",
       "      <td>NaN</td>\n",
       "      <td>NaN</td>\n",
       "      <td>Neurosensorial</td>\n",
       "      <td>Prelocutiva</td>\n",
       "      <td>NaN</td>\n",
       "      <td>Desconeguda</td>\n",
       "      <td>No</td>\n",
       "      <td>NaN</td>\n",
       "      <td>NaN</td>\n",
       "      <td>Signes</td>\n",
       "      <td>NaN</td>\n",
       "    </tr>\n",
       "    <tr>\n",
       "      <th>4</th>\n",
       "      <td>a740b955-6c2f-5dff-4aa5-5e0dc5afbb5a</td>\n",
       "      <td>No</td>\n",
       "      <td>0.0</td>\n",
       "      <td>Permanent</td>\n",
       "      <td>NaN</td>\n",
       "      <td>Sí</td>\n",
       "      <td>Sí</td>\n",
       "      <td>NaN</td>\n",
       "      <td>Sí</td>\n",
       "      <td>Neurosensorial</td>\n",
       "      <td>Perilocutiva</td>\n",
       "      <td>NaN</td>\n",
       "      <td>NaN</td>\n",
       "      <td>No</td>\n",
       "      <td>No</td>\n",
       "      <td>NaN</td>\n",
       "      <td>NaN</td>\n",
       "      <td>HSJD Dra Claveria</td>\n",
       "    </tr>\n",
       "  </tbody>\n",
       "</table>\n",
       "</div>"
      ],
      "text/plain": [
       "                                     ID Té certificat CAD  \\\n",
       "0  19c7d363-71c1-f441-5e47-5e0dc5e4a1fd                Sí   \n",
       "1  73e5a12f-3169-8bb5-8181-60b8a4df5100                Sí   \n",
       "2  c8a7044c-a15e-6426-be3a-5bf7c9e43700               NaN   \n",
       "3  9b49d2b7-97eb-a44a-fe3a-5f7b14f2400d                Sí   \n",
       "4  a740b955-6c2f-5dff-4aa5-5e0dc5afbb5a                No   \n",
       "\n",
       "   % Grau Discapacitat  Temps CAD  On sordesa Rep ajut econòmic?  \\\n",
       "0                 34.0  Permanent         NaN                 Sí   \n",
       "1                 34.0        NaN  Biilateral                NaN   \n",
       "2                 74.0        NaN         NaN                NaN   \n",
       "3                 78.0        NaN  Biilateral                NaN   \n",
       "4                  0.0  Permanent         NaN                 Sí   \n",
       "\n",
       "  Presenta pluridiscapacitat? Tipus pluridiscapacitat Pren medicació  \\\n",
       "0                          Sí                     NaN             Sí   \n",
       "1                         NaN                     NaN            NaN   \n",
       "2                          Sí                     NaN            NaN   \n",
       "3                         NaN                     NaN            NaN   \n",
       "4                          Sí                     NaN             Sí   \n",
       "\n",
       "  Tipus de sordesa Moment apareix sordesa Quan inici pèrdua  \\\n",
       "0   Neurosensorial            Prelocutiva               NaN   \n",
       "1   Neurosensorial            Prelocutiva         neixement   \n",
       "2              NaN            Prelocutiva         Naixement   \n",
       "3   Neurosensorial            Prelocutiva               NaN   \n",
       "4   Neurosensorial           Perilocutiva               NaN   \n",
       "\n",
       "  Causa pèrdua auditiva Porta audiòfon? Porta implant coclear?  \\\n",
       "0                   NaN              No                     Sí   \n",
       "1           Desconeguda              No                     Sí   \n",
       "2             Adquirida              No                     No   \n",
       "3           Desconeguda              No                    NaN   \n",
       "4                   NaN              No                     No   \n",
       "\n",
       "  On implant coclear Sistema de comunicació  \\\n",
       "0                NaN                    NaN   \n",
       "1      Ambdues oïdes                   Oral   \n",
       "2                NaN                    NaN   \n",
       "3                NaN                 Signes   \n",
       "4                NaN                    NaN   \n",
       "\n",
       "  Hospital o consulta que fa seguiment  \n",
       "0            Hospital Sant Joan de Déu  \n",
       "1                                  NaN  \n",
       "2                                  NaN  \n",
       "3                                  NaN  \n",
       "4                    HSJD Dra Claveria  "
      ]
     },
     "execution_count": 11,
     "metadata": {},
     "output_type": "execute_result"
    }
   ],
   "source": [
    "df = df.drop_duplicates()\n",
    "df.head()"
   ]
  },
  {
   "cell_type": "code",
   "execution_count": 12,
   "id": "6b75755d",
   "metadata": {},
   "outputs": [
    {
     "data": {
      "image/png": "[encoded data removed]",
      "text/plain": [
       "<Figure size 576x432 with 1 Axes>"
      ]
     },
     "metadata": {
      "needs_background": "light"
     },
     "output_type": "display_data"
    }
   ],
   "source": [
    "#ver porcentaje de nans por columna\n",
    "df.isnull().sum()/df.shape[0]*100\n",
    "#graficar porcentaje de nans\n",
    "import matplotlib.pyplot as plt\n",
    "plt.figure(figsize=(8,6))\n",
    "df.isnull().sum()/df.shape[0]*100\n",
    "plt.bar(df.columns,df.isnull().sum()/df.shape[0]*100)\n",
    "plt.xticks(rotation=45, ha='right')\n",
    "plt.title('Porcentatje de valors faltants en les variables de discapacitat')\n",
    "plt.show()"
   ]
  },
  {
   "cell_type": "code",
   "execution_count": 13,
   "id": "60e4815d",
   "metadata": {},
   "outputs": [
    {
     "data": {
      "text/plain": [
       "ID                                       0.000000\n",
       "Té certificat CAD                       18.487395\n",
       "% Grau Discapacitat                      3.819710\n",
       "Temps CAD                               39.190222\n",
       "On sordesa                              68.601986\n",
       "Rep ajut econòmic?                      37.815126\n",
       "Presenta pluridiscapacitat?             24.828113\n",
       "Tipus pluridiscapacitat                 88.693659\n",
       "Pren medicació                          44.155844\n",
       "Tipus de sordesa                        39.190222\n",
       "Moment apareix sordesa                  35.141329\n",
       "Quan inici pèrdua                       85.485103\n",
       "Causa pèrdua auditiva                   58.135982\n",
       "Porta audiòfon?                         18.487395\n",
       "Porta implant coclear?                  28.724217\n",
       "On implant coclear                      84.950344\n",
       "Sistema de comunicació                  52.330023\n",
       "Hospital o consulta que fa seguiment    69.824293\n",
       "dtype: float64"
      ]
     },
     "execution_count": 13,
     "metadata": {},
     "output_type": "execute_result"
    }
   ],
   "source": [
    "df.isnull().sum()/df.shape[0]*100"
   ]
  },
  {
   "cell_type": "code",
   "execution_count": 14,
   "id": "295b5b68",
   "metadata": {},
   "outputs": [],
   "source": [
    "#pasar df_dades_discapacitat a csv\n",
    "df.to_csv('dades_discapacitat_final.csv', index=False, encoding='utf-8')"
   ]
  }
 ],
 "metadata": {
  "kernelspec": {
   "display_name": "Python 3 (ipykernel)",
   "language": "python",
   "name": "python3"
  },
  "language_info": {
   "codemirror_mode": {
    "name": "ipython",
    "version": 3
   },
   "file_extension": ".py",
   "mimetype": "text/x-python",
   "name": "python",
   "nbconvert_exporter": "python",
   "pygments_lexer": "ipython3",
   "version": "3.8.10"
  },
  "nbTranslate": {
   "displayLangs": [
    "*"
   ],
   "hotkey": "alt-t",
   "langInMainMenu": true,
   "sourceLang": "en",
   "targetLang": "fr",
   "useGoogleTranslate": true
  }
 },
 "nbformat": 4,
 "nbformat_minor": 5
}
