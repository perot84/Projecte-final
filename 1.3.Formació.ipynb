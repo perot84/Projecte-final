{
 "cells": [
  {
   "cell_type": "code",
   "execution_count": 1,
   "id": "629e3183",
   "metadata": {},
   "outputs": [],
   "source": [
    "import pandas as pd"
   ]
  },
  {
   "cell_type": "code",
   "execution_count": 2,
   "id": "f63a1164",
   "metadata": {},
   "outputs": [
    {
     "name": "stderr",
     "output_type": "stream",
     "text": [
      "/tmp/ipykernel_8031/3556762923.py:9: SettingWithCopyWarning: \n",
      "A value is trying to be set on a copy of a slice from a DataFrame\n",
      "\n",
      "See the caveats in the documentation: https://pandas.pydata.org/pandas-docs/stable/user_guide/indexing.html#returning-a-view-versus-a-copy\n",
      "  df.rename(columns={'stic_dades_formatives_contactscontacts_ida':'ID'},inplace=True)\n"
     ]
    }
   ],
   "source": [
    "#importar csv utf8\n",
    "df=pd.read_csv('Dades Formatives.csv',encoding='utf-8')\n",
    "df_dic=pd.read_csv('Dict.csv',encoding='utf-8',sep=',')\n",
    "\n",
    "df_i=df\n",
    "\n",
    "df=df[['stic_dades_formatives_contactscontacts_ida','Formació (títol)','Nivell formatiu','Tipologia Centre formació','Estat formació','Nom del Centre formació','Fa logopèdia','Tipus comunicació al centre','Localitat Centre formació']]\n",
    "#cambiar nombre stic_dades_formatives_contactscontacts_ida por ID\n",
    "df.rename(columns={'stic_dades_formatives_contactscontacts_ida':'ID'},inplace=True)\n"
   ]
  },
  {
   "cell_type": "code",
   "execution_count": 3,
   "id": "06de74df",
   "metadata": {},
   "outputs": [
    {
     "name": "stderr",
     "output_type": "stream",
     "text": [
      "/tmp/ipykernel_8031/1252908069.py:1: SettingWithCopyWarning: \n",
      "A value is trying to be set on a copy of a slice from a DataFrame.\n",
      "Try using .loc[row_indexer,col_indexer] = value instead\n",
      "\n",
      "See the caveats in the documentation: https://pandas.pydata.org/pandas-docs/stable/user_guide/indexing.html#returning-a-view-versus-a-copy\n",
      "  df['ID'] = df['ID'].map(df_dic.set_index('ID')['IDN'])\n"
     ]
    },
    {
     "data": {
      "text/html": [
       "<div>\n",
       "<style scoped>\n",
       "    .dataframe tbody tr th:only-of-type {\n",
       "        vertical-align: middle;\n",
       "    }\n",
       "\n",
       "    .dataframe tbody tr th {\n",
       "        vertical-align: top;\n",
       "    }\n",
       "\n",
       "    .dataframe thead th {\n",
       "        text-align: right;\n",
       "    }\n",
       "</style>\n",
       "<table border=\"1\" class=\"dataframe\">\n",
       "  <thead>\n",
       "    <tr style=\"text-align: right;\">\n",
       "      <th></th>\n",
       "      <th>ID</th>\n",
       "      <th>Formació (títol)</th>\n",
       "      <th>Nivell formatiu</th>\n",
       "      <th>Tipologia Centre formació</th>\n",
       "      <th>Estat formació</th>\n",
       "      <th>Nom del Centre formació</th>\n",
       "      <th>Fa logopèdia</th>\n",
       "      <th>Tipus comunicació al centre</th>\n",
       "      <th>Localitat Centre formació</th>\n",
       "    </tr>\n",
       "  </thead>\n",
       "  <tbody>\n",
       "    <tr>\n",
       "      <th>0</th>\n",
       "      <td>b0303c72-6881-f211-be68-5d6fa4cf3ee9</td>\n",
       "      <td>Psicologia</td>\n",
       "      <td>Universitat</td>\n",
       "      <td>NaN</td>\n",
       "      <td>Finalitzat</td>\n",
       "      <td>UNED</td>\n",
       "      <td>NaN</td>\n",
       "      <td>NaN</td>\n",
       "      <td>NaN</td>\n",
       "    </tr>\n",
       "    <tr>\n",
       "      <th>1</th>\n",
       "      <td>b0303c72-6881-f211-be68-5d6fa4cf3ee9</td>\n",
       "      <td>MÀSTER EN OCUPACIO I MERCAT DE TREBALL</td>\n",
       "      <td>Formació no reglada</td>\n",
       "      <td>NaN</td>\n",
       "      <td>Finalitzat</td>\n",
       "      <td>INTEGRACIÓ SOCIAL</td>\n",
       "      <td>NaN</td>\n",
       "      <td>NaN</td>\n",
       "      <td>NaN</td>\n",
       "    </tr>\n",
       "    <tr>\n",
       "      <th>2</th>\n",
       "      <td>dee884f1-f024-2e96-26f6-5fa11b15b77e</td>\n",
       "      <td>CAP</td>\n",
       "      <td>Llar infants</td>\n",
       "      <td>NaN</td>\n",
       "      <td>En curs</td>\n",
       "      <td>NaN</td>\n",
       "      <td>Sí</td>\n",
       "      <td>Oral</td>\n",
       "      <td>NaN</td>\n",
       "    </tr>\n",
       "    <tr>\n",
       "      <th>3</th>\n",
       "      <td>5645b781-73a3-1e2e-879c-5c04f6c79939</td>\n",
       "      <td>EDUCACIÓ INFANTIL</td>\n",
       "      <td>Educació Infantil</td>\n",
       "      <td>Concertat</td>\n",
       "      <td>En curs</td>\n",
       "      <td>VEDRUNA ESCORIAL. VIC</td>\n",
       "      <td>Sí</td>\n",
       "      <td>Oral</td>\n",
       "      <td>VIC</td>\n",
       "    </tr>\n",
       "    <tr>\n",
       "      <th>4</th>\n",
       "      <td>6c049838-2b2f-21d7-8356-62d6813fb7af</td>\n",
       "      <td>ESO</td>\n",
       "      <td>Educació Secundària</td>\n",
       "      <td>Públic</td>\n",
       "      <td>En curs</td>\n",
       "      <td>NaN</td>\n",
       "      <td>No</td>\n",
       "      <td>Oral</td>\n",
       "      <td>NaN</td>\n",
       "    </tr>\n",
       "  </tbody>\n",
       "</table>\n",
       "</div>"
      ],
      "text/plain": [
       "                                     ID  \\\n",
       "0  b0303c72-6881-f211-be68-5d6fa4cf3ee9   \n",
       "1  b0303c72-6881-f211-be68-5d6fa4cf3ee9   \n",
       "2  dee884f1-f024-2e96-26f6-5fa11b15b77e   \n",
       "3  5645b781-73a3-1e2e-879c-5c04f6c79939   \n",
       "4  6c049838-2b2f-21d7-8356-62d6813fb7af   \n",
       "\n",
       "                         Formació (títol)      Nivell formatiu  \\\n",
       "0                              Psicologia          Universitat   \n",
       "1  MÀSTER EN OCUPACIO I MERCAT DE TREBALL  Formació no reglada   \n",
       "2                                     CAP         Llar infants   \n",
       "3                       EDUCACIÓ INFANTIL    Educació Infantil   \n",
       "4                                     ESO  Educació Secundària   \n",
       "\n",
       "  Tipologia Centre formació Estat formació Nom del Centre formació  \\\n",
       "0                       NaN     Finalitzat                    UNED   \n",
       "1                       NaN     Finalitzat       INTEGRACIÓ SOCIAL   \n",
       "2                       NaN        En curs                     NaN   \n",
       "3                 Concertat        En curs   VEDRUNA ESCORIAL. VIC   \n",
       "4                    Públic        En curs                     NaN   \n",
       "\n",
       "  Fa logopèdia Tipus comunicació al centre Localitat Centre formació  \n",
       "0          NaN                         NaN                       NaN  \n",
       "1          NaN                         NaN                       NaN  \n",
       "2           Sí                        Oral                       NaN  \n",
       "3           Sí                        Oral                       VIC  \n",
       "4           No                        Oral                       NaN  "
      ]
     },
     "execution_count": 3,
     "metadata": {},
     "output_type": "execute_result"
    }
   ],
   "source": [
    "df['ID'] = df['ID'].map(df_dic.set_index('ID')['IDN'])\n",
    "df.head()"
   ]
  },
  {
   "cell_type": "code",
   "execution_count": 4,
   "id": "3c8393d2",
   "metadata": {},
   "outputs": [
    {
     "data": {
      "image/png": "[encoded data removed]",
      "text/plain": [
       "<Figure size 432x288 with 1 Axes>"
      ]
     },
     "metadata": {
      "needs_background": "light"
     },
     "output_type": "display_data"
    }
   ],
   "source": [
    "#ver porcentaje de nans por columna\n",
    "df.isnull().sum()/df.shape[0]*100\n",
    "#graficar porcentaje de nans\n",
    "import matplotlib.pyplot as plt\n",
    "df.isnull().sum()/df.shape[0]*100\n",
    "plt.bar(df.columns,df.isnull().sum()/df.shape[0]*100)\n",
    "plt.xticks(rotation=45, ha='right')\n",
    "plt.title('Porcentatje de valors faltants en les variables de formació')\n",
    "plt.show()"
   ]
  },
  {
   "cell_type": "code",
   "execution_count": 5,
   "id": "fb27f4fd",
   "metadata": {},
   "outputs": [
    {
     "data": {
      "text/plain": [
       "Index(['ID', 'Formació (títol)', 'Nivell formatiu',\n",
       "       'Tipologia Centre formació', 'Estat formació',\n",
       "       'Nom del Centre formació', 'Fa logopèdia',\n",
       "       'Tipus comunicació al centre', 'Localitat Centre formació'],\n",
       "      dtype='object')"
      ]
     },
     "execution_count": 5,
     "metadata": {},
     "output_type": "execute_result"
    }
   ],
   "source": [
    "df.columns"
   ]
  },
  {
   "cell_type": "code",
   "execution_count": 6,
   "id": "1c8bb5ef",
   "metadata": {},
   "outputs": [],
   "source": [
    "df=df[['ID','Nivell formatiu','Tipologia Centre formació', 'Estat formació', 'Fa logopèdia','Tipus comunicació al centre', 'Localitat Centre formació']]\n",
    "#cambiar nombre columna stic_dades_formatives_contactscontacts_ida por ID"
   ]
  },
  {
   "cell_type": "code",
   "execution_count": 7,
   "id": "eabdd5fa",
   "metadata": {},
   "outputs": [
    {
     "data": {
      "text/plain": [
       "array(['Universitat', 'Formació no reglada', 'Llar infants',\n",
       "       'Educació Infantil', 'Educació Secundària',\n",
       "       'Educació Primària (i EGB)', 'Formació Professional',\n",
       "       'Altra formació reglada', 'Batxillerat (i COU)',\n",
       "       'Altres (no categoritzat)'], dtype=object)"
      ]
     },
     "execution_count": 7,
     "metadata": {},
     "output_type": "execute_result"
    }
   ],
   "source": [
    "#valores unicos en Nivell formatiu\n",
    "df['Nivell formatiu'].unique()"
   ]
  },
  {
   "cell_type": "markdown",
   "id": "5deed835",
   "metadata": {},
   "source": [
    "Creem un diccionari per tal de mantenir les formacions de més nivell"
   ]
  },
  {
   "cell_type": "code",
   "execution_count": 8,
   "id": "40c6694e",
   "metadata": {},
   "outputs": [
    {
     "data": {
      "text/html": [
       "<div>\n",
       "<style scoped>\n",
       "    .dataframe tbody tr th:only-of-type {\n",
       "        vertical-align: middle;\n",
       "    }\n",
       "\n",
       "    .dataframe tbody tr th {\n",
       "        vertical-align: top;\n",
       "    }\n",
       "\n",
       "    .dataframe thead th {\n",
       "        text-align: right;\n",
       "    }\n",
       "</style>\n",
       "<table border=\"1\" class=\"dataframe\">\n",
       "  <thead>\n",
       "    <tr style=\"text-align: right;\">\n",
       "      <th></th>\n",
       "      <th>ID</th>\n",
       "      <th>Nivell formatiu</th>\n",
       "      <th>Tipologia Centre formació</th>\n",
       "      <th>Estat formació</th>\n",
       "      <th>Fa logopèdia</th>\n",
       "      <th>Tipus comunicació al centre</th>\n",
       "      <th>Localitat Centre formació</th>\n",
       "      <th>nivell estudis</th>\n",
       "    </tr>\n",
       "  </thead>\n",
       "  <tbody>\n",
       "    <tr>\n",
       "      <th>0</th>\n",
       "      <td>b0303c72-6881-f211-be68-5d6fa4cf3ee9</td>\n",
       "      <td>Universitat</td>\n",
       "      <td>NaN</td>\n",
       "      <td>Finalitzat</td>\n",
       "      <td>NaN</td>\n",
       "      <td>NaN</td>\n",
       "      <td>NaN</td>\n",
       "      <td>9</td>\n",
       "    </tr>\n",
       "    <tr>\n",
       "      <th>1</th>\n",
       "      <td>b0303c72-6881-f211-be68-5d6fa4cf3ee9</td>\n",
       "      <td>Formació no reglada</td>\n",
       "      <td>NaN</td>\n",
       "      <td>Finalitzat</td>\n",
       "      <td>NaN</td>\n",
       "      <td>NaN</td>\n",
       "      <td>NaN</td>\n",
       "      <td>3</td>\n",
       "    </tr>\n",
       "    <tr>\n",
       "      <th>2</th>\n",
       "      <td>dee884f1-f024-2e96-26f6-5fa11b15b77e</td>\n",
       "      <td>Llar infants</td>\n",
       "      <td>NaN</td>\n",
       "      <td>En curs</td>\n",
       "      <td>Sí</td>\n",
       "      <td>Oral</td>\n",
       "      <td>NaN</td>\n",
       "      <td>0</td>\n",
       "    </tr>\n",
       "    <tr>\n",
       "      <th>3</th>\n",
       "      <td>5645b781-73a3-1e2e-879c-5c04f6c79939</td>\n",
       "      <td>Educació Infantil</td>\n",
       "      <td>Concertat</td>\n",
       "      <td>En curs</td>\n",
       "      <td>Sí</td>\n",
       "      <td>Oral</td>\n",
       "      <td>VIC</td>\n",
       "      <td>1</td>\n",
       "    </tr>\n",
       "    <tr>\n",
       "      <th>4</th>\n",
       "      <td>6c049838-2b2f-21d7-8356-62d6813fb7af</td>\n",
       "      <td>Educació Secundària</td>\n",
       "      <td>Públic</td>\n",
       "      <td>En curs</td>\n",
       "      <td>No</td>\n",
       "      <td>Oral</td>\n",
       "      <td>NaN</td>\n",
       "      <td>6</td>\n",
       "    </tr>\n",
       "  </tbody>\n",
       "</table>\n",
       "</div>"
      ],
      "text/plain": [
       "                                     ID      Nivell formatiu  \\\n",
       "0  b0303c72-6881-f211-be68-5d6fa4cf3ee9          Universitat   \n",
       "1  b0303c72-6881-f211-be68-5d6fa4cf3ee9  Formació no reglada   \n",
       "2  dee884f1-f024-2e96-26f6-5fa11b15b77e         Llar infants   \n",
       "3  5645b781-73a3-1e2e-879c-5c04f6c79939    Educació Infantil   \n",
       "4  6c049838-2b2f-21d7-8356-62d6813fb7af  Educació Secundària   \n",
       "\n",
       "  Tipologia Centre formació Estat formació Fa logopèdia  \\\n",
       "0                       NaN     Finalitzat          NaN   \n",
       "1                       NaN     Finalitzat          NaN   \n",
       "2                       NaN        En curs           Sí   \n",
       "3                 Concertat        En curs           Sí   \n",
       "4                    Públic        En curs           No   \n",
       "\n",
       "  Tipus comunicació al centre Localitat Centre formació  nivell estudis  \n",
       "0                         NaN                       NaN               9  \n",
       "1                         NaN                       NaN               3  \n",
       "2                        Oral                       NaN               0  \n",
       "3                        Oral                       VIC               1  \n",
       "4                        Oral                       NaN               6  "
      ]
     },
     "execution_count": 8,
     "metadata": {},
     "output_type": "execute_result"
    }
   ],
   "source": [
    "niveles = {\n",
    "    'Llar infants':0,\n",
    "    'Educació Infantil':1,\n",
    "    'Altres (no categoritzat)': 2,\n",
    "    'Formació no reglada':3,\n",
    "    'Altra formació reglada': 4,\n",
    "    'Educació Primària (i EGB)': 5,\n",
    "    'Educació Secundària': 6,\n",
    "    'Batxillerat (i COU)': 7,\n",
    "    'Formació Professional': 8,\n",
    "    'Universitat': 9,\n",
    "}\n",
    "\n",
    "# Crear la nueva columna \"nivell estudis\" utilizando la función map\n",
    "df['nivell estudis'] = df['Nivell formatiu'].map(niveles)\n",
    "df.head()"
   ]
  },
  {
   "cell_type": "code",
   "execution_count": 9,
   "id": "77f59380",
   "metadata": {},
   "outputs": [
    {
     "data": {
      "text/html": [
       "<div>\n",
       "<style scoped>\n",
       "    .dataframe tbody tr th:only-of-type {\n",
       "        vertical-align: middle;\n",
       "    }\n",
       "\n",
       "    .dataframe tbody tr th {\n",
       "        vertical-align: top;\n",
       "    }\n",
       "\n",
       "    .dataframe thead th {\n",
       "        text-align: right;\n",
       "    }\n",
       "</style>\n",
       "<table border=\"1\" class=\"dataframe\">\n",
       "  <thead>\n",
       "    <tr style=\"text-align: right;\">\n",
       "      <th></th>\n",
       "      <th>ID</th>\n",
       "      <th>Nivell formatiu</th>\n",
       "      <th>Tipologia Centre formació</th>\n",
       "      <th>Estat formació</th>\n",
       "      <th>Fa logopèdia</th>\n",
       "      <th>Tipus comunicació al centre</th>\n",
       "      <th>Localitat Centre formació</th>\n",
       "      <th>nivell estudis</th>\n",
       "    </tr>\n",
       "  </thead>\n",
       "  <tbody>\n",
       "    <tr>\n",
       "      <th>100</th>\n",
       "      <td>10031d51-3654-6bdd-ad97-5f69f0cdf888</td>\n",
       "      <td>Educació Primària (i EGB)</td>\n",
       "      <td>NaN</td>\n",
       "      <td>Finalitzat</td>\n",
       "      <td>NaN</td>\n",
       "      <td>Oral</td>\n",
       "      <td>SANT CUGAT DEL VALLÈS</td>\n",
       "      <td>5</td>\n",
       "    </tr>\n",
       "    <tr>\n",
       "      <th>32</th>\n",
       "      <td>118cbd91-8e15-1a15-b3e3-5f6b37902fff</td>\n",
       "      <td>Formació Professional</td>\n",
       "      <td>NaN</td>\n",
       "      <td>Finalitzat</td>\n",
       "      <td>NaN</td>\n",
       "      <td>Llengua de signes</td>\n",
       "      <td>NaN</td>\n",
       "      <td>8</td>\n",
       "    </tr>\n",
       "    <tr>\n",
       "      <th>194</th>\n",
       "      <td>129f1ccc-bcb6-1e15-b3d3-621c846a594f</td>\n",
       "      <td>Formació Professional</td>\n",
       "      <td>NaN</td>\n",
       "      <td>Finalitzat</td>\n",
       "      <td>NaN</td>\n",
       "      <td>NaN</td>\n",
       "      <td>NaN</td>\n",
       "      <td>8</td>\n",
       "    </tr>\n",
       "    <tr>\n",
       "      <th>129</th>\n",
       "      <td>12cb5f09-14e2-185e-ee1d-5f69c44f499a</td>\n",
       "      <td>Educació Primària (i EGB)</td>\n",
       "      <td>Concertat</td>\n",
       "      <td>En curs</td>\n",
       "      <td>Sí</td>\n",
       "      <td>Oral</td>\n",
       "      <td>SANTA COLOMA DE FARNES</td>\n",
       "      <td>5</td>\n",
       "    </tr>\n",
       "    <tr>\n",
       "      <th>78</th>\n",
       "      <td>130f8822-368d-f3d8-f843-5da710debfb2</td>\n",
       "      <td>Universitat</td>\n",
       "      <td>NaN</td>\n",
       "      <td>Finalitzat</td>\n",
       "      <td>NaN</td>\n",
       "      <td>Oral</td>\n",
       "      <td>NaN</td>\n",
       "      <td>9</td>\n",
       "    </tr>\n",
       "  </tbody>\n",
       "</table>\n",
       "</div>"
      ],
      "text/plain": [
       "                                       ID            Nivell formatiu  \\\n",
       "100  10031d51-3654-6bdd-ad97-5f69f0cdf888  Educació Primària (i EGB)   \n",
       "32   118cbd91-8e15-1a15-b3e3-5f6b37902fff      Formació Professional   \n",
       "194  129f1ccc-bcb6-1e15-b3d3-621c846a594f      Formació Professional   \n",
       "129  12cb5f09-14e2-185e-ee1d-5f69c44f499a  Educació Primària (i EGB)   \n",
       "78   130f8822-368d-f3d8-f843-5da710debfb2                Universitat   \n",
       "\n",
       "    Tipologia Centre formació Estat formació Fa logopèdia  \\\n",
       "100                       NaN     Finalitzat          NaN   \n",
       "32                        NaN     Finalitzat          NaN   \n",
       "194                       NaN     Finalitzat          NaN   \n",
       "129                 Concertat        En curs           Sí   \n",
       "78                        NaN     Finalitzat          NaN   \n",
       "\n",
       "    Tipus comunicació al centre Localitat Centre formació  nivell estudis  \n",
       "100                        Oral     SANT CUGAT DEL VALLÈS               5  \n",
       "32            Llengua de signes                       NaN               8  \n",
       "194                         NaN                       NaN               8  \n",
       "129                        Oral    SANTA COLOMA DE FARNES               5  \n",
       "78                         Oral                       NaN               9  "
      ]
     },
     "execution_count": 9,
     "metadata": {},
     "output_type": "execute_result"
    }
   ],
   "source": [
    "#unir filas duplicadas y mantener valor mas alto en nivell d'estudis\n",
    "indices_max =df.groupby('ID')['nivell estudis'].idxmax()\n",
    "df=df.loc[indices_max]\n",
    "df.head()"
   ]
  },
  {
   "cell_type": "code",
   "execution_count": 10,
   "id": "f0c9b3c4",
   "metadata": {},
   "outputs": [
    {
     "data": {
      "text/html": [
       "<div>\n",
       "<style scoped>\n",
       "    .dataframe tbody tr th:only-of-type {\n",
       "        vertical-align: middle;\n",
       "    }\n",
       "\n",
       "    .dataframe tbody tr th {\n",
       "        vertical-align: top;\n",
       "    }\n",
       "\n",
       "    .dataframe thead th {\n",
       "        text-align: right;\n",
       "    }\n",
       "</style>\n",
       "<table border=\"1\" class=\"dataframe\">\n",
       "  <thead>\n",
       "    <tr style=\"text-align: right;\">\n",
       "      <th></th>\n",
       "      <th>ID</th>\n",
       "      <th>Nivell formatiu</th>\n",
       "      <th>Tipologia Centre formació</th>\n",
       "      <th>Estat formació</th>\n",
       "      <th>Fa logopèdia</th>\n",
       "      <th>Tipus comunicació al centre</th>\n",
       "      <th>Localitat Centre formació</th>\n",
       "    </tr>\n",
       "  </thead>\n",
       "  <tbody>\n",
       "    <tr>\n",
       "      <th>100</th>\n",
       "      <td>10031d51-3654-6bdd-ad97-5f69f0cdf888</td>\n",
       "      <td>Educació Primària (i EGB)</td>\n",
       "      <td>NaN</td>\n",
       "      <td>Finalitzat</td>\n",
       "      <td>NaN</td>\n",
       "      <td>Oral</td>\n",
       "      <td>SANT CUGAT DEL VALLÈS</td>\n",
       "    </tr>\n",
       "    <tr>\n",
       "      <th>32</th>\n",
       "      <td>118cbd91-8e15-1a15-b3e3-5f6b37902fff</td>\n",
       "      <td>Formació Professional</td>\n",
       "      <td>NaN</td>\n",
       "      <td>Finalitzat</td>\n",
       "      <td>NaN</td>\n",
       "      <td>Llengua de signes</td>\n",
       "      <td>NaN</td>\n",
       "    </tr>\n",
       "    <tr>\n",
       "      <th>194</th>\n",
       "      <td>129f1ccc-bcb6-1e15-b3d3-621c846a594f</td>\n",
       "      <td>Formació Professional</td>\n",
       "      <td>NaN</td>\n",
       "      <td>Finalitzat</td>\n",
       "      <td>NaN</td>\n",
       "      <td>NaN</td>\n",
       "      <td>NaN</td>\n",
       "    </tr>\n",
       "    <tr>\n",
       "      <th>129</th>\n",
       "      <td>12cb5f09-14e2-185e-ee1d-5f69c44f499a</td>\n",
       "      <td>Educació Primària (i EGB)</td>\n",
       "      <td>Concertat</td>\n",
       "      <td>En curs</td>\n",
       "      <td>Sí</td>\n",
       "      <td>Oral</td>\n",
       "      <td>SANTA COLOMA DE FARNES</td>\n",
       "    </tr>\n",
       "    <tr>\n",
       "      <th>78</th>\n",
       "      <td>130f8822-368d-f3d8-f843-5da710debfb2</td>\n",
       "      <td>Universitat</td>\n",
       "      <td>NaN</td>\n",
       "      <td>Finalitzat</td>\n",
       "      <td>NaN</td>\n",
       "      <td>Oral</td>\n",
       "      <td>NaN</td>\n",
       "    </tr>\n",
       "  </tbody>\n",
       "</table>\n",
       "</div>"
      ],
      "text/plain": [
       "                                       ID            Nivell formatiu  \\\n",
       "100  10031d51-3654-6bdd-ad97-5f69f0cdf888  Educació Primària (i EGB)   \n",
       "32   118cbd91-8e15-1a15-b3e3-5f6b37902fff      Formació Professional   \n",
       "194  129f1ccc-bcb6-1e15-b3d3-621c846a594f      Formació Professional   \n",
       "129  12cb5f09-14e2-185e-ee1d-5f69c44f499a  Educació Primària (i EGB)   \n",
       "78   130f8822-368d-f3d8-f843-5da710debfb2                Universitat   \n",
       "\n",
       "    Tipologia Centre formació Estat formació Fa logopèdia  \\\n",
       "100                       NaN     Finalitzat          NaN   \n",
       "32                        NaN     Finalitzat          NaN   \n",
       "194                       NaN     Finalitzat          NaN   \n",
       "129                 Concertat        En curs           Sí   \n",
       "78                        NaN     Finalitzat          NaN   \n",
       "\n",
       "    Tipus comunicació al centre Localitat Centre formació  \n",
       "100                        Oral     SANT CUGAT DEL VALLÈS  \n",
       "32            Llengua de signes                       NaN  \n",
       "194                         NaN                       NaN  \n",
       "129                        Oral    SANTA COLOMA DE FARNES  \n",
       "78                         Oral                       NaN  "
      ]
     },
     "execution_count": 10,
     "metadata": {},
     "output_type": "execute_result"
    }
   ],
   "source": [
    "#eliminar columna nivell estudis\n",
    "df = df.drop(['nivell estudis'], axis=1)\n",
    "df.head()"
   ]
  },
  {
   "cell_type": "code",
   "execution_count": 11,
   "id": "9e4bde09",
   "metadata": {},
   "outputs": [
    {
     "data": {
      "text/plain": [
       "ID                               0\n",
       "Nivell formatiu                  0\n",
       "Tipologia Centre formació      121\n",
       "Estat formació                   0\n",
       "Fa logopèdia                   144\n",
       "Tipus comunicació al centre    118\n",
       "Localitat Centre formació      130\n",
       "dtype: int64"
      ]
     },
     "execution_count": 11,
     "metadata": {},
     "output_type": "execute_result"
    }
   ],
   "source": [
    "#nulls\n",
    "df.isnull().sum()"
   ]
  },
  {
   "cell_type": "code",
   "execution_count": 12,
   "id": "0513a8c7",
   "metadata": {},
   "outputs": [
    {
     "data": {
      "image/png": "[encoded data removed]",
      "text/plain": [
       "<Figure size 432x288 with 1 Axes>"
      ]
     },
     "metadata": {
      "needs_background": "light"
     },
     "output_type": "display_data"
    }
   ],
   "source": [
    "#ver porcentaje de nans por columna\n",
    "df.isnull().sum()/df.shape[0]*100\n",
    "#graficar porcentaje de nans\n",
    "import matplotlib.pyplot as plt\n",
    "df.isnull().sum()/df.shape[0]*100\n",
    "plt.bar(df.columns,df.isnull().sum()/df.shape[0]*100)\n",
    "plt.xticks(rotation=45, ha='right')\n",
    "plt.title('Porcentatje de valors faltants en les variables de formació')\n",
    "plt.show()"
   ]
  },
  {
   "cell_type": "markdown",
   "id": "fbd53049",
   "metadata": {},
   "source": [
    "No és determinant el nombre de nulls, ja que inclou usuaris sense formació (infants)"
   ]
  },
  {
   "cell_type": "code",
   "execution_count": 13,
   "id": "b67fbdbe",
   "metadata": {},
   "outputs": [],
   "source": [
    "#pasar df_dadesformatives a csv\n",
    "df.to_csv('dades_formatives_f.csv', index=False, encoding='utf-8')"
   ]
  }
 ],
 "metadata": {
  "kernelspec": {
   "display_name": "Python 3 (ipykernel)",
   "language": "python",
   "name": "python3"
  },
  "language_info": {
   "codemirror_mode": {
    "name": "ipython",
    "version": 3
   },
   "file_extension": ".py",
   "mimetype": "text/x-python",
   "name": "python",
   "nbconvert_exporter": "python",
   "pygments_lexer": "ipython3",
   "version": "3.8.10"
  },
  "nbTranslate": {
   "displayLangs": [
    "*"
   ],
   "hotkey": "alt-t",
   "langInMainMenu": true,
   "sourceLang": "en",
   "targetLang": "fr",
   "useGoogleTranslate": true
  }
 },
 "nbformat": 4,
 "nbformat_minor": 5
}
