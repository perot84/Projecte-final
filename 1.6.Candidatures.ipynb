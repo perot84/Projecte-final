{
 "cells": [
  {
   "cell_type": "markdown",
   "id": "d5db8cdd",
   "metadata": {},
   "source": [
    "Aquesta base de dades recull les diferents candidatures a llocs de feina i quina persona hi ha accedit.\n",
    "\n",
    "En aquest cas mantenim tan sols la columna **ata d’inici de contracte** més recent per posteriorment calcular el temps que ha trigat la persona a trobar feina."
   ]
  },
  {
   "cell_type": "code",
   "execution_count": 1,
   "id": "48668d88",
   "metadata": {},
   "outputs": [],
   "source": [
    "import pandas as pd"
   ]
  },
  {
   "cell_type": "code",
   "execution_count": 2,
   "id": "40107272",
   "metadata": {},
   "outputs": [],
   "source": [
    "df=pd.read_csv ('Candidatures.csv',encoding='utf-8',sep=';')\n",
    "df_i=df\n",
    "df_dic=pd.read_csv('Dict.csv',encoding='utf-8',sep=',')"
   ]
  },
  {
   "cell_type": "code",
   "execution_count": 3,
   "id": "2eb7df9a",
   "metadata": {},
   "outputs": [
    {
     "data": {
      "text/html": [
       "<div>\n",
       "<style scoped>\n",
       "    .dataframe tbody tr th:only-of-type {\n",
       "        vertical-align: middle;\n",
       "    }\n",
       "\n",
       "    .dataframe tbody tr th {\n",
       "        vertical-align: top;\n",
       "    }\n",
       "\n",
       "    .dataframe thead th {\n",
       "        text-align: right;\n",
       "    }\n",
       "</style>\n",
       "<table border=\"1\" class=\"dataframe\">\n",
       "  <thead>\n",
       "    <tr style=\"text-align: right;\">\n",
       "      <th></th>\n",
       "      <th>stic_job_applications_contactscontacts_ida</th>\n",
       "      <th>Estat</th>\n",
       "      <th>Data inici de contracte o col·locació</th>\n",
       "    </tr>\n",
       "  </thead>\n",
       "  <tbody>\n",
       "    <tr>\n",
       "      <th>0</th>\n",
       "      <td>704479ea-d2a7-181c-b77b-5db827b9a0ea</td>\n",
       "      <td>Acceptada</td>\n",
       "      <td>19/11/2018</td>\n",
       "    </tr>\n",
       "    <tr>\n",
       "      <th>1</th>\n",
       "      <td>1d7ef175-9a25-2d41-3f92-5ebcfb9c2d92</td>\n",
       "      <td>Acceptada</td>\n",
       "      <td>22/04/2021</td>\n",
       "    </tr>\n",
       "    <tr>\n",
       "      <th>2</th>\n",
       "      <td>d7366cf1-3ddd-9d0f-8809-5db6c6aab2e3</td>\n",
       "      <td>Acceptada</td>\n",
       "      <td>31/12/2019</td>\n",
       "    </tr>\n",
       "    <tr>\n",
       "      <th>3</th>\n",
       "      <td>1c7da56d-7fe8-9075-871e-5e0dc54da398</td>\n",
       "      <td>Presentada</td>\n",
       "      <td>NaN</td>\n",
       "    </tr>\n",
       "    <tr>\n",
       "      <th>4</th>\n",
       "      <td>c1142452-aaf4-4e8b-dd93-5fd336468e08</td>\n",
       "      <td>Prevista presentació</td>\n",
       "      <td>NaN</td>\n",
       "    </tr>\n",
       "  </tbody>\n",
       "</table>\n",
       "</div>"
      ],
      "text/plain": [
       "  stic_job_applications_contactscontacts_ida                 Estat  \\\n",
       "0       704479ea-d2a7-181c-b77b-5db827b9a0ea             Acceptada   \n",
       "1       1d7ef175-9a25-2d41-3f92-5ebcfb9c2d92             Acceptada   \n",
       "2       d7366cf1-3ddd-9d0f-8809-5db6c6aab2e3             Acceptada   \n",
       "3       1c7da56d-7fe8-9075-871e-5e0dc54da398            Presentada   \n",
       "4       c1142452-aaf4-4e8b-dd93-5fd336468e08  Prevista presentació   \n",
       "\n",
       "  Data inici de contracte o col·locació  \n",
       "0                            19/11/2018  \n",
       "1                            22/04/2021  \n",
       "2                            31/12/2019  \n",
       "3                                   NaN  \n",
       "4                                   NaN  "
      ]
     },
     "execution_count": 3,
     "metadata": {},
     "output_type": "execute_result"
    }
   ],
   "source": [
    "df=df[['stic_job_applications_contactscontacts_ida','Estat','Data inici de contracte o col·locació']]\n",
    "df.head()"
   ]
  },
  {
   "cell_type": "code",
   "execution_count": 4,
   "id": "cedb5363",
   "metadata": {},
   "outputs": [],
   "source": [
    "#seleccionar filas con estat = Acceptada en df\n",
    "df_accepted=df[df['Estat']=='Acceptada']"
   ]
  },
  {
   "cell_type": "code",
   "execution_count": 5,
   "id": "85b45088",
   "metadata": {},
   "outputs": [
    {
     "data": {
      "image/png": "[encoded data removed]",
      "text/plain": [
       "<Figure size 576x432 with 1 Axes>"
      ]
     },
     "metadata": {
      "needs_background": "light"
     },
     "output_type": "display_data"
    }
   ],
   "source": [
    "#ver porcentaje de nans por columna\n",
    "df_accepted.isnull().sum()/df_accepted.shape[0]*100\n",
    "#graficar porcentaje de nans\n",
    "import matplotlib.pyplot as plt\n",
    "plt.figure(figsize=(8,6))\n",
    "df.isnull().sum()/df.shape[0]*100\n",
    "plt.bar(df.columns,df.isnull().sum()/df.shape[0]*100)\n",
    "plt.xticks(rotation=45, ha='right')\n",
    "plt.title('Porcentatje de valors faltants en les variables de persones')\n",
    "plt.show()"
   ]
  },
  {
   "cell_type": "code",
   "execution_count": 6,
   "id": "67cc1923",
   "metadata": {},
   "outputs": [
    {
     "data": {
      "text/plain": [
       "stic_job_applications_contactscontacts_ida    object\n",
       "Estat                                         object\n",
       "Data inici de contracte o col·locació         object\n",
       "dtype: object"
      ]
     },
     "execution_count": 6,
     "metadata": {},
     "output_type": "execute_result"
    }
   ],
   "source": [
    "df.dtypes"
   ]
  },
  {
   "cell_type": "code",
   "execution_count": 7,
   "id": "8671ce93",
   "metadata": {},
   "outputs": [
    {
     "name": "stderr",
     "output_type": "stream",
     "text": [
      "/tmp/ipykernel_13693/1420689585.py:2: UserWarning: Parsing dates in DD/MM/YYYY format when dayfirst=False (the default) was specified. This may lead to inconsistently parsed dates! Specify a format to ensure consistent parsing.\n",
      "  df['Data inici de contracte o col·locació']=pd.to_datetime(df['Data inici de contracte o col·locació'])\n",
      "/tmp/ipykernel_13693/1420689585.py:2: SettingWithCopyWarning: \n",
      "A value is trying to be set on a copy of a slice from a DataFrame.\n",
      "Try using .loc[row_indexer,col_indexer] = value instead\n",
      "\n",
      "See the caveats in the documentation: https://pandas.pydata.org/pandas-docs/stable/user_guide/indexing.html#returning-a-view-versus-a-copy\n",
      "  df['Data inici de contracte o col·locació']=pd.to_datetime(df['Data inici de contracte o col·locació'])\n"
     ]
    }
   ],
   "source": [
    "#Data inici de contracte o col·locació a datatime\n",
    "df['Data inici de contracte o col·locació']=pd.to_datetime(df['Data inici de contracte o col·locació'])"
   ]
  },
  {
   "cell_type": "code",
   "execution_count": 8,
   "id": "7c6898de",
   "metadata": {},
   "outputs": [],
   "source": [
    "df_data=df.dropna(subset=['Data inici de contracte o col·locació'])"
   ]
  },
  {
   "cell_type": "code",
   "execution_count": 9,
   "id": "4530eecf",
   "metadata": {},
   "outputs": [
    {
     "name": "stdout",
     "output_type": "stream",
     "text": [
      "(264, 3)\n",
      "(235, 3)\n"
     ]
    }
   ],
   "source": [
    "print (df_accepted.shape)\n",
    "print (df_data.shape)"
   ]
  },
  {
   "cell_type": "code",
   "execution_count": 10,
   "id": "545c4ad1",
   "metadata": {},
   "outputs": [],
   "source": [
    "#Mantener solo con estado = Acceptada\n",
    "df=df[df['Estat']=='Acceptada']"
   ]
  },
  {
   "cell_type": "code",
   "execution_count": 11,
   "id": "d51434cc",
   "metadata": {},
   "outputs": [],
   "source": [
    "#cambiar nombre stic_job_applications_contactscontacts_ida a ID\n",
    "df.rename(columns={'stic_job_applications_contactscontacts_ida':'ID'},inplace=True)\n"
   ]
  },
  {
   "cell_type": "code",
   "execution_count": 12,
   "id": "1d0f56aa",
   "metadata": {},
   "outputs": [
    {
     "data": {
      "text/html": [
       "<div>\n",
       "<style scoped>\n",
       "    .dataframe tbody tr th:only-of-type {\n",
       "        vertical-align: middle;\n",
       "    }\n",
       "\n",
       "    .dataframe tbody tr th {\n",
       "        vertical-align: top;\n",
       "    }\n",
       "\n",
       "    .dataframe thead th {\n",
       "        text-align: right;\n",
       "    }\n",
       "</style>\n",
       "<table border=\"1\" class=\"dataframe\">\n",
       "  <thead>\n",
       "    <tr style=\"text-align: right;\">\n",
       "      <th></th>\n",
       "      <th>ID</th>\n",
       "      <th>Estat</th>\n",
       "      <th>Data inici de contracte o col·locació</th>\n",
       "    </tr>\n",
       "  </thead>\n",
       "  <tbody>\n",
       "    <tr>\n",
       "      <th>0</th>\n",
       "      <td>704479ea-d2a7-181c-b77b-5db827b9a0ea</td>\n",
       "      <td>Acceptada</td>\n",
       "      <td>2018-11-19</td>\n",
       "    </tr>\n",
       "    <tr>\n",
       "      <th>1</th>\n",
       "      <td>1d7ef175-9a25-2d41-3f92-5ebcfb9c2d92</td>\n",
       "      <td>Acceptada</td>\n",
       "      <td>2021-04-22</td>\n",
       "    </tr>\n",
       "    <tr>\n",
       "      <th>2</th>\n",
       "      <td>d7366cf1-3ddd-9d0f-8809-5db6c6aab2e3</td>\n",
       "      <td>Acceptada</td>\n",
       "      <td>2019-12-31</td>\n",
       "    </tr>\n",
       "    <tr>\n",
       "      <th>5</th>\n",
       "      <td>c5e7d4e3-8143-8639-7414-5bf443c1273e</td>\n",
       "      <td>Acceptada</td>\n",
       "      <td>2019-05-23</td>\n",
       "    </tr>\n",
       "    <tr>\n",
       "      <th>6</th>\n",
       "      <td>16fb0634-bed1-9fe7-2136-5c29e8d66421</td>\n",
       "      <td>Acceptada</td>\n",
       "      <td>NaT</td>\n",
       "    </tr>\n",
       "  </tbody>\n",
       "</table>\n",
       "</div>"
      ],
      "text/plain": [
       "                                     ID      Estat  \\\n",
       "0  704479ea-d2a7-181c-b77b-5db827b9a0ea  Acceptada   \n",
       "1  1d7ef175-9a25-2d41-3f92-5ebcfb9c2d92  Acceptada   \n",
       "2  d7366cf1-3ddd-9d0f-8809-5db6c6aab2e3  Acceptada   \n",
       "5  c5e7d4e3-8143-8639-7414-5bf443c1273e  Acceptada   \n",
       "6  16fb0634-bed1-9fe7-2136-5c29e8d66421  Acceptada   \n",
       "\n",
       "  Data inici de contracte o col·locació  \n",
       "0                            2018-11-19  \n",
       "1                            2021-04-22  \n",
       "2                            2019-12-31  \n",
       "5                            2019-05-23  \n",
       "6                                   NaT  "
      ]
     },
     "execution_count": 12,
     "metadata": {},
     "output_type": "execute_result"
    }
   ],
   "source": [
    "df['ID'] = df['ID'].map(df_dic.set_index('ID')['IDN'])\n",
    "df.head()"
   ]
  },
  {
   "cell_type": "code",
   "execution_count": 15,
   "id": "5a1dc3ab",
   "metadata": {},
   "outputs": [
    {
     "data": {
      "text/plain": [
       "143"
      ]
     },
     "execution_count": 15,
     "metadata": {},
     "output_type": "execute_result"
    }
   ],
   "source": [
    "#cantidad de duplicados por la columna ID\n",
    "df.duplicated(['ID']).sum()\n"
   ]
  },
  {
   "cell_type": "code",
   "execution_count": 16,
   "id": "f40f0372",
   "metadata": {},
   "outputs": [],
   "source": [
    "df = df.sort_values(by=['ID', 'Data inici de contracte o col·locació'], ascending=False)\n"
   ]
  },
  {
   "cell_type": "code",
   "execution_count": 17,
   "id": "a7ae5e94",
   "metadata": {},
   "outputs": [
    {
     "data": {
      "text/html": [
       "<div>\n",
       "<style scoped>\n",
       "    .dataframe tbody tr th:only-of-type {\n",
       "        vertical-align: middle;\n",
       "    }\n",
       "\n",
       "    .dataframe tbody tr th {\n",
       "        vertical-align: top;\n",
       "    }\n",
       "\n",
       "    .dataframe thead th {\n",
       "        text-align: right;\n",
       "    }\n",
       "</style>\n",
       "<table border=\"1\" class=\"dataframe\">\n",
       "  <thead>\n",
       "    <tr style=\"text-align: right;\">\n",
       "      <th></th>\n",
       "      <th>ID</th>\n",
       "      <th>Estat</th>\n",
       "      <th>Data inici de contracte o col·locació</th>\n",
       "    </tr>\n",
       "  </thead>\n",
       "  <tbody>\n",
       "    <tr>\n",
       "      <th>954</th>\n",
       "      <td>f3df28a7-263c-adc9-b014-5df777fa7700</td>\n",
       "      <td>Acceptada</td>\n",
       "      <td>2022-05-15</td>\n",
       "    </tr>\n",
       "    <tr>\n",
       "      <th>985</th>\n",
       "      <td>f3df28a7-263c-adc9-b014-5df777fa7700</td>\n",
       "      <td>Acceptada</td>\n",
       "      <td>2022-01-02</td>\n",
       "    </tr>\n",
       "    <tr>\n",
       "      <th>87</th>\n",
       "      <td>f3df28a7-263c-adc9-b014-5df777fa7700</td>\n",
       "      <td>Acceptada</td>\n",
       "      <td>2021-06-04</td>\n",
       "    </tr>\n",
       "    <tr>\n",
       "      <th>783</th>\n",
       "      <td>f3df28a7-263c-adc9-b014-5df777fa7700</td>\n",
       "      <td>Acceptada</td>\n",
       "      <td>NaT</td>\n",
       "    </tr>\n",
       "    <tr>\n",
       "      <th>918</th>\n",
       "      <td>f3df28a7-263c-adc9-b014-5df777fa7700</td>\n",
       "      <td>Acceptada</td>\n",
       "      <td>NaT</td>\n",
       "    </tr>\n",
       "  </tbody>\n",
       "</table>\n",
       "</div>"
      ],
      "text/plain": [
       "                                       ID      Estat  \\\n",
       "954  f3df28a7-263c-adc9-b014-5df777fa7700  Acceptada   \n",
       "985  f3df28a7-263c-adc9-b014-5df777fa7700  Acceptada   \n",
       "87   f3df28a7-263c-adc9-b014-5df777fa7700  Acceptada   \n",
       "783  f3df28a7-263c-adc9-b014-5df777fa7700  Acceptada   \n",
       "918  f3df28a7-263c-adc9-b014-5df777fa7700  Acceptada   \n",
       "\n",
       "    Data inici de contracte o col·locació  \n",
       "954                            2022-05-15  \n",
       "985                            2022-01-02  \n",
       "87                             2021-06-04  \n",
       "783                                   NaT  \n",
       "918                                   NaT  "
      ]
     },
     "execution_count": 17,
     "metadata": {},
     "output_type": "execute_result"
    }
   ],
   "source": [
    "df.head()"
   ]
  },
  {
   "cell_type": "code",
   "execution_count": 18,
   "id": "8811aa0d",
   "metadata": {},
   "outputs": [],
   "source": [
    "# Elimina los duplicados, manteniendo solo el primer registro\n",
    "df = df.drop_duplicates(subset=['ID'], keep='first') "
   ]
  },
  {
   "cell_type": "code",
   "execution_count": 19,
   "id": "b588aedc",
   "metadata": {},
   "outputs": [
    {
     "data": {
      "text/plain": [
       "0"
      ]
     },
     "execution_count": 19,
     "metadata": {},
     "output_type": "execute_result"
    }
   ],
   "source": [
    "#duplicados en ID\n",
    "df.duplicated(['ID']).sum()"
   ]
  },
  {
   "cell_type": "code",
   "execution_count": 20,
   "id": "9b317aaa",
   "metadata": {},
   "outputs": [
    {
     "data": {
      "text/html": [
       "<div>\n",
       "<style scoped>\n",
       "    .dataframe tbody tr th:only-of-type {\n",
       "        vertical-align: middle;\n",
       "    }\n",
       "\n",
       "    .dataframe tbody tr th {\n",
       "        vertical-align: top;\n",
       "    }\n",
       "\n",
       "    .dataframe thead th {\n",
       "        text-align: right;\n",
       "    }\n",
       "</style>\n",
       "<table border=\"1\" class=\"dataframe\">\n",
       "  <thead>\n",
       "    <tr style=\"text-align: right;\">\n",
       "      <th></th>\n",
       "      <th>ID</th>\n",
       "      <th>Estat</th>\n",
       "      <th>Data inici de contracte o col·locació</th>\n",
       "    </tr>\n",
       "  </thead>\n",
       "  <tbody>\n",
       "    <tr>\n",
       "      <th>954</th>\n",
       "      <td>f3df28a7-263c-adc9-b014-5df777fa7700</td>\n",
       "      <td>Acceptada</td>\n",
       "      <td>2022-05-15</td>\n",
       "    </tr>\n",
       "    <tr>\n",
       "      <th>955</th>\n",
       "      <td>f239a3c4-c428-3ce1-ec5a-5ce6862fc33c</td>\n",
       "      <td>Acceptada</td>\n",
       "      <td>2022-05-23</td>\n",
       "    </tr>\n",
       "    <tr>\n",
       "      <th>1100</th>\n",
       "      <td>ee94feb1-9faf-014c-7827-620508e2e108</td>\n",
       "      <td>Acceptada</td>\n",
       "      <td>2022-10-24</td>\n",
       "    </tr>\n",
       "    <tr>\n",
       "      <th>920</th>\n",
       "      <td>ede6d171-45ca-6835-e369-601d10976d94</td>\n",
       "      <td>Acceptada</td>\n",
       "      <td>NaT</td>\n",
       "    </tr>\n",
       "    <tr>\n",
       "      <th>749</th>\n",
       "      <td>e3e8045e-e684-b056-3187-5bf7c92c95f0</td>\n",
       "      <td>Acceptada</td>\n",
       "      <td>2022-03-21</td>\n",
       "    </tr>\n",
       "  </tbody>\n",
       "</table>\n",
       "</div>"
      ],
      "text/plain": [
       "                                        ID      Estat  \\\n",
       "954   f3df28a7-263c-adc9-b014-5df777fa7700  Acceptada   \n",
       "955   f239a3c4-c428-3ce1-ec5a-5ce6862fc33c  Acceptada   \n",
       "1100  ee94feb1-9faf-014c-7827-620508e2e108  Acceptada   \n",
       "920   ede6d171-45ca-6835-e369-601d10976d94  Acceptada   \n",
       "749   e3e8045e-e684-b056-3187-5bf7c92c95f0  Acceptada   \n",
       "\n",
       "     Data inici de contracte o col·locació  \n",
       "954                             2022-05-15  \n",
       "955                             2022-05-23  \n",
       "1100                            2022-10-24  \n",
       "920                                    NaT  \n",
       "749                             2022-03-21  "
      ]
     },
     "execution_count": 20,
     "metadata": {},
     "output_type": "execute_result"
    }
   ],
   "source": [
    "#eliminar filas con nulls en ID\n",
    "df=df.dropna(subset=['ID'])\n",
    "df.head()"
   ]
  },
  {
   "cell_type": "code",
   "execution_count": 21,
   "id": "daf21553",
   "metadata": {},
   "outputs": [],
   "source": [
    "df=df[[ 'ID','Data inici de contracte o col·locació']]"
   ]
  },
  {
   "cell_type": "code",
   "execution_count": 22,
   "id": "e9ecc881",
   "metadata": {},
   "outputs": [
    {
     "data": {
      "text/plain": [
       "ID                                       0.0\n",
       "Data inici de contracte o col·locació    5.0\n",
       "dtype: float64"
      ]
     },
     "execution_count": 22,
     "metadata": {},
     "output_type": "execute_result"
    }
   ],
   "source": [
    "df.isnull().sum()/df.shape[0]*100"
   ]
  },
  {
   "cell_type": "code",
   "execution_count": 25,
   "id": "35530810",
   "metadata": {},
   "outputs": [],
   "source": [
    "#pasar df a csv\n",
    "df.to_csv ('Candidatures_final.csv',index=False,encoding='utf-8')"
   ]
  }
 ],
 "metadata": {
  "kernelspec": {
   "display_name": "Python 3 (ipykernel)",
   "language": "python",
   "name": "python3"
  },
  "language_info": {
   "codemirror_mode": {
    "name": "ipython",
    "version": 3
   },
   "file_extension": ".py",
   "mimetype": "text/x-python",
   "name": "python",
   "nbconvert_exporter": "python",
   "pygments_lexer": "ipython3",
   "version": "3.8.10"
  },
  "nbTranslate": {
   "displayLangs": [
    "*"
   ],
   "hotkey": "alt-t",
   "langInMainMenu": true,
   "sourceLang": "en",
   "targetLang": "fr",
   "useGoogleTranslate": true
  }
 },
 "nbformat": 4,
 "nbformat_minor": 5
}
