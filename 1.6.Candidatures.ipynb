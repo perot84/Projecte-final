{
 "cells": [
  {
   "cell_type": "markdown",
   "id": "d5db8cdd",
   "metadata": {},
   "source": [
    "Aquesta base de dades recull les diferents candidatures a llocs de feina i quina persona hi ha accedit.\n",
    "\n",
    "En aquest cas mantenim tan sols la columna **ata d’inici de contracte** més recent per posteriorment calcular el temps que ha trigat la persona a trobar feina."
   ]
  },
  {
   "cell_type": "code",
   "execution_count": 1,
   "id": "48668d88",
   "metadata": {},
   "outputs": [],
   "source": [
    "import pandas as pd"
   ]
  },
  {
   "cell_type": "code",
   "execution_count": 2,
   "id": "40107272",
   "metadata": {},
   "outputs": [],
   "source": [
    "df=pd.read_csv ('Candidatures.csv',encoding='utf-8',sep=';')\n",
    "df_dic=pd.read_csv('Dict.csv',encoding='utf-8',sep=',')"
   ]
  },
  {
   "cell_type": "code",
   "execution_count": 3,
   "id": "2eb7df9a",
   "metadata": {},
   "outputs": [
    {
     "data": {
      "text/html": [
       "<div>\n",
       "<style scoped>\n",
       "    .dataframe tbody tr th:only-of-type {\n",
       "        vertical-align: middle;\n",
       "    }\n",
       "\n",
       "    .dataframe tbody tr th {\n",
       "        vertical-align: top;\n",
       "    }\n",
       "\n",
       "    .dataframe thead th {\n",
       "        text-align: right;\n",
       "    }\n",
       "</style>\n",
       "<table border=\"1\" class=\"dataframe\">\n",
       "  <thead>\n",
       "    <tr style=\"text-align: right;\">\n",
       "      <th></th>\n",
       "      <th>stic_job_applications_contactscontacts_ida</th>\n",
       "      <th>Estat</th>\n",
       "      <th>Data inici de contracte o col·locació</th>\n",
       "    </tr>\n",
       "  </thead>\n",
       "  <tbody>\n",
       "    <tr>\n",
       "      <th>0</th>\n",
       "      <td>704479ea-d2a7-181c-b77b-5db827b9a0ea</td>\n",
       "      <td>Acceptada</td>\n",
       "      <td>19/11/2018</td>\n",
       "    </tr>\n",
       "    <tr>\n",
       "      <th>1</th>\n",
       "      <td>1d7ef175-9a25-2d41-3f92-5ebcfb9c2d92</td>\n",
       "      <td>Acceptada</td>\n",
       "      <td>22/04/2021</td>\n",
       "    </tr>\n",
       "    <tr>\n",
       "      <th>2</th>\n",
       "      <td>d7366cf1-3ddd-9d0f-8809-5db6c6aab2e3</td>\n",
       "      <td>Acceptada</td>\n",
       "      <td>31/12/2019</td>\n",
       "    </tr>\n",
       "    <tr>\n",
       "      <th>3</th>\n",
       "      <td>1c7da56d-7fe8-9075-871e-5e0dc54da398</td>\n",
       "      <td>Presentada</td>\n",
       "      <td>NaN</td>\n",
       "    </tr>\n",
       "    <tr>\n",
       "      <th>4</th>\n",
       "      <td>c1142452-aaf4-4e8b-dd93-5fd336468e08</td>\n",
       "      <td>Prevista presentació</td>\n",
       "      <td>NaN</td>\n",
       "    </tr>\n",
       "  </tbody>\n",
       "</table>\n",
       "</div>"
      ],
      "text/plain": [
       "  stic_job_applications_contactscontacts_ida                 Estat  \\\n",
       "0       704479ea-d2a7-181c-b77b-5db827b9a0ea             Acceptada   \n",
       "1       1d7ef175-9a25-2d41-3f92-5ebcfb9c2d92             Acceptada   \n",
       "2       d7366cf1-3ddd-9d0f-8809-5db6c6aab2e3             Acceptada   \n",
       "3       1c7da56d-7fe8-9075-871e-5e0dc54da398            Presentada   \n",
       "4       c1142452-aaf4-4e8b-dd93-5fd336468e08  Prevista presentació   \n",
       "\n",
       "  Data inici de contracte o col·locació  \n",
       "0                            19/11/2018  \n",
       "1                            22/04/2021  \n",
       "2                            31/12/2019  \n",
       "3                                   NaN  \n",
       "4                                   NaN  "
      ]
     },
     "execution_count": 3,
     "metadata": {},
     "output_type": "execute_result"
    }
   ],
   "source": [
    "#seleccionem columnes\n",
    "df=df[['stic_job_applications_contactscontacts_ida','Estat','Data inici de contracte o col·locació']]\n",
    "df.head()"
   ]
  },
  {
   "cell_type": "code",
   "execution_count": 4,
   "id": "d51434cc",
   "metadata": {},
   "outputs": [],
   "source": [
    "#cambiar nombre stic_job_applications_contactscontacts_ida a ID\n",
    "df.rename(columns={'stic_job_applications_contactscontacts_ida':'ID'},inplace=True)\n"
   ]
  },
  {
   "cell_type": "code",
   "execution_count": 5,
   "id": "1d0f56aa",
   "metadata": {},
   "outputs": [
    {
     "data": {
      "text/html": [
       "<div>\n",
       "<style scoped>\n",
       "    .dataframe tbody tr th:only-of-type {\n",
       "        vertical-align: middle;\n",
       "    }\n",
       "\n",
       "    .dataframe tbody tr th {\n",
       "        vertical-align: top;\n",
       "    }\n",
       "\n",
       "    .dataframe thead th {\n",
       "        text-align: right;\n",
       "    }\n",
       "</style>\n",
       "<table border=\"1\" class=\"dataframe\">\n",
       "  <thead>\n",
       "    <tr style=\"text-align: right;\">\n",
       "      <th></th>\n",
       "      <th>ID</th>\n",
       "      <th>Estat</th>\n",
       "      <th>Data inici de contracte o col·locació</th>\n",
       "    </tr>\n",
       "  </thead>\n",
       "  <tbody>\n",
       "    <tr>\n",
       "      <th>0</th>\n",
       "      <td>704479ea-d2a7-181c-b77b-5db827b9a0ea</td>\n",
       "      <td>Acceptada</td>\n",
       "      <td>19/11/2018</td>\n",
       "    </tr>\n",
       "    <tr>\n",
       "      <th>1</th>\n",
       "      <td>1d7ef175-9a25-2d41-3f92-5ebcfb9c2d92</td>\n",
       "      <td>Acceptada</td>\n",
       "      <td>22/04/2021</td>\n",
       "    </tr>\n",
       "    <tr>\n",
       "      <th>2</th>\n",
       "      <td>d7366cf1-3ddd-9d0f-8809-5db6c6aab2e3</td>\n",
       "      <td>Acceptada</td>\n",
       "      <td>31/12/2019</td>\n",
       "    </tr>\n",
       "    <tr>\n",
       "      <th>3</th>\n",
       "      <td>1c7da56d-7fe8-9075-871e-5e0dc54da398</td>\n",
       "      <td>Presentada</td>\n",
       "      <td>NaN</td>\n",
       "    </tr>\n",
       "    <tr>\n",
       "      <th>4</th>\n",
       "      <td>c1142452-aaf4-4e8b-dd93-5fd336468e08</td>\n",
       "      <td>Prevista presentació</td>\n",
       "      <td>NaN</td>\n",
       "    </tr>\n",
       "  </tbody>\n",
       "</table>\n",
       "</div>"
      ],
      "text/plain": [
       "                                     ID                 Estat  \\\n",
       "0  704479ea-d2a7-181c-b77b-5db827b9a0ea             Acceptada   \n",
       "1  1d7ef175-9a25-2d41-3f92-5ebcfb9c2d92             Acceptada   \n",
       "2  d7366cf1-3ddd-9d0f-8809-5db6c6aab2e3             Acceptada   \n",
       "3  1c7da56d-7fe8-9075-871e-5e0dc54da398            Presentada   \n",
       "4  c1142452-aaf4-4e8b-dd93-5fd336468e08  Prevista presentació   \n",
       "\n",
       "  Data inici de contracte o col·locació  \n",
       "0                            19/11/2018  \n",
       "1                            22/04/2021  \n",
       "2                            31/12/2019  \n",
       "3                                   NaN  \n",
       "4                                   NaN  "
      ]
     },
     "execution_count": 5,
     "metadata": {},
     "output_type": "execute_result"
    }
   ],
   "source": [
    "#a partir del diccionari creat anteriorment, cambiem la ID per tal d'evitar duplicats\n",
    "df['ID'] = df['ID'].map(df_dic.set_index('ID')['IDN'])\n",
    "df.head()"
   ]
  },
  {
   "cell_type": "markdown",
   "id": "fe83e9af",
   "metadata": {},
   "source": [
    "Ja que hi ha diferents estats en que pot estar una candidatura seleccionarem només aquelles acceptades ja que representen les ofertes de feina a les quals s'ha presentat una persona i que ha guanyat la plaça"
   ]
  },
  {
   "cell_type": "code",
   "execution_count": 6,
   "id": "cedb5363",
   "metadata": {},
   "outputs": [],
   "source": [
    "#seleccionem files amb estat = Acceptada en df per escollir les dades de candidatures acceptades i eliminem la columna\n",
    "df=df[df['Estat']=='Acceptada']\n",
    "df=df[['ID', 'Data inici de contracte o col·locació']]"
   ]
  },
  {
   "cell_type": "code",
   "execution_count": 7,
   "id": "5676b520",
   "metadata": {},
   "outputs": [
    {
     "data": {
      "text/plain": [
       "<AxesSubplot: title={'center': 'Dades incompletes a Candidatures'}>"
      ]
     },
     "execution_count": 7,
     "metadata": {},
     "output_type": "execute_result"
    },
    {
     "data": {
      "image/png": "[encoded data removed]",
      "text/plain": [
       "<Figure size 1800x720 with 3 Axes>"
      ]
     },
     "metadata": {
      "needs_background": "light"
     },
     "output_type": "display_data"
    }
   ],
   "source": [
    "#detectem el nombre de dades inclompletes\n",
    "import missingno as msno\n",
    "import matplotlib.pyplot as plt\n",
    "# Visualize the number of missing values as a bar chart\n",
    "plt.title('Dades incompletes a Candidatures',fontsize=40, pad=30)\n",
    "msno.bar(df, color='b',fontsize=20)"
   ]
  },
  {
   "cell_type": "code",
   "execution_count": 9,
   "id": "a91c13c6",
   "metadata": {},
   "outputs": [],
   "source": [
    "#eliminar nulls a Data inici de contracte\n",
    "df=df.dropna(subset=['Data inici de contracte o col·locació'])"
   ]
  },
  {
   "cell_type": "code",
   "execution_count": 10,
   "id": "9b317aaa",
   "metadata": {},
   "outputs": [],
   "source": [
    "#eliminem files amb nulls a ID\n",
    "df=df.dropna(subset=['ID'])\n"
   ]
  },
  {
   "cell_type": "code",
   "execution_count": 11,
   "id": "8671ce93",
   "metadata": {},
   "outputs": [
    {
     "name": "stderr",
     "output_type": "stream",
     "text": [
      "/tmp/ipykernel_13769/1420689585.py:2: UserWarning: Parsing dates in DD/MM/YYYY format when dayfirst=False (the default) was specified. This may lead to inconsistently parsed dates! Specify a format to ensure consistent parsing.\n",
      "  df['Data inici de contracte o col·locació']=pd.to_datetime(df['Data inici de contracte o col·locació'])\n"
     ]
    }
   ],
   "source": [
    "#Data inici de contracte o col·locació a datatime\n",
    "df['Data inici de contracte o col·locació']=pd.to_datetime(df['Data inici de contracte o col·locació'])"
   ]
  },
  {
   "cell_type": "markdown",
   "id": "b68cbd96",
   "metadata": {},
   "source": [
    "Per tal de recollir la última data d'inici de contracte mantindrem només la més recent"
   ]
  },
  {
   "cell_type": "code",
   "execution_count": 12,
   "id": "f40f0372",
   "metadata": {},
   "outputs": [],
   "source": [
    "#Mantenim els valors de Data inici de contracte o col·locació més recent\n",
    "#ordenem per Data inici de contracte o col·locació\n",
    "df = df.sort_values(by=['ID', 'Data inici de contracte o col·locació'], ascending=False)"
   ]
  },
  {
   "cell_type": "code",
   "execution_count": 13,
   "id": "8811aa0d",
   "metadata": {},
   "outputs": [],
   "source": [
    "# Eliminem els duplicats, mantenint només el primer registre\n",
    "df = df.drop_duplicates(subset=['ID'], keep='first') "
   ]
  },
  {
   "cell_type": "code",
   "execution_count": 14,
   "id": "daf21553",
   "metadata": {},
   "outputs": [],
   "source": [
    "#seleccionem columnes\n",
    "df=df[[ 'ID','Data inici de contracte o col·locació']]"
   ]
  },
  {
   "cell_type": "code",
   "execution_count": 15,
   "id": "69b2ca0b",
   "metadata": {},
   "outputs": [
    {
     "data": {
      "text/html": [
       "<div>\n",
       "<style scoped>\n",
       "    .dataframe tbody tr th:only-of-type {\n",
       "        vertical-align: middle;\n",
       "    }\n",
       "\n",
       "    .dataframe tbody tr th {\n",
       "        vertical-align: top;\n",
       "    }\n",
       "\n",
       "    .dataframe thead th {\n",
       "        text-align: right;\n",
       "    }\n",
       "</style>\n",
       "<table border=\"1\" class=\"dataframe\">\n",
       "  <thead>\n",
       "    <tr style=\"text-align: right;\">\n",
       "      <th></th>\n",
       "      <th>ID</th>\n",
       "      <th>Data inici de contracte o col·locació</th>\n",
       "    </tr>\n",
       "  </thead>\n",
       "  <tbody>\n",
       "    <tr>\n",
       "      <th>954</th>\n",
       "      <td>f3df28a7-263c-adc9-b014-5df777fa7700</td>\n",
       "      <td>2022-05-15</td>\n",
       "    </tr>\n",
       "    <tr>\n",
       "      <th>955</th>\n",
       "      <td>f239a3c4-c428-3ce1-ec5a-5ce6862fc33c</td>\n",
       "      <td>2022-05-23</td>\n",
       "    </tr>\n",
       "    <tr>\n",
       "      <th>1100</th>\n",
       "      <td>ee94feb1-9faf-014c-7827-620508e2e108</td>\n",
       "      <td>2022-10-24</td>\n",
       "    </tr>\n",
       "    <tr>\n",
       "      <th>749</th>\n",
       "      <td>e3e8045e-e684-b056-3187-5bf7c92c95f0</td>\n",
       "      <td>2022-03-21</td>\n",
       "    </tr>\n",
       "    <tr>\n",
       "      <th>338</th>\n",
       "      <td>e159ebc7-8ae6-7d4e-d55b-5e0dc54d0640</td>\n",
       "      <td>2019-09-17</td>\n",
       "    </tr>\n",
       "  </tbody>\n",
       "</table>\n",
       "</div>"
      ],
      "text/plain": [
       "                                        ID  \\\n",
       "954   f3df28a7-263c-adc9-b014-5df777fa7700   \n",
       "955   f239a3c4-c428-3ce1-ec5a-5ce6862fc33c   \n",
       "1100  ee94feb1-9faf-014c-7827-620508e2e108   \n",
       "749   e3e8045e-e684-b056-3187-5bf7c92c95f0   \n",
       "338   e159ebc7-8ae6-7d4e-d55b-5e0dc54d0640   \n",
       "\n",
       "     Data inici de contracte o col·locació  \n",
       "954                             2022-05-15  \n",
       "955                             2022-05-23  \n",
       "1100                            2022-10-24  \n",
       "749                             2022-03-21  \n",
       "338                             2019-09-17  "
      ]
     },
     "execution_count": 15,
     "metadata": {},
     "output_type": "execute_result"
    }
   ],
   "source": [
    "df.head()"
   ]
  },
  {
   "cell_type": "code",
   "execution_count": 16,
   "id": "35530810",
   "metadata": {},
   "outputs": [],
   "source": [
    "#pasar df a csv\n",
    "df.to_csv ('Candidatures_final.csv',index=False,encoding='utf-8')"
   ]
  }
 ],
 "metadata": {
  "kernelspec": {
   "display_name": "Python 3 (ipykernel)",
   "language": "python",
   "name": "python3"
  },
  "language_info": {
   "codemirror_mode": {
    "name": "ipython",
    "version": 3
   },
   "file_extension": ".py",
   "mimetype": "text/x-python",
   "name": "python",
   "nbconvert_exporter": "python",
   "pygments_lexer": "ipython3",
   "version": "3.8.10"
  },
  "nbTranslate": {
   "displayLangs": [
    "*"
   ],
   "hotkey": "alt-t",
   "langInMainMenu": true,
   "sourceLang": "en",
   "targetLang": "fr",
   "useGoogleTranslate": true
  }
 },
 "nbformat": 4,
 "nbformat_minor": 5
}
