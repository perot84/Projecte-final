{
 "cells": [
  {
   "cell_type": "markdown",
   "id": "28d0b02e",
   "metadata": {},
   "source": [
    "Aquesta base de dades recull les diferents accions de seguiment que ha rebut la persona\n",
    "\n",
    "En aquest cas hem creat la columna:\n",
    "\n",
    "a.\t**Quantitat de seguiments** on hem recollit el nombre de seguiments que ha rebut la persona.\n"
   ]
  },
  {
   "cell_type": "code",
   "execution_count": 1,
   "id": "543f6449",
   "metadata": {},
   "outputs": [],
   "source": [
    "import pandas as pd"
   ]
  },
  {
   "cell_type": "code",
   "execution_count": 2,
   "id": "aa08c676",
   "metadata": {},
   "outputs": [],
   "source": [
    "df=pd.read_csv ('Seguiments.csv',encoding='utf-8',sep=';')\n",
    "df_dic=pd.read_csv('Dict.csv',encoding='utf-8',sep=',')"
   ]
  },
  {
   "cell_type": "code",
   "execution_count": 3,
   "id": "7ce48ed4",
   "metadata": {},
   "outputs": [
    {
     "data": {
      "text/html": [
       "<div>\n",
       "<style scoped>\n",
       "    .dataframe tbody tr th:only-of-type {\n",
       "        vertical-align: middle;\n",
       "    }\n",
       "\n",
       "    .dataframe tbody tr th {\n",
       "        vertical-align: top;\n",
       "    }\n",
       "\n",
       "    .dataframe thead th {\n",
       "        text-align: right;\n",
       "    }\n",
       "</style>\n",
       "<table border=\"1\" class=\"dataframe\">\n",
       "  <thead>\n",
       "    <tr style=\"text-align: right;\">\n",
       "      <th></th>\n",
       "      <th>Tipus</th>\n",
       "      <th>Durada (en minuts)</th>\n",
       "      <th>Participants</th>\n",
       "      <th>Persona.1</th>\n",
       "      <th>Canal de gestió</th>\n",
       "      <th>Projecte</th>\n",
       "      <th>Àmbit</th>\n",
       "      <th>Estat</th>\n",
       "    </tr>\n",
       "  </thead>\n",
       "  <tbody>\n",
       "    <tr>\n",
       "      <th>0</th>\n",
       "      <td>Tramitació</td>\n",
       "      <td>20.0</td>\n",
       "      <td>Família</td>\n",
       "      <td>608d79c8-45a4-8ef8-7ef7-5bb4a0cc3130</td>\n",
       "      <td>Telèfon</td>\n",
       "      <td>Acompanyament a famílies</td>\n",
       "      <td>NaN</td>\n",
       "      <td>Realitzat</td>\n",
       "    </tr>\n",
       "    <tr>\n",
       "      <th>1</th>\n",
       "      <td>Entrevista inicial</td>\n",
       "      <td>60.0</td>\n",
       "      <td>Persona atesa</td>\n",
       "      <td>14d55c40-355c-dd4c-4459-5e0dc50e2155</td>\n",
       "      <td>NaN</td>\n",
       "      <td>NaN</td>\n",
       "      <td>NaN</td>\n",
       "      <td>Derivat a</td>\n",
       "    </tr>\n",
       "    <tr>\n",
       "      <th>2</th>\n",
       "      <td>Tramitació</td>\n",
       "      <td>45.0</td>\n",
       "      <td>Persona atesa</td>\n",
       "      <td>505fc9eb-9f43-7354-1df5-5bb4a039c663</td>\n",
       "      <td>Presencial a l'entitat</td>\n",
       "      <td>Acompanyament a la Persona amb Sordesa</td>\n",
       "      <td>NaN</td>\n",
       "      <td>Realitzat</td>\n",
       "    </tr>\n",
       "    <tr>\n",
       "      <th>3</th>\n",
       "      <td>Altres</td>\n",
       "      <td>5.0</td>\n",
       "      <td>Persona atesa</td>\n",
       "      <td>5c7050e6-4049-2055-0cef-5f83361fa157</td>\n",
       "      <td>Correu electrònic</td>\n",
       "      <td>Acompanyament a la Persona amb Sordesa</td>\n",
       "      <td>NaN</td>\n",
       "      <td>Realitzat</td>\n",
       "    </tr>\n",
       "    <tr>\n",
       "      <th>4</th>\n",
       "      <td>Tramitació</td>\n",
       "      <td>5.0</td>\n",
       "      <td>Família</td>\n",
       "      <td>217ec157-74cd-8caf-664c-5f06d2bbc38b</td>\n",
       "      <td>Correu electrònic</td>\n",
       "      <td>Acompanyament a famílies</td>\n",
       "      <td>NaN</td>\n",
       "      <td>Realitzat</td>\n",
       "    </tr>\n",
       "  </tbody>\n",
       "</table>\n",
       "</div>"
      ],
      "text/plain": [
       "                Tipus  Durada (en minuts)   Participants  \\\n",
       "0          Tramitació                20.0        Família   \n",
       "1  Entrevista inicial                60.0  Persona atesa   \n",
       "2          Tramitació                45.0  Persona atesa   \n",
       "3              Altres                 5.0  Persona atesa   \n",
       "4          Tramitació                 5.0        Família   \n",
       "\n",
       "                              Persona.1         Canal de gestió  \\\n",
       "0  608d79c8-45a4-8ef8-7ef7-5bb4a0cc3130                 Telèfon   \n",
       "1  14d55c40-355c-dd4c-4459-5e0dc50e2155                     NaN   \n",
       "2  505fc9eb-9f43-7354-1df5-5bb4a039c663  Presencial a l'entitat   \n",
       "3  5c7050e6-4049-2055-0cef-5f83361fa157       Correu electrònic   \n",
       "4  217ec157-74cd-8caf-664c-5f06d2bbc38b       Correu electrònic   \n",
       "\n",
       "                                 Projecte Àmbit      Estat  \n",
       "0                Acompanyament a famílies   NaN  Realitzat  \n",
       "1                                     NaN   NaN  Derivat a  \n",
       "2  Acompanyament a la Persona amb Sordesa   NaN  Realitzat  \n",
       "3  Acompanyament a la Persona amb Sordesa   NaN  Realitzat  \n",
       "4                Acompanyament a famílies   NaN  Realitzat  "
      ]
     },
     "execution_count": 3,
     "metadata": {},
     "output_type": "execute_result"
    }
   ],
   "source": [
    "#seleccionem columnes amb informació interessant\n",
    "df=df[['Tipus','Durada (en minuts)','Participants','Persona.1','Canal de gestió','Projecte','Àmbit','Estat']]\n",
    "df.head()"
   ]
  },
  {
   "cell_type": "code",
   "execution_count": 4,
   "id": "ad1575e1",
   "metadata": {},
   "outputs": [],
   "source": [
    "#cambem Persona.1 a ID\n",
    "df.rename(columns={'Persona.1':'ID'},inplace=True)"
   ]
  },
  {
   "cell_type": "code",
   "execution_count": 5,
   "id": "a27fd551",
   "metadata": {},
   "outputs": [
    {
     "data": {
      "text/html": [
       "<div>\n",
       "<style scoped>\n",
       "    .dataframe tbody tr th:only-of-type {\n",
       "        vertical-align: middle;\n",
       "    }\n",
       "\n",
       "    .dataframe tbody tr th {\n",
       "        vertical-align: top;\n",
       "    }\n",
       "\n",
       "    .dataframe thead th {\n",
       "        text-align: right;\n",
       "    }\n",
       "</style>\n",
       "<table border=\"1\" class=\"dataframe\">\n",
       "  <thead>\n",
       "    <tr style=\"text-align: right;\">\n",
       "      <th></th>\n",
       "      <th>Tipus</th>\n",
       "      <th>Durada (en minuts)</th>\n",
       "      <th>Participants</th>\n",
       "      <th>ID</th>\n",
       "      <th>Canal de gestió</th>\n",
       "      <th>Projecte</th>\n",
       "      <th>Àmbit</th>\n",
       "      <th>Estat</th>\n",
       "    </tr>\n",
       "  </thead>\n",
       "  <tbody>\n",
       "    <tr>\n",
       "      <th>0</th>\n",
       "      <td>Tramitació</td>\n",
       "      <td>20.0</td>\n",
       "      <td>Família</td>\n",
       "      <td>608d79c8-45a4-8ef8-7ef7-5bb4a0cc3130</td>\n",
       "      <td>Telèfon</td>\n",
       "      <td>Acompanyament a famílies</td>\n",
       "      <td>NaN</td>\n",
       "      <td>Realitzat</td>\n",
       "    </tr>\n",
       "    <tr>\n",
       "      <th>1</th>\n",
       "      <td>Entrevista inicial</td>\n",
       "      <td>60.0</td>\n",
       "      <td>Persona atesa</td>\n",
       "      <td>14d55c40-355c-dd4c-4459-5e0dc50e2155</td>\n",
       "      <td>NaN</td>\n",
       "      <td>NaN</td>\n",
       "      <td>NaN</td>\n",
       "      <td>Derivat a</td>\n",
       "    </tr>\n",
       "    <tr>\n",
       "      <th>2</th>\n",
       "      <td>Tramitació</td>\n",
       "      <td>45.0</td>\n",
       "      <td>Persona atesa</td>\n",
       "      <td>505fc9eb-9f43-7354-1df5-5bb4a039c663</td>\n",
       "      <td>Presencial a l'entitat</td>\n",
       "      <td>Acompanyament a la Persona amb Sordesa</td>\n",
       "      <td>NaN</td>\n",
       "      <td>Realitzat</td>\n",
       "    </tr>\n",
       "    <tr>\n",
       "      <th>3</th>\n",
       "      <td>Altres</td>\n",
       "      <td>5.0</td>\n",
       "      <td>Persona atesa</td>\n",
       "      <td>5c7050e6-4049-2055-0cef-5f83361fa157</td>\n",
       "      <td>Correu electrònic</td>\n",
       "      <td>Acompanyament a la Persona amb Sordesa</td>\n",
       "      <td>NaN</td>\n",
       "      <td>Realitzat</td>\n",
       "    </tr>\n",
       "    <tr>\n",
       "      <th>4</th>\n",
       "      <td>Tramitació</td>\n",
       "      <td>5.0</td>\n",
       "      <td>Família</td>\n",
       "      <td>217ec157-74cd-8caf-664c-5f06d2bbc38b</td>\n",
       "      <td>Correu electrònic</td>\n",
       "      <td>Acompanyament a famílies</td>\n",
       "      <td>NaN</td>\n",
       "      <td>Realitzat</td>\n",
       "    </tr>\n",
       "  </tbody>\n",
       "</table>\n",
       "</div>"
      ],
      "text/plain": [
       "                Tipus  Durada (en minuts)   Participants  \\\n",
       "0          Tramitació                20.0        Família   \n",
       "1  Entrevista inicial                60.0  Persona atesa   \n",
       "2          Tramitació                45.0  Persona atesa   \n",
       "3              Altres                 5.0  Persona atesa   \n",
       "4          Tramitació                 5.0        Família   \n",
       "\n",
       "                                     ID         Canal de gestió  \\\n",
       "0  608d79c8-45a4-8ef8-7ef7-5bb4a0cc3130                 Telèfon   \n",
       "1  14d55c40-355c-dd4c-4459-5e0dc50e2155                     NaN   \n",
       "2  505fc9eb-9f43-7354-1df5-5bb4a039c663  Presencial a l'entitat   \n",
       "3  5c7050e6-4049-2055-0cef-5f83361fa157       Correu electrònic   \n",
       "4  217ec157-74cd-8caf-664c-5f06d2bbc38b       Correu electrònic   \n",
       "\n",
       "                                 Projecte Àmbit      Estat  \n",
       "0                Acompanyament a famílies   NaN  Realitzat  \n",
       "1                                     NaN   NaN  Derivat a  \n",
       "2  Acompanyament a la Persona amb Sordesa   NaN  Realitzat  \n",
       "3  Acompanyament a la Persona amb Sordesa   NaN  Realitzat  \n",
       "4                Acompanyament a famílies   NaN  Realitzat  "
      ]
     },
     "execution_count": 5,
     "metadata": {},
     "output_type": "execute_result"
    }
   ],
   "source": [
    "#a partir del diccionari creat anteriorment, cambiem la ID per tal d'evitar duplicats\n",
    "df['ID'] = df['ID'].map(df_dic.set_index('ID')['IDN'])\n",
    "df.head()"
   ]
  },
  {
   "cell_type": "code",
   "execution_count": 6,
   "id": "deea03fb",
   "metadata": {},
   "outputs": [
    {
     "data": {
      "text/plain": [
       "<AxesSubplot: title={'center': 'Dades incompletes a Seguiments'}>"
      ]
     },
     "execution_count": 6,
     "metadata": {},
     "output_type": "execute_result"
    },
    {
     "data": {
      "image/png": "[encoded data removed]",
      "text/plain": [
       "<Figure size 1800x720 with 3 Axes>"
      ]
     },
     "metadata": {
      "needs_background": "light"
     },
     "output_type": "display_data"
    }
   ],
   "source": [
    "#detectem el nombre de dades inclompletes\n",
    "import missingno as msno\n",
    "import matplotlib.pyplot as plt\n",
    "# Visualize the number of missing values as a bar chart\n",
    "plt.title('Dades incompletes a Seguiments',fontsize=40, pad=30)\n",
    "msno.bar(df, color='b',fontsize=20)"
   ]
  },
  {
   "cell_type": "code",
   "execution_count": 7,
   "id": "1493338f",
   "metadata": {},
   "outputs": [
    {
     "data": {
      "text/plain": [
       "59.0465872156013"
      ]
     },
     "execution_count": 7,
     "metadata": {},
     "output_type": "execute_result"
    }
   ],
   "source": [
    "#percentatge de valors 0 a Durada en minuts, ens serveix per detectar possibles nans a la columna\n",
    "(df['Durada (en minuts)'] == 0).sum()/df.shape[0]*100\n"
   ]
  },
  {
   "cell_type": "markdown",
   "id": "c2b2b9f0",
   "metadata": {},
   "source": [
    "Degut a la baixa quantitat de dades recollides de diferents variables i que el 59% de les dades de la durada és 0,ens quedem només amb les columnes ID i Tipus"
   ]
  },
  {
   "cell_type": "code",
   "execution_count": 8,
   "id": "e963478c",
   "metadata": {},
   "outputs": [],
   "source": [
    "#seleccionem columnes\n",
    "df=df[['ID','Tipus']]"
   ]
  },
  {
   "cell_type": "markdown",
   "id": "5ba4cb46",
   "metadata": {},
   "source": [
    "No ens interessa tant el tipus de seguiment que ha realitzat la persona com la quanitat de seguiments que ha realizat"
   ]
  },
  {
   "cell_type": "code",
   "execution_count": 9,
   "id": "73f15786",
   "metadata": {},
   "outputs": [],
   "source": [
    "#creem columna amb quantitat de sessions per ID\n",
    "counts = df['ID'].value_counts()\n",
    "df['Quantitat seguiments'] = df['ID'].map(counts)"
   ]
  },
  {
   "cell_type": "code",
   "execution_count": 10,
   "id": "26ffd048",
   "metadata": {},
   "outputs": [],
   "source": [
    "#eliminem la columna Tipus\n",
    "df=df[['ID','Quantitat seguiments']]"
   ]
  },
  {
   "cell_type": "code",
   "execution_count": 11,
   "id": "ab735f10",
   "metadata": {},
   "outputs": [
    {
     "data": {
      "text/html": [
       "<div>\n",
       "<style scoped>\n",
       "    .dataframe tbody tr th:only-of-type {\n",
       "        vertical-align: middle;\n",
       "    }\n",
       "\n",
       "    .dataframe tbody tr th {\n",
       "        vertical-align: top;\n",
       "    }\n",
       "\n",
       "    .dataframe thead th {\n",
       "        text-align: right;\n",
       "    }\n",
       "</style>\n",
       "<table border=\"1\" class=\"dataframe\">\n",
       "  <thead>\n",
       "    <tr style=\"text-align: right;\">\n",
       "      <th></th>\n",
       "      <th>ID</th>\n",
       "      <th>Quantitat seguiments</th>\n",
       "    </tr>\n",
       "  </thead>\n",
       "  <tbody>\n",
       "    <tr>\n",
       "      <th>0</th>\n",
       "      <td>608d79c8-45a4-8ef8-7ef7-5bb4a0cc3130</td>\n",
       "      <td>1.0</td>\n",
       "    </tr>\n",
       "    <tr>\n",
       "      <th>1</th>\n",
       "      <td>14d55c40-355c-dd4c-4459-5e0dc50e2155</td>\n",
       "      <td>29.0</td>\n",
       "    </tr>\n",
       "    <tr>\n",
       "      <th>2</th>\n",
       "      <td>505fc9eb-9f43-7354-1df5-5bb4a039c663</td>\n",
       "      <td>3.0</td>\n",
       "    </tr>\n",
       "    <tr>\n",
       "      <th>3</th>\n",
       "      <td>5c7050e6-4049-2055-0cef-5f83361fa157</td>\n",
       "      <td>7.0</td>\n",
       "    </tr>\n",
       "    <tr>\n",
       "      <th>4</th>\n",
       "      <td>217ec157-74cd-8caf-664c-5f06d2bbc38b</td>\n",
       "      <td>6.0</td>\n",
       "    </tr>\n",
       "  </tbody>\n",
       "</table>\n",
       "</div>"
      ],
      "text/plain": [
       "                                     ID  Quantitat seguiments\n",
       "0  608d79c8-45a4-8ef8-7ef7-5bb4a0cc3130                   1.0\n",
       "1  14d55c40-355c-dd4c-4459-5e0dc50e2155                  29.0\n",
       "2  505fc9eb-9f43-7354-1df5-5bb4a039c663                   3.0\n",
       "3  5c7050e6-4049-2055-0cef-5f83361fa157                   7.0\n",
       "4  217ec157-74cd-8caf-664c-5f06d2bbc38b                   6.0"
      ]
     },
     "execution_count": 11,
     "metadata": {},
     "output_type": "execute_result"
    }
   ],
   "source": [
    "#eliminem dupicats per ID\n",
    "df.drop_duplicates(subset='ID',keep='first',inplace=True)\n",
    "df.head()"
   ]
  },
  {
   "cell_type": "code",
   "execution_count": 12,
   "id": "01ba6781",
   "metadata": {},
   "outputs": [],
   "source": [
    "#eliminar nulls a la columna ID\n",
    "df.dropna(subset=['ID'],inplace=True)"
   ]
  },
  {
   "cell_type": "code",
   "execution_count": 13,
   "id": "1734e284",
   "metadata": {},
   "outputs": [],
   "source": [
    "#pasar df a csv\n",
    "df.to_csv ('Seguiments_final.csv',index=False,encoding='utf-8')"
   ]
  }
 ],
 "metadata": {
  "kernelspec": {
   "display_name": "Python 3 (ipykernel)",
   "language": "python",
   "name": "python3"
  },
  "language_info": {
   "codemirror_mode": {
    "name": "ipython",
    "version": 3
   },
   "file_extension": ".py",
   "mimetype": "text/x-python",
   "name": "python",
   "nbconvert_exporter": "python",
   "pygments_lexer": "ipython3",
   "version": "3.8.10"
  },
  "nbTranslate": {
   "displayLangs": [
    "*"
   ],
   "hotkey": "alt-t",
   "langInMainMenu": true,
   "sourceLang": "en",
   "targetLang": "fr",
   "useGoogleTranslate": true
  }
 },
 "nbformat": 4,
 "nbformat_minor": 5
}
