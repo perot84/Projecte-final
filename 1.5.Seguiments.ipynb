{
 "cells": [
  {
   "cell_type": "markdown",
   "id": "28d0b02e",
   "metadata": {},
   "source": [
    "Aquesta base de dades recull les diferents accions de seguiment que ha rebut la persona\n",
    "\n",
    "En aquest cas hem creat la columna:\n",
    "\n",
    "a.\t**Quantitat de seguiments** on hem recollit el nombre de seguiments que ha rebut la persona.\n"
   ]
  },
  {
   "cell_type": "code",
   "execution_count": 1,
   "id": "543f6449",
   "metadata": {},
   "outputs": [],
   "source": [
    "import pandas as pd"
   ]
  },
  {
   "cell_type": "code",
   "execution_count": 2,
   "id": "aa08c676",
   "metadata": {},
   "outputs": [],
   "source": [
    "df=pd.read_csv ('Seguiments.csv',encoding='utf-8',sep=';')\n",
    "df_i=df\n",
    "df_dic=pd.read_csv('Dict.csv',encoding='utf-8',sep=',')"
   ]
  },
  {
   "cell_type": "code",
   "execution_count": 3,
   "id": "7ce48ed4",
   "metadata": {},
   "outputs": [
    {
     "data": {
      "text/html": [
       "<div>\n",
       "<style scoped>\n",
       "    .dataframe tbody tr th:only-of-type {\n",
       "        vertical-align: middle;\n",
       "    }\n",
       "\n",
       "    .dataframe tbody tr th {\n",
       "        vertical-align: top;\n",
       "    }\n",
       "\n",
       "    .dataframe thead th {\n",
       "        text-align: right;\n",
       "    }\n",
       "</style>\n",
       "<table border=\"1\" class=\"dataframe\">\n",
       "  <thead>\n",
       "    <tr style=\"text-align: right;\">\n",
       "      <th></th>\n",
       "      <th>Tipus</th>\n",
       "      <th>Durada (en minuts)</th>\n",
       "      <th>Participants</th>\n",
       "      <th>Persona.1</th>\n",
       "      <th>Canal de gestió</th>\n",
       "      <th>Projecte</th>\n",
       "      <th>Àmbit</th>\n",
       "      <th>Estat</th>\n",
       "    </tr>\n",
       "  </thead>\n",
       "  <tbody>\n",
       "    <tr>\n",
       "      <th>0</th>\n",
       "      <td>Tramitació</td>\n",
       "      <td>20.0</td>\n",
       "      <td>Família</td>\n",
       "      <td>608d79c8-45a4-8ef8-7ef7-5bb4a0cc3130</td>\n",
       "      <td>Telèfon</td>\n",
       "      <td>Acompanyament a famílies</td>\n",
       "      <td>NaN</td>\n",
       "      <td>Realitzat</td>\n",
       "    </tr>\n",
       "    <tr>\n",
       "      <th>1</th>\n",
       "      <td>Entrevista inicial</td>\n",
       "      <td>60.0</td>\n",
       "      <td>Persona atesa</td>\n",
       "      <td>14d55c40-355c-dd4c-4459-5e0dc50e2155</td>\n",
       "      <td>NaN</td>\n",
       "      <td>NaN</td>\n",
       "      <td>NaN</td>\n",
       "      <td>Derivat a</td>\n",
       "    </tr>\n",
       "    <tr>\n",
       "      <th>2</th>\n",
       "      <td>Tramitació</td>\n",
       "      <td>45.0</td>\n",
       "      <td>Persona atesa</td>\n",
       "      <td>505fc9eb-9f43-7354-1df5-5bb4a039c663</td>\n",
       "      <td>Presencial a l'entitat</td>\n",
       "      <td>Acompanyament a la Persona amb Sordesa</td>\n",
       "      <td>NaN</td>\n",
       "      <td>Realitzat</td>\n",
       "    </tr>\n",
       "    <tr>\n",
       "      <th>3</th>\n",
       "      <td>Altres</td>\n",
       "      <td>5.0</td>\n",
       "      <td>Persona atesa</td>\n",
       "      <td>5c7050e6-4049-2055-0cef-5f83361fa157</td>\n",
       "      <td>Correu electrònic</td>\n",
       "      <td>Acompanyament a la Persona amb Sordesa</td>\n",
       "      <td>NaN</td>\n",
       "      <td>Realitzat</td>\n",
       "    </tr>\n",
       "    <tr>\n",
       "      <th>4</th>\n",
       "      <td>Tramitació</td>\n",
       "      <td>5.0</td>\n",
       "      <td>Família</td>\n",
       "      <td>217ec157-74cd-8caf-664c-5f06d2bbc38b</td>\n",
       "      <td>Correu electrònic</td>\n",
       "      <td>Acompanyament a famílies</td>\n",
       "      <td>NaN</td>\n",
       "      <td>Realitzat</td>\n",
       "    </tr>\n",
       "  </tbody>\n",
       "</table>\n",
       "</div>"
      ],
      "text/plain": [
       "                Tipus  Durada (en minuts)   Participants  \\\n",
       "0          Tramitació                20.0        Família   \n",
       "1  Entrevista inicial                60.0  Persona atesa   \n",
       "2          Tramitació                45.0  Persona atesa   \n",
       "3              Altres                 5.0  Persona atesa   \n",
       "4          Tramitació                 5.0        Família   \n",
       "\n",
       "                              Persona.1         Canal de gestió  \\\n",
       "0  608d79c8-45a4-8ef8-7ef7-5bb4a0cc3130                 Telèfon   \n",
       "1  14d55c40-355c-dd4c-4459-5e0dc50e2155                     NaN   \n",
       "2  505fc9eb-9f43-7354-1df5-5bb4a039c663  Presencial a l'entitat   \n",
       "3  5c7050e6-4049-2055-0cef-5f83361fa157       Correu electrònic   \n",
       "4  217ec157-74cd-8caf-664c-5f06d2bbc38b       Correu electrònic   \n",
       "\n",
       "                                 Projecte Àmbit      Estat  \n",
       "0                Acompanyament a famílies   NaN  Realitzat  \n",
       "1                                     NaN   NaN  Derivat a  \n",
       "2  Acompanyament a la Persona amb Sordesa   NaN  Realitzat  \n",
       "3  Acompanyament a la Persona amb Sordesa   NaN  Realitzat  \n",
       "4                Acompanyament a famílies   NaN  Realitzat  "
      ]
     },
     "execution_count": 3,
     "metadata": {},
     "output_type": "execute_result"
    }
   ],
   "source": [
    "df=df[['Tipus','Durada (en minuts)','Participants','Persona.1','Canal de gestió','Projecte','Àmbit','Estat']]\n",
    "df.head()"
   ]
  },
  {
   "cell_type": "code",
   "execution_count": 4,
   "id": "ad1575e1",
   "metadata": {},
   "outputs": [
    {
     "name": "stderr",
     "output_type": "stream",
     "text": [
      "/tmp/ipykernel_13674/4002328447.py:2: SettingWithCopyWarning: \n",
      "A value is trying to be set on a copy of a slice from a DataFrame\n",
      "\n",
      "See the caveats in the documentation: https://pandas.pydata.org/pandas-docs/stable/user_guide/indexing.html#returning-a-view-versus-a-copy\n",
      "  df.rename(columns={'Persona.1':'ID'},inplace=True)\n"
     ]
    }
   ],
   "source": [
    "#cambiar nombre Persona.1 a ID\n",
    "df.rename(columns={'Persona.1':'ID'},inplace=True)"
   ]
  },
  {
   "cell_type": "code",
   "execution_count": 5,
   "id": "a27fd551",
   "metadata": {},
   "outputs": [
    {
     "name": "stderr",
     "output_type": "stream",
     "text": [
      "/tmp/ipykernel_13674/1252908069.py:1: SettingWithCopyWarning: \n",
      "A value is trying to be set on a copy of a slice from a DataFrame.\n",
      "Try using .loc[row_indexer,col_indexer] = value instead\n",
      "\n",
      "See the caveats in the documentation: https://pandas.pydata.org/pandas-docs/stable/user_guide/indexing.html#returning-a-view-versus-a-copy\n",
      "  df['ID'] = df['ID'].map(df_dic.set_index('ID')['IDN'])\n"
     ]
    },
    {
     "data": {
      "text/html": [
       "<div>\n",
       "<style scoped>\n",
       "    .dataframe tbody tr th:only-of-type {\n",
       "        vertical-align: middle;\n",
       "    }\n",
       "\n",
       "    .dataframe tbody tr th {\n",
       "        vertical-align: top;\n",
       "    }\n",
       "\n",
       "    .dataframe thead th {\n",
       "        text-align: right;\n",
       "    }\n",
       "</style>\n",
       "<table border=\"1\" class=\"dataframe\">\n",
       "  <thead>\n",
       "    <tr style=\"text-align: right;\">\n",
       "      <th></th>\n",
       "      <th>Tipus</th>\n",
       "      <th>Durada (en minuts)</th>\n",
       "      <th>Participants</th>\n",
       "      <th>ID</th>\n",
       "      <th>Canal de gestió</th>\n",
       "      <th>Projecte</th>\n",
       "      <th>Àmbit</th>\n",
       "      <th>Estat</th>\n",
       "    </tr>\n",
       "  </thead>\n",
       "  <tbody>\n",
       "    <tr>\n",
       "      <th>0</th>\n",
       "      <td>Tramitació</td>\n",
       "      <td>20.0</td>\n",
       "      <td>Família</td>\n",
       "      <td>608d79c8-45a4-8ef8-7ef7-5bb4a0cc3130</td>\n",
       "      <td>Telèfon</td>\n",
       "      <td>Acompanyament a famílies</td>\n",
       "      <td>NaN</td>\n",
       "      <td>Realitzat</td>\n",
       "    </tr>\n",
       "    <tr>\n",
       "      <th>1</th>\n",
       "      <td>Entrevista inicial</td>\n",
       "      <td>60.0</td>\n",
       "      <td>Persona atesa</td>\n",
       "      <td>14d55c40-355c-dd4c-4459-5e0dc50e2155</td>\n",
       "      <td>NaN</td>\n",
       "      <td>NaN</td>\n",
       "      <td>NaN</td>\n",
       "      <td>Derivat a</td>\n",
       "    </tr>\n",
       "    <tr>\n",
       "      <th>2</th>\n",
       "      <td>Tramitació</td>\n",
       "      <td>45.0</td>\n",
       "      <td>Persona atesa</td>\n",
       "      <td>505fc9eb-9f43-7354-1df5-5bb4a039c663</td>\n",
       "      <td>Presencial a l'entitat</td>\n",
       "      <td>Acompanyament a la Persona amb Sordesa</td>\n",
       "      <td>NaN</td>\n",
       "      <td>Realitzat</td>\n",
       "    </tr>\n",
       "    <tr>\n",
       "      <th>3</th>\n",
       "      <td>Altres</td>\n",
       "      <td>5.0</td>\n",
       "      <td>Persona atesa</td>\n",
       "      <td>5c7050e6-4049-2055-0cef-5f83361fa157</td>\n",
       "      <td>Correu electrònic</td>\n",
       "      <td>Acompanyament a la Persona amb Sordesa</td>\n",
       "      <td>NaN</td>\n",
       "      <td>Realitzat</td>\n",
       "    </tr>\n",
       "    <tr>\n",
       "      <th>4</th>\n",
       "      <td>Tramitació</td>\n",
       "      <td>5.0</td>\n",
       "      <td>Família</td>\n",
       "      <td>217ec157-74cd-8caf-664c-5f06d2bbc38b</td>\n",
       "      <td>Correu electrònic</td>\n",
       "      <td>Acompanyament a famílies</td>\n",
       "      <td>NaN</td>\n",
       "      <td>Realitzat</td>\n",
       "    </tr>\n",
       "  </tbody>\n",
       "</table>\n",
       "</div>"
      ],
      "text/plain": [
       "                Tipus  Durada (en minuts)   Participants  \\\n",
       "0          Tramitació                20.0        Família   \n",
       "1  Entrevista inicial                60.0  Persona atesa   \n",
       "2          Tramitació                45.0  Persona atesa   \n",
       "3              Altres                 5.0  Persona atesa   \n",
       "4          Tramitació                 5.0        Família   \n",
       "\n",
       "                                     ID         Canal de gestió  \\\n",
       "0  608d79c8-45a4-8ef8-7ef7-5bb4a0cc3130                 Telèfon   \n",
       "1  14d55c40-355c-dd4c-4459-5e0dc50e2155                     NaN   \n",
       "2  505fc9eb-9f43-7354-1df5-5bb4a039c663  Presencial a l'entitat   \n",
       "3  5c7050e6-4049-2055-0cef-5f83361fa157       Correu electrònic   \n",
       "4  217ec157-74cd-8caf-664c-5f06d2bbc38b       Correu electrònic   \n",
       "\n",
       "                                 Projecte Àmbit      Estat  \n",
       "0                Acompanyament a famílies   NaN  Realitzat  \n",
       "1                                     NaN   NaN  Derivat a  \n",
       "2  Acompanyament a la Persona amb Sordesa   NaN  Realitzat  \n",
       "3  Acompanyament a la Persona amb Sordesa   NaN  Realitzat  \n",
       "4                Acompanyament a famílies   NaN  Realitzat  "
      ]
     },
     "execution_count": 5,
     "metadata": {},
     "output_type": "execute_result"
    }
   ],
   "source": [
    "df['ID'] = df['ID'].map(df_dic.set_index('ID')['IDN'])\n",
    "df.head()"
   ]
  },
  {
   "cell_type": "code",
   "execution_count": 6,
   "id": "ef4dda50",
   "metadata": {},
   "outputs": [
    {
     "data": {
      "image/png": "[encoded data removed]",
      "text/plain": [
       "<Figure size 576x432 with 1 Axes>"
      ]
     },
     "metadata": {
      "needs_background": "light"
     },
     "output_type": "display_data"
    }
   ],
   "source": [
    "#ver porcentaje de nans por columna\n",
    "df.isnull().sum()/df.shape[0]*100\n",
    "#graficar porcentaje de nans\n",
    "import matplotlib.pyplot as plt\n",
    "plt.figure(figsize=(8,6))\n",
    "df.isnull().sum()/df.shape[0]*100\n",
    "plt.bar(df.columns,df.isnull().sum()/df.shape[0]*100)\n",
    "plt.xticks(rotation=45, ha='right')\n",
    "plt.title('Porcentatje de valors faltants en les variables de persones')\n",
    "plt.show()"
   ]
  },
  {
   "cell_type": "code",
   "execution_count": 7,
   "id": "1493338f",
   "metadata": {},
   "outputs": [
    {
     "data": {
      "text/plain": [
       "59.78062157221207"
      ]
     },
     "execution_count": 7,
     "metadata": {},
     "output_type": "execute_result"
    }
   ],
   "source": [
    "(df['Durada (en minuts)'] == 0).sum()/df.shape[0]*100\n"
   ]
  },
  {
   "cell_type": "code",
   "execution_count": 8,
   "id": "e963478c",
   "metadata": {},
   "outputs": [
    {
     "data": {
      "text/html": [
       "<div>\n",
       "<style scoped>\n",
       "    .dataframe tbody tr th:only-of-type {\n",
       "        vertical-align: middle;\n",
       "    }\n",
       "\n",
       "    .dataframe tbody tr th {\n",
       "        vertical-align: top;\n",
       "    }\n",
       "\n",
       "    .dataframe thead th {\n",
       "        text-align: right;\n",
       "    }\n",
       "</style>\n",
       "<table border=\"1\" class=\"dataframe\">\n",
       "  <thead>\n",
       "    <tr style=\"text-align: right;\">\n",
       "      <th></th>\n",
       "      <th>ID</th>\n",
       "      <th>Tipus</th>\n",
       "    </tr>\n",
       "  </thead>\n",
       "  <tbody>\n",
       "    <tr>\n",
       "      <th>0</th>\n",
       "      <td>608d79c8-45a4-8ef8-7ef7-5bb4a0cc3130</td>\n",
       "      <td>Tramitació</td>\n",
       "    </tr>\n",
       "    <tr>\n",
       "      <th>1</th>\n",
       "      <td>14d55c40-355c-dd4c-4459-5e0dc50e2155</td>\n",
       "      <td>Entrevista inicial</td>\n",
       "    </tr>\n",
       "    <tr>\n",
       "      <th>2</th>\n",
       "      <td>505fc9eb-9f43-7354-1df5-5bb4a039c663</td>\n",
       "      <td>Tramitació</td>\n",
       "    </tr>\n",
       "    <tr>\n",
       "      <th>3</th>\n",
       "      <td>5c7050e6-4049-2055-0cef-5f83361fa157</td>\n",
       "      <td>Altres</td>\n",
       "    </tr>\n",
       "    <tr>\n",
       "      <th>4</th>\n",
       "      <td>217ec157-74cd-8caf-664c-5f06d2bbc38b</td>\n",
       "      <td>Tramitació</td>\n",
       "    </tr>\n",
       "  </tbody>\n",
       "</table>\n",
       "</div>"
      ],
      "text/plain": [
       "                                     ID               Tipus\n",
       "0  608d79c8-45a4-8ef8-7ef7-5bb4a0cc3130          Tramitació\n",
       "1  14d55c40-355c-dd4c-4459-5e0dc50e2155  Entrevista inicial\n",
       "2  505fc9eb-9f43-7354-1df5-5bb4a039c663          Tramitació\n",
       "3  5c7050e6-4049-2055-0cef-5f83361fa157              Altres\n",
       "4  217ec157-74cd-8caf-664c-5f06d2bbc38b          Tramitació"
      ]
     },
     "execution_count": 8,
     "metadata": {},
     "output_type": "execute_result"
    }
   ],
   "source": [
    "df=df[['ID','Tipus']]\n",
    "df.head()"
   ]
  },
  {
   "cell_type": "code",
   "execution_count": 9,
   "id": "73f15786",
   "metadata": {},
   "outputs": [
    {
     "data": {
      "text/html": [
       "<div>\n",
       "<style scoped>\n",
       "    .dataframe tbody tr th:only-of-type {\n",
       "        vertical-align: middle;\n",
       "    }\n",
       "\n",
       "    .dataframe tbody tr th {\n",
       "        vertical-align: top;\n",
       "    }\n",
       "\n",
       "    .dataframe thead th {\n",
       "        text-align: right;\n",
       "    }\n",
       "</style>\n",
       "<table border=\"1\" class=\"dataframe\">\n",
       "  <thead>\n",
       "    <tr style=\"text-align: right;\">\n",
       "      <th></th>\n",
       "      <th>ID</th>\n",
       "      <th>Tipus</th>\n",
       "      <th>Quantitat seguiments</th>\n",
       "    </tr>\n",
       "  </thead>\n",
       "  <tbody>\n",
       "    <tr>\n",
       "      <th>0</th>\n",
       "      <td>608d79c8-45a4-8ef8-7ef7-5bb4a0cc3130</td>\n",
       "      <td>Tramitació</td>\n",
       "      <td>1.0</td>\n",
       "    </tr>\n",
       "    <tr>\n",
       "      <th>1</th>\n",
       "      <td>14d55c40-355c-dd4c-4459-5e0dc50e2155</td>\n",
       "      <td>Entrevista inicial</td>\n",
       "      <td>28.0</td>\n",
       "    </tr>\n",
       "    <tr>\n",
       "      <th>2</th>\n",
       "      <td>505fc9eb-9f43-7354-1df5-5bb4a039c663</td>\n",
       "      <td>Tramitació</td>\n",
       "      <td>3.0</td>\n",
       "    </tr>\n",
       "    <tr>\n",
       "      <th>3</th>\n",
       "      <td>5c7050e6-4049-2055-0cef-5f83361fa157</td>\n",
       "      <td>Altres</td>\n",
       "      <td>7.0</td>\n",
       "    </tr>\n",
       "    <tr>\n",
       "      <th>4</th>\n",
       "      <td>217ec157-74cd-8caf-664c-5f06d2bbc38b</td>\n",
       "      <td>Tramitació</td>\n",
       "      <td>6.0</td>\n",
       "    </tr>\n",
       "  </tbody>\n",
       "</table>\n",
       "</div>"
      ],
      "text/plain": [
       "                                     ID               Tipus  \\\n",
       "0  608d79c8-45a4-8ef8-7ef7-5bb4a0cc3130          Tramitació   \n",
       "1  14d55c40-355c-dd4c-4459-5e0dc50e2155  Entrevista inicial   \n",
       "2  505fc9eb-9f43-7354-1df5-5bb4a039c663          Tramitació   \n",
       "3  5c7050e6-4049-2055-0cef-5f83361fa157              Altres   \n",
       "4  217ec157-74cd-8caf-664c-5f06d2bbc38b          Tramitació   \n",
       "\n",
       "   Quantitat seguiments  \n",
       "0                   1.0  \n",
       "1                  28.0  \n",
       "2                   3.0  \n",
       "3                   7.0  \n",
       "4                   6.0  "
      ]
     },
     "execution_count": 9,
     "metadata": {},
     "output_type": "execute_result"
    }
   ],
   "source": [
    "#crear columna con cantidad de sesiones por ID\n",
    "counts = df['ID'].value_counts()\n",
    "df['Quantitat seguiments'] = df['ID'].map(counts)\n",
    "df.head()"
   ]
  },
  {
   "cell_type": "code",
   "execution_count": 10,
   "id": "26ffd048",
   "metadata": {},
   "outputs": [
    {
     "data": {
      "text/html": [
       "<div>\n",
       "<style scoped>\n",
       "    .dataframe tbody tr th:only-of-type {\n",
       "        vertical-align: middle;\n",
       "    }\n",
       "\n",
       "    .dataframe tbody tr th {\n",
       "        vertical-align: top;\n",
       "    }\n",
       "\n",
       "    .dataframe thead th {\n",
       "        text-align: right;\n",
       "    }\n",
       "</style>\n",
       "<table border=\"1\" class=\"dataframe\">\n",
       "  <thead>\n",
       "    <tr style=\"text-align: right;\">\n",
       "      <th></th>\n",
       "      <th>ID</th>\n",
       "      <th>Quantitat seguiments</th>\n",
       "    </tr>\n",
       "  </thead>\n",
       "  <tbody>\n",
       "    <tr>\n",
       "      <th>0</th>\n",
       "      <td>608d79c8-45a4-8ef8-7ef7-5bb4a0cc3130</td>\n",
       "      <td>1.0</td>\n",
       "    </tr>\n",
       "    <tr>\n",
       "      <th>1</th>\n",
       "      <td>14d55c40-355c-dd4c-4459-5e0dc50e2155</td>\n",
       "      <td>28.0</td>\n",
       "    </tr>\n",
       "    <tr>\n",
       "      <th>2</th>\n",
       "      <td>505fc9eb-9f43-7354-1df5-5bb4a039c663</td>\n",
       "      <td>3.0</td>\n",
       "    </tr>\n",
       "    <tr>\n",
       "      <th>3</th>\n",
       "      <td>5c7050e6-4049-2055-0cef-5f83361fa157</td>\n",
       "      <td>7.0</td>\n",
       "    </tr>\n",
       "    <tr>\n",
       "      <th>4</th>\n",
       "      <td>217ec157-74cd-8caf-664c-5f06d2bbc38b</td>\n",
       "      <td>6.0</td>\n",
       "    </tr>\n",
       "  </tbody>\n",
       "</table>\n",
       "</div>"
      ],
      "text/plain": [
       "                                     ID  Quantitat seguiments\n",
       "0  608d79c8-45a4-8ef8-7ef7-5bb4a0cc3130                   1.0\n",
       "1  14d55c40-355c-dd4c-4459-5e0dc50e2155                  28.0\n",
       "2  505fc9eb-9f43-7354-1df5-5bb4a039c663                   3.0\n",
       "3  5c7050e6-4049-2055-0cef-5f83361fa157                   7.0\n",
       "4  217ec157-74cd-8caf-664c-5f06d2bbc38b                   6.0"
      ]
     },
     "execution_count": 10,
     "metadata": {},
     "output_type": "execute_result"
    }
   ],
   "source": [
    "df=df[['ID','Quantitat seguiments']]\n",
    "df.head()"
   ]
  },
  {
   "cell_type": "code",
   "execution_count": 11,
   "id": "ab735f10",
   "metadata": {},
   "outputs": [
    {
     "data": {
      "text/html": [
       "<div>\n",
       "<style scoped>\n",
       "    .dataframe tbody tr th:only-of-type {\n",
       "        vertical-align: middle;\n",
       "    }\n",
       "\n",
       "    .dataframe tbody tr th {\n",
       "        vertical-align: top;\n",
       "    }\n",
       "\n",
       "    .dataframe thead th {\n",
       "        text-align: right;\n",
       "    }\n",
       "</style>\n",
       "<table border=\"1\" class=\"dataframe\">\n",
       "  <thead>\n",
       "    <tr style=\"text-align: right;\">\n",
       "      <th></th>\n",
       "      <th>ID</th>\n",
       "      <th>Quantitat seguiments</th>\n",
       "    </tr>\n",
       "  </thead>\n",
       "  <tbody>\n",
       "    <tr>\n",
       "      <th>0</th>\n",
       "      <td>608d79c8-45a4-8ef8-7ef7-5bb4a0cc3130</td>\n",
       "      <td>1.0</td>\n",
       "    </tr>\n",
       "    <tr>\n",
       "      <th>1</th>\n",
       "      <td>14d55c40-355c-dd4c-4459-5e0dc50e2155</td>\n",
       "      <td>28.0</td>\n",
       "    </tr>\n",
       "    <tr>\n",
       "      <th>2</th>\n",
       "      <td>505fc9eb-9f43-7354-1df5-5bb4a039c663</td>\n",
       "      <td>3.0</td>\n",
       "    </tr>\n",
       "    <tr>\n",
       "      <th>3</th>\n",
       "      <td>5c7050e6-4049-2055-0cef-5f83361fa157</td>\n",
       "      <td>7.0</td>\n",
       "    </tr>\n",
       "    <tr>\n",
       "      <th>4</th>\n",
       "      <td>217ec157-74cd-8caf-664c-5f06d2bbc38b</td>\n",
       "      <td>6.0</td>\n",
       "    </tr>\n",
       "  </tbody>\n",
       "</table>\n",
       "</div>"
      ],
      "text/plain": [
       "                                     ID  Quantitat seguiments\n",
       "0  608d79c8-45a4-8ef8-7ef7-5bb4a0cc3130                   1.0\n",
       "1  14d55c40-355c-dd4c-4459-5e0dc50e2155                  28.0\n",
       "2  505fc9eb-9f43-7354-1df5-5bb4a039c663                   3.0\n",
       "3  5c7050e6-4049-2055-0cef-5f83361fa157                   7.0\n",
       "4  217ec157-74cd-8caf-664c-5f06d2bbc38b                   6.0"
      ]
     },
     "execution_count": 11,
     "metadata": {},
     "output_type": "execute_result"
    }
   ],
   "source": [
    "#eliminar dupicados por ID\n",
    "df.drop_duplicates(subset='ID',keep='first',inplace=True)\n",
    "df.head()"
   ]
  },
  {
   "cell_type": "code",
   "execution_count": 12,
   "id": "ae69a647",
   "metadata": {},
   "outputs": [
    {
     "data": {
      "text/plain": [
       "ID                      1\n",
       "Quantitat seguiments    1\n",
       "dtype: int64"
      ]
     },
     "execution_count": 12,
     "metadata": {},
     "output_type": "execute_result"
    }
   ],
   "source": [
    "df.isnull().sum()"
   ]
  },
  {
   "cell_type": "code",
   "execution_count": 13,
   "id": "01ba6781",
   "metadata": {},
   "outputs": [],
   "source": [
    "#eliminar nulls en la columna ID\n",
    "df.dropna(subset=['ID'],inplace=True)"
   ]
  },
  {
   "cell_type": "code",
   "execution_count": 16,
   "id": "1734e284",
   "metadata": {},
   "outputs": [],
   "source": [
    "#pasar df a csv\n",
    "df.to_csv ('Seguiments_final.csv',index=False,encoding='utf-8')"
   ]
  }
 ],
 "metadata": {
  "kernelspec": {
   "display_name": "Python 3 (ipykernel)",
   "language": "python",
   "name": "python3"
  },
  "language_info": {
   "codemirror_mode": {
    "name": "ipython",
    "version": 3
   },
   "file_extension": ".py",
   "mimetype": "text/x-python",
   "name": "python",
   "nbconvert_exporter": "python",
   "pygments_lexer": "ipython3",
   "version": "3.8.10"
  },
  "nbTranslate": {
   "displayLangs": [
    "*"
   ],
   "hotkey": "alt-t",
   "langInMainMenu": true,
   "sourceLang": "en",
   "targetLang": "fr",
   "useGoogleTranslate": true
  }
 },
 "nbformat": 4,
 "nbformat_minor": 5
}
